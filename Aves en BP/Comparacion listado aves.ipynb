{
 "cells": [
  {
   "cell_type": "code",
   "execution_count": 4,
   "metadata": {},
   "outputs": [],
   "source": [
    "import pandas as pd\n",
    "\n",
    "# Read the text file into a set\n",
    "excel_BP = pd.read_excel(\"C:\\\\Users\\\\fguarda\\\\OneDrive\\\\Documentos\\\\VS Code\\\\Python\\\\Aves en BP\\\\updated_excel_with_matches.xlsx\")\n",
    "\n",
    "# Load the Excel file\n",
    "excel_araucania = pd.read_excel('C:\\\\Users\\\\fguarda\\\\OneDrive\\\\Documentos\\\\VS Code\\\\Python\\\\Aves en BP\\\\Listado posibles Araucania.xlsx')"
   ]
  },
  {
   "cell_type": "code",
   "execution_count": 5,
   "metadata": {},
   "outputs": [],
   "source": [
    "# Especificar la columna del excel que se quiere comparar con el otro listado\n",
    "column_to_compare='Epíteto específico'"
   ]
  },
  {
   "cell_type": "code",
   "execution_count": 6,
   "metadata": {},
   "outputs": [],
   "source": [
    "## Crear un conjunto con los valores del segundo archivo para una búsqueda rápida\n",
    "values_in_file2 = set(excel_BP[column_to_compare].astype(str))  # Convertir a cadena para evitar problemas de tipo"
   ]
  },
  {
   "cell_type": "code",
   "execution_count": 7,
   "metadata": {},
   "outputs": [],
   "source": [
    "# Create a new column 'matched' with \"Si\" or \"No\" based on whether the value is in the text file\n",
    "excel_araucania['matched'] = ['Si' if str(value) in values_in_file2 else 'No' for value in excel_araucania[column_to_compare]]\n"
   ]
  },
  {
   "cell_type": "code",
   "execution_count": 9,
   "metadata": {},
   "outputs": [],
   "source": [
    "# Output the updated Excel file with the new 'matched' column\n",
    "output_file = 'updated_matches_Araucania_list.xlsx'\n",
    "excel_araucania.to_excel(output_file, index=False)"
   ]
  },
  {
   "cell_type": "code",
   "execution_count": null,
   "metadata": {},
   "outputs": [],
   "source": []
  }
 ],
 "metadata": {
  "kernelspec": {
   "display_name": "base",
   "language": "python",
   "name": "python3"
  },
  "language_info": {
   "codemirror_mode": {
    "name": "ipython",
    "version": 3
   },
   "file_extension": ".py",
   "mimetype": "text/x-python",
   "name": "python",
   "nbconvert_exporter": "python",
   "pygments_lexer": "ipython3",
   "version": "3.12.6"
  }
 },
 "nbformat": 4,
 "nbformat_minor": 2
}
