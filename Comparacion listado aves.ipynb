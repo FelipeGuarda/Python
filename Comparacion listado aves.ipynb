{
 "cells": [
  {
   "cell_type": "code",
   "execution_count": 14,
   "metadata": {},
   "outputs": [],
   "source": [
    "import pandas as pd\n",
    "\n",
    "# Read the text file into a set\n",
    "with open(\"C:\\\\Users\\\\fguarda\\\\OneDrive\\\\Documentos\\\\VS Code\\\\R\\\\Monitoreo acustico\\\\BirdNET_GLOBAL_6K_V2.4_Labels.txt\", 'r') as file:\n",
    "    text_data = set(file.read().splitlines())  # Split lines and store in a set for fast lookup\n",
    "\n",
    "# Load the Excel file\n",
    "excel_data = pd.read_excel('C:\\\\Users\\\\fguarda\\\\OneDrive\\\\Documentos\\\\VS Code\\\\R\\\\Monitoreo acustico\\\\Aves BP Darwin Core.xlsx')"
   ]
  },
  {
   "cell_type": "code",
   "execution_count": 15,
   "metadata": {},
   "outputs": [],
   "source": [
    "# Separar epiteto especifico de cada linea de texto\n",
    "specific_epithet_list = [line.split('_')[0] for line in text_data]\n",
    "text_data_df = pd.DataFrame(specific_epithet_list, columns=['SpecificEpithet'])\n"
   ]
  },
  {
   "cell_type": "code",
   "execution_count": 16,
   "metadata": {},
   "outputs": [],
   "source": [
    "# Especificar la columna del excel que se quiere comparar con el otro listado\n",
    "excel_column_values = excel_data['Epíteto específico'].tolist()"
   ]
  },
  {
   "cell_type": "code",
   "execution_count": 17,
   "metadata": {},
   "outputs": [],
   "source": [
    "# Create a new column 'matched' with \"Si\" or \"No\" based on whether the value is in the text file\n",
    "excel_data['matched'] = ['Si' if str(value) in specific_epithet_list else 'No' for value in excel_column_values]"
   ]
  },
  {
   "cell_type": "code",
   "execution_count": 18,
   "metadata": {},
   "outputs": [],
   "source": [
    "# Output the updated Excel file with the new 'matched' column\n",
    "output_file = 'updated_excel_with_matches.xlsx'\n",
    "excel_data.to_excel(output_file, index=False)"
   ]
  },
  {
   "cell_type": "code",
   "execution_count": null,
   "metadata": {},
   "outputs": [],
   "source": []
  }
 ],
 "metadata": {
  "kernelspec": {
   "display_name": "base",
   "language": "python",
   "name": "python3"
  },
  "language_info": {
   "codemirror_mode": {
    "name": "ipython",
    "version": 3
   },
   "file_extension": ".py",
   "mimetype": "text/x-python",
   "name": "python",
   "nbconvert_exporter": "python",
   "pygments_lexer": "ipython3",
   "version": "3.12.6"
  }
 },
 "nbformat": 4,
 "nbformat_minor": 2
}
