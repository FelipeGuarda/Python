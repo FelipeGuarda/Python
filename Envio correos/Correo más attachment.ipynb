{
 "cells": [
  {
   "cell_type": "code",
   "execution_count": 1,
   "metadata": {},
   "outputs": [],
   "source": [
    "import numpy as np\n",
    "import os\n",
    "import pandas as pd\n",
    "import smtplib\n",
    "from email.mime.multipart import MIMEMultipart\n",
    "from email.mime.text import MIMEText\n",
    "from email.mime.image import MIMEImage\n"
   ]
  },
  {
   "cell_type": "code",
   "execution_count": 2,
   "metadata": {},
   "outputs": [
    {
     "data": {
      "text/plain": [
       "(235, b'2.7.0 Accepted')"
      ]
     },
     "execution_count": 2,
     "metadata": {},
     "output_type": "execute_result"
    }
   ],
   "source": [
    "my_name = \"Felipe Guarda\"\n",
    "sender = \"felipe.guarda@fundacionmaradentro.cl\"\n",
    "password = \"gktl bqus clyv awpm\"\n",
    "server = smtplib.SMTP(\"smtp.gmail.com\", 587)\n",
    "server.ehlo()\n",
    "server.starttls()\n",
    "server.login(sender, password)\n",
    "\n",
    "server = smtplib.SMTP(\"smtp.gmail.com\", 587)\n",
    "server.ehlo()\n",
    "server.starttls()\n",
    "server.login(sender, password)"
   ]
  },
  {
   "cell_type": "code",
   "execution_count": 3,
   "metadata": {},
   "outputs": [],
   "source": [
    "#cargar archivo excel\n",
    "relative_path_excel = os.path.join(\"Correos personalizados Smart Forests 2 new.xlsx\")\n",
    "email_list = pd.read_excel(relative_path_excel)"
   ]
  },
  {
   "cell_type": "code",
   "execution_count": 4,
   "metadata": {},
   "outputs": [],
   "source": [
    "#definir ubicación de imagen\n",
    "image_path = os.path.join(\"Invitacion encuentro Smart Forests II.jpg\")"
   ]
  },
  {
   "cell_type": "code",
   "execution_count": 5,
   "metadata": {},
   "outputs": [],
   "source": [
    "subject = \"[MAR 12 - 15 h INVITACIÓN FMA / Smart Forests] Así será el Encuentro transdisciplinario para la prevención de incendios forestales\"\n",
    "formulario_link = \"https://forms.gle/vzb3tXSBkBR1VhnM8\""
   ]
  },
  {
   "cell_type": "code",
   "execution_count": 6,
   "metadata": {},
   "outputs": [],
   "source": [
    "#Firma FMA \n",
    "firma_html = \"\"\"\n",
    "<table style=\"border:none;border-collapse:collapse\">\n",
    "    <colgroup><col width=\"199\"><col width=\"263\"></colgroup>\n",
    "    <tbody>\n",
    "        <tr style=\"height:0pt\">\n",
    "            <td style=\"border-width:1pt;border-style:solid;border-color:rgb(255,255,255);vertical-align:top;padding:5pt;overflow:hidden\">\n",
    "                <p dir=\"ltr\" style=\"line-height:1.2;margin-top:0pt;margin-bottom:0pt\">\n",
    "                    <a href=\"https://fundacionmaradentro.cl/\" style=\"color:rgb(17,85,204)\" target=\"_blank\">\n",
    "                        <span style=\"font-size:11pt;font-family:Arial,sans-serif;background-color:transparent;vertical-align:baseline\">\n",
    "                            <span style=\"border:none;display:inline-block;overflow:hidden;width:143px;height:57px\">\n",
    "                                <img src=\"https://lh5.googleusercontent.com/iid4MKJZaaxQ_yw9VPMMKcxW3Zopfjg1ZGxX4b9atXRrQfy5uoKXoAzUOi9_95OpnkBIV_VO4Yftzjxh1JwqqE4MOzp1_JkaNkSwt0lQ8FUvXMBsgdynMNRuVQZpfbAHzercV3QF5F9BiRvohl5RG7c\" width=\"143\" height=\"57\" style=\"margin-left:0px;margin-top:0px\" crossorigin=\"\">\n",
    "                            </span>\n",
    "                        </span>\n",
    "                    </a>\n",
    "                </p>\n",
    "            </td>\n",
    "            <td style=\"border-width:1pt;border-style:solid;border-color:rgb(255,255,255);vertical-align:top;padding:5pt;overflow:hidden\">\n",
    "                <p dir=\"ltr\" style=\"line-height:1.2;margin-top:0pt;margin-bottom:0pt\">\n",
    "                    <span style=\"font-size:10pt;font-family:Poppins,sans-serif;background-color:transparent;font-weight:600;vertical-align:baseline\">\n",
    "                        <font color=\"#073763\">Felipe Guarda</font>\n",
    "                    </span>\n",
    "                </p>\n",
    "                <p dir=\"ltr\" style=\"line-height:1.2;margin-top:0pt;margin-bottom:0pt\">\n",
    "                    <b><font color=\"#073763\">Evaluación y Estudios</font></b>\n",
    "                </p>\n",
    "                <p dir=\"ltr\" style=\"line-height:1.2;margin-top:0pt;margin-bottom:0pt\">\n",
    "                    <span style=\"font-size:8pt;font-family:&quot;PT Serif&quot;,serif;background-color:transparent;vertical-align:baseline\">\n",
    "                        <font color=\"#073763\">+56 9 4613 8903&nbsp; |&nbsp; +56 2 2322 4286</font>\n",
    "                    </span>\n",
    "                </p>\n",
    "                <p dir=\"ltr\" style=\"line-height:1.2;margin-top:0pt;margin-bottom:0pt\">\n",
    "                    <span style=\"font-size:8pt;font-family:&quot;PT Serif&quot;,serif;background-color:transparent;vertical-align:baseline\">\n",
    "                        <font color=\"#073763\">Don Carlos 3171 of. C, Las Condes</font>\n",
    "                    </span>\n",
    "                </p>\n",
    "                <p dir=\"ltr\" style=\"line-height:1.2;margin-top:0pt;margin-bottom:0pt\">\n",
    "                    <font color=\"#073763\">\n",
    "                        <a href=\"https://www.instagram.com/fundacionmaradentro/\" target=\"_blank\" style=\"display: inline-block; margin-right: 5px;\">\n",
    "                            <img src=\"https://lh3.googleusercontent.com/RUoI5I9_hPHt7BQP91t3GtsQDV5sxsW_k_RcIFcsUexzxmF8cA2lQyl_OPyTss231Ilo5j1ScFGEgIEivUriUlb8PAaS982GIXewspVkapnUmp5zcRh1tq7-uZBIq-NVHOGYyrt-OFCO6-0XGoySABE\" width=\"12\" height=\"13\" style=\"vertical-align: middle;\" crossorigin=\"\" class=\"CToWUd\" data-bit=\"iit\">\n",
    "                        </a>\n",
    "                        &nbsp; &nbsp;\n",
    "                        <a href=\"https://twitter.com/Fmaradentro\" target=\"_blank\" style=\"display: inline-block; margin-right: 5px;\">\n",
    "                            <img src=\"https://lh6.googleusercontent.com/oXFxZebTIZY4iqYBzjAbuXhBFxz0n_qXXpmfSeStKYA5kZDYjI1Jn7Kn2-ycAN-pUhZn1Mft3IPTizfcigXarcitB3N1pCRsMMC0IEPfwi2uQdUXWZeFCvSeMWfn-u1ex76Ot8HoCdB9T-IMjdyt9MY\" width=\"13\" height=\"13\" style=\"vertical-align: middle;\" crossorigin=\"\" class=\"CToWUd\" data-bit=\"iit\">\n",
    "                        </a>\n",
    "                        &nbsp; &nbsp;\n",
    "                        <a href=\"https://www.facebook.com/fundacionmaradentrochile/\" target=\"_blank\" style=\"display: inline-block; margin-right: 5px;\">\n",
    "                            <img src=\"https://lh6.googleusercontent.com/xOlfsqMbwNT1AhPFaxIJfbGqsEx1GtGVxvZbP5ML253TsLldngg47KBMksLHrjOMO_xPcGuIezLZ-XX5hv7qYJ9p2MUaPKcBCnRkbh3PEwX_Np1yCacutCquPvLgVAXIzowVBvHog7prV-TtCOBPvCk\" width=\"6\" height=\"13\" style=\"vertical-align: middle;\" crossorigin=\"\" class=\"CToWUd\" data-bit=\"iit\">\n",
    "                        </a>\n",
    "                        &nbsp; &nbsp;\n",
    "                        <a href=\"https://www.youtube.com/channel/UCs1CXtC6RGFjKp7RqaWPTAQ\" target=\"_blank\" style=\"display: inline-block; margin-right: 5px;\">\n",
    "                            <img src=\"https://lh6.googleusercontent.com/ySMpjyV-xnvxZDUrpDWCEIiZYgnB11iKjG8EN-vxzECdZaa3gA7MnDKVrZbY6jXvb5lWafx-PoCmG6duQ9vAgtH85F03bFTspmFC7SDEufWzp6qkP1HM36N6vRe_zKS4OlB_4PIu6C3jxYvDEWE7u6A\" width=\"19\" height=\"13\" style=\"vertical-align: middle;\" crossorigin=\"\" class=\"CToWUd\" data-bit=\"iit\">\n",
    "                        </a>\n",
    "                    </font>\n",
    "                </p>\n",
    "                <p dir=\"ltr\" style=\"line-height:1.2;margin-top:0pt;margin-bottom:0pt\">\n",
    "                    <font color=\"#073763\">\n",
    "                        <a href=\"https://fundacionmaradentro.cl/\" target=\"_blank\">\n",
    "                            <span style=\"font-size:8pt;font-family:&quot;PT Serif&quot;,serif;background-color:transparent;vertical-align:baseline\">fundacionmaradentro.cl</span>\n",
    "                        </a>\n",
    "                    </font>\n",
    "                </p>\n",
    "            </td>\n",
    "        </tr>\n",
    "    </tbody>\n",
    "</table>\n",
    "\"\"\""
   ]
  },
  {
   "cell_type": "code",
   "execution_count": 7,
   "metadata": {},
   "outputs": [],
   "source": [
    "# Leer los datos de las personas\n",
    "\n",
    "all_names = email_list['Nombre']\n",
    "all_emails = email_list['Contacto']\n",
    "all_genders = email_list['Genero']  # Columna con el género"
   ]
  },
  {
   "cell_type": "code",
   "execution_count": 8,
   "metadata": {},
   "outputs": [
    {
     "name": "stdout",
     "output_type": "stream",
     "text": [
      "Email to felipe.guarda@fundacionmaradentro.cl successfully sent!\n",
      "\n",
      "\n"
     ]
    }
   ],
   "source": [
    "for idx in range(len(email_list)):\n",
    "    \n",
    "    name = all_names[idx]\n",
    "    email = all_emails[idx]\n",
    "    gender = all_genders[idx]  # Obtener el género\n",
    "\n",
    "    # Seleccionar pronombre según el género\n",
    "    if gender.lower() == \"M\":\n",
    "        saludo = \"Estimado\"\n",
    "    else:\n",
    "        saludo = \"Estimada\"\n",
    "\n",
    "    # Crear un mensaje MIME\n",
    "    msg = MIMEMultipart()\n",
    "    msg['From'] = \"{} <{}>\".format(my_name, sender)\n",
    "    msg['To'] = \"{} <{}>\".format(name, email)\n",
    "    msg['Subject'] = subject\n",
    "\n",
    "    # Cuerpo del mensaje en HTML con el hipervínculo y la imagen\n",
    "    html = f\"\"\"\n",
    "    <html>\n",
    "    <body>\n",
    "        <p>{saludo} {name},</p>\n",
    "        <p>Le saluda Felipe Guarda desde Fundación Mar Adentro. En  conocimiento de su labor y trayectoria, estamos interesados en que sea parte del <strong>encuentro transdisciplinario \"Intercambio de experiencias comunitarias para la prevención de incendios forestales\"</strong>, iniciativa colaborativa entre nuestra fundación, Smart Forest-Cambridge University y la Universidad de La Frontera (UFRO).</p>\n",
    "        <p>La instancia reunirá a diversos investigadores y profesionales del país para <strong>compartir y fortalecer experiencias preventivas en zonas de riesgo</strong>,  a través del diálogo y la colaboración.</p>\n",
    "        <p>A continuación, compartimos el programa, para que pueda conocer en mayor profundidad de qué se tratará la jornada.</p>\n",
    "        <p>Esperamos contar con su presencia para dialogar sobre esta relevante y urgente temática.</p>\n",
    "        <p>Agradecemos confirmar su participación <a href=\"{formulario_link}\">AQUÍ</a>.</p>\n",
    "        <p><strong>Dónde</strong>: Universidad de la Frontera, Campus Pucón, Sala 200</p>\n",
    "        <p><strong>Horario</strong>: 15.00 a 19.00.</p>\n",
    "        <img src=\"cid:image1\" alt=\"Programa del encuentro\" style=\"max-width:100%; height:auto;\">\n",
    "        <p>PD: En caso de necesitar transporte hacia la sede Pucón de la UFRO, contamos con un ítem de apoyo económico detallado en el formulario de inscripción.</p>\n",
    "        <p>Quedo atento a su confirmación y comentarios.</p>\n",
    "        <p>Saludos cordiales,</p>\n",
    "        {firma_html}\n",
    "    </body>\n",
    "    </html>\n",
    "    \"\"\"\n",
    "\n",
    "    # Adjuntar el cuerpo del mensaje en formato HTML\n",
    "    msg.attach(MIMEText(html, 'html'))\n",
    "\n",
    "    # Leer e insertar la imagen\n",
    "    with open(image_path, 'rb') as img_file:\n",
    "        img = MIMEImage(img_file.read())\n",
    "        img.add_header('Content-ID', '<image1>')\n",
    "        msg.attach(img)\n",
    "\n",
    "    try:\n",
    "        server.sendmail(sender, [email], msg.as_string())\n",
    "        print(f\"Email to {email} successfully sent!\\n\\n\")\n",
    "    except Exception as e:\n",
    "        print(f\"Email to {email} could not be sent because {str(e)}\\n\\n\")\n",
    "                  \n",
    "server.close()\n"
   ]
  }
 ],
 "metadata": {
  "kernelspec": {
   "display_name": "base",
   "language": "python",
   "name": "python3"
  },
  "language_info": {
   "codemirror_mode": {
    "name": "ipython",
    "version": 3
   },
   "file_extension": ".py",
   "mimetype": "text/x-python",
   "name": "python",
   "nbconvert_exporter": "python",
   "pygments_lexer": "ipython3",
   "version": "3.12.6"
  }
 },
 "nbformat": 4,
 "nbformat_minor": 4
}
