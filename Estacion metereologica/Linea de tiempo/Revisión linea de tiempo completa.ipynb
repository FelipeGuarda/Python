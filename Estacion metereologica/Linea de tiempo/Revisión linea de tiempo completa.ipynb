{
 "cells": [
  {
   "cell_type": "code",
   "execution_count": 1,
   "id": "0818e5d5",
   "metadata": {},
   "outputs": [],
   "source": [
    "import pandas as pd\n",
    "import numpy as np\n",
    "import matplotlib.pyplot as plt\n",
    "from matplotlib.animation import FuncAnimation\n",
    "from IPython.display import HTML\n",
    "import matplotlib as mpl"
   ]
  },
  {
   "cell_type": "code",
   "execution_count": null,
   "id": "924fde88",
   "metadata": {},
   "outputs": [],
   "source": [
    "###########################\n",
    "# 1) READ AND MERGE THE DATA\n",
    "###########################\n",
    "header_row = 1\n",
    "skip_rows = [2, 3]\n",
    "\n",
    "data1 = pd.read_csv(\n",
    "    \"G:\\\\Shared drives\\\\FMA-G\\\\C-CONSERVACIÓN\\\\C1-BOSQUE PEHUEN\\\\C1.5_DATOS\\\\1. Estacion Meteorológica\\\\Datos estación meteorológica\\\\CR800Series_Table 01122020_11042022.dat\",\n",
    "    header=header_row,\n",
    "    skiprows=skip_rows,\n",
    "    low_memory=False\n",
    ")\n",
    "data2 = pd.read_csv(\n",
    "    \"G:\\\\Shared drives\\\\FMA-G\\\\C-CONSERVACIÓN\\\\C1-BOSQUE PEHUEN\\\\C1.5_DATOS\\\\1. Estacion Meteorológica\\\\Datos estación meteorológica\\\\CR800Series_Table 03082021_12122022.dat\",\n",
    "    header=header_row,\n",
    "    skiprows=skip_rows,\n",
    "    low_memory=False\n",
    ")\n",
    "data3 = pd.read_csv(\n",
    "    \"G:\\\\Shared drives\\\\FMA-G\\\\C-CONSERVACIÓN\\\\C1-BOSQUE PEHUEN\\\\C1.5_DATOS\\\\1. Estacion Meteorológica\\\\Datos estación meteorológica\\\\CR800Series_Table 08112022_18032024.dat\",\n",
    "    header=header_row,\n",
    "    skiprows=skip_rows,\n",
    "    low_memory=False\n",
    ")\n",
    "data4 = pd.read_csv(\n",
    "    \"G:\\\\Shared drives\\\\FMA-G\\\\C-CONSERVACIÓN\\\\C1-BOSQUE PEHUEN\\\\C1.5_DATOS\\\\1. Estacion Meteorológica\\\\Datos estación meteorológica\\\\CR800Series_Table 14012023_24052024.dat\",\n",
    "    header=header_row,\n",
    "    skiprows=skip_rows,\n",
    "    low_memory=False\n",
    ")\n",
    "data5 = pd.read_csv(\n",
    "    \"G:\\\\Shared drives\\\\FMA-G\\\\C-CONSERVACIÓN\\\\C1-BOSQUE PEHUEN\\\\C1.5_DATOS\\\\1. Estacion Meteorológica\\\\Datos estación meteorológica\\\\CR800Series_Table 21092018_30012020.dat\",\n",
    "    header=header_row,\n",
    "    skiprows=skip_rows,\n",
    "    low_memory=False\n",
    ")\n",
    "data6 = pd.read_csv(\n",
    "    \"G:\\\\Shared drives\\\\FMA-G\\\\C-CONSERVACIÓN\\\\C1-BOSQUE PEHUEN\\\\C1.5_DATOS\\\\1. Estacion Meteorológica\\\\Datos estación meteorológica\\\\CR800Series_Table1_13092019_21012021.dat\",\n",
    "    header=header_row,\n",
    "    skiprows=skip_rows,\n",
    "    low_memory=False\n",
    ")\n"
   ]
  }
 ],
 "metadata": {
  "kernelspec": {
   "display_name": "base",
   "language": "python",
   "name": "python3"
  },
  "language_info": {
   "codemirror_mode": {
    "name": "ipython",
    "version": 3
   },
   "file_extension": ".py",
   "mimetype": "text/x-python",
   "name": "python",
   "nbconvert_exporter": "python",
   "pygments_lexer": "ipython3",
   "version": "3.12.11"
  }
 },
 "nbformat": 4,
 "nbformat_minor": 5
}
