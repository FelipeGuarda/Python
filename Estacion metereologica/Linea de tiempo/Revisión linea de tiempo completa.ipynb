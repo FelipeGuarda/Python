{
 "cells": [
  {
   "cell_type": "code",
   "execution_count": 1,
   "id": "0818e5d5",
   "metadata": {},
   "outputs": [],
   "source": [
    "import pandas as pd\n",
    "import numpy as np\n",
    "import matplotlib.pyplot as plt\n",
    "from matplotlib.animation import FuncAnimation\n",
    "from IPython.display import HTML\n",
    "import matplotlib as mpl"
   ]
  },
  {
   "cell_type": "code",
   "execution_count": 4,
   "id": "924fde88",
   "metadata": {},
   "outputs": [],
   "source": [
    "###########################\n",
    "# 1) READ AND MERGE THE DATA\n",
    "###########################\n",
    "header_row = 1\n",
    "skip_rows = [2, 3]\n",
    "\n",
    "data1 = pd.read_csv(\n",
    "    \"CR800Series BP_Table123-07-2025.dat\",\n",
    "    header=header_row,\n",
    "    skiprows=skip_rows,\n",
    "    low_memory=False\n",
    ")"
   ]
  },
  {
   "cell_type": "code",
   "execution_count": 5,
   "id": "35e79a3e",
   "metadata": {},
   "outputs": [
    {
     "data": {
      "text/plain": [
       "Index(['TIMESTAMP', 'RECORD', 'AirTC_Max', 'AirTC_Avg', 'AirTC_Min', 'RH_Max',\n",
       "       'RH_Avg', 'RH_Min', 'WS_ms_Max', 'WS_ms_Avg', 'WS_ms_Min',\n",
       "       'WindDir_Max', 'WindDir_Avg', 'WindDir_Min', 'WindDir_Std',\n",
       "       'BP_mbar_Avg', 'T107_10cm_Max', 'T107_10cm_Avg', 'T107_10cm_Min',\n",
       "       'T107_10cm_Std', 'T107_50cm_Max', 'T107_50cm_Avg', 'T107_50cm_Min',\n",
       "       'T107_50cm_Std', 'Rain_mm_Tot', 'PTemp_C_Avg', 'PtoRocio_Avg',\n",
       "       'BattV_Min', 'DT_Max', 'DT_Avg', 'DT_Min', 'Q_Max', 'Q_Min', 'TCDT_Max',\n",
       "       'TCDT_Min', 'incomingLW_Avg', 'incomingSW_Avg', 'outgoingLW_Avg',\n",
       "       'outgoingSW_Avg', 'albedo_Avg'],\n",
       "      dtype='object')"
      ]
     },
     "execution_count": 5,
     "metadata": {},
     "output_type": "execute_result"
    }
   ],
   "source": [
    "data1.head()\n",
    "data1.columns"
   ]
  },
  {
   "cell_type": "code",
   "execution_count": 6,
   "id": "f115e8f1",
   "metadata": {},
   "outputs": [],
   "source": [
    "data1['TIMESTAMP'] = pd.to_datetime(data1['TIMESTAMP']) "
   ]
  },
  {
   "cell_type": "code",
   "execution_count": 7,
   "id": "3c8fc56d",
   "metadata": {},
   "outputs": [
    {
     "name": "stdout",
     "output_type": "stream",
     "text": [
      "First timestamp: 2024-03-14 17:00:00\n",
      "Last timestamp: 2025-07-23 12:45:00\n"
     ]
    }
   ],
   "source": [
    "print(\"First timestamp:\", data1['TIMESTAMP'].min())\n",
    "print(\"Last timestamp:\", data1['TIMESTAMP'].max())"
   ]
  },
  {
   "cell_type": "code",
   "execution_count": null,
   "id": "493989d0",
   "metadata": {},
   "outputs": [],
   "source": []
  }
 ],
 "metadata": {
  "kernelspec": {
   "display_name": "3_hermanas",
   "language": "python",
   "name": "python3"
  },
  "language_info": {
   "codemirror_mode": {
    "name": "ipython",
    "version": 3
   },
   "file_extension": ".py",
   "mimetype": "text/x-python",
   "name": "python",
   "nbconvert_exporter": "python",
   "pygments_lexer": "ipython3",
   "version": "3.11.13"
  }
 },
 "nbformat": 4,
 "nbformat_minor": 5
}
