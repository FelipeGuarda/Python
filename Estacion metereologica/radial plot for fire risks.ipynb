{
 "cells": [
  {
   "cell_type": "code",
   "execution_count": 1,
   "metadata": {},
   "outputs": [],
   "source": [
    "import pandas as pd\n",
    "import numpy as np\n",
    "import matplotlib.pyplot as plt\n",
    "from matplotlib.animation import FuncAnimation\n",
    "from scipy.interpolate import make_interp_spline\n",
    "from IPython.display import HTML"
   ]
  },
  {
   "cell_type": "code",
   "execution_count": 2,
   "metadata": {},
   "outputs": [
    {
     "name": "stderr",
     "output_type": "stream",
     "text": [
      "<>:5: SyntaxWarning: invalid escape sequence '\\S'\n",
      "<>:6: SyntaxWarning: invalid escape sequence '\\S'\n",
      "<>:7: SyntaxWarning: invalid escape sequence '\\S'\n",
      "<>:8: SyntaxWarning: invalid escape sequence '\\S'\n",
      "<>:9: SyntaxWarning: invalid escape sequence '\\S'\n",
      "<>:10: SyntaxWarning: invalid escape sequence '\\S'\n",
      "<>:5: SyntaxWarning: invalid escape sequence '\\S'\n",
      "<>:6: SyntaxWarning: invalid escape sequence '\\S'\n",
      "<>:7: SyntaxWarning: invalid escape sequence '\\S'\n",
      "<>:8: SyntaxWarning: invalid escape sequence '\\S'\n",
      "<>:9: SyntaxWarning: invalid escape sequence '\\S'\n",
      "<>:10: SyntaxWarning: invalid escape sequence '\\S'\n",
      "C:\\Users\\fguarda\\AppData\\Local\\Temp\\ipykernel_9088\\3281827703.py:5: SyntaxWarning: invalid escape sequence '\\S'\n",
      "  data1 = pd.read_csv(\"G:\\Shared drives\\FMA-G\\C-CONSERVACIÓN\\C1-BOSQUE PEHUEN\\C1.5_DATOS\\Estacion Meteorológica\\Linea de tiempo completa\\CR800Series_Table1_13092019_21012021.dat\", header=header_row, skiprows=skip_rows, low_memory=False)\n",
      "C:\\Users\\fguarda\\AppData\\Local\\Temp\\ipykernel_9088\\3281827703.py:6: SyntaxWarning: invalid escape sequence '\\S'\n",
      "  data2 = pd.read_csv(\"G:\\Shared drives\\FMA-G\\C-CONSERVACIÓN\\C1-BOSQUE PEHUEN\\C1.5_DATOS\\Estacion Meteorológica\\Linea de tiempo completa\\CR800Series_Table 21092018_30012020.dat\", header=header_row, skiprows=skip_rows, low_memory=False)\n",
      "C:\\Users\\fguarda\\AppData\\Local\\Temp\\ipykernel_9088\\3281827703.py:7: SyntaxWarning: invalid escape sequence '\\S'\n",
      "  data3 = pd.read_csv(\"G:\\Shared drives\\FMA-G\\C-CONSERVACIÓN\\C1-BOSQUE PEHUEN\\C1.5_DATOS\\Estacion Meteorológica\\Linea de tiempo completa\\CR800Series_Table 14012023_24052024.dat\", header=header_row, skiprows=skip_rows, low_memory=False)\n",
      "C:\\Users\\fguarda\\AppData\\Local\\Temp\\ipykernel_9088\\3281827703.py:8: SyntaxWarning: invalid escape sequence '\\S'\n",
      "  data4 = pd.read_csv(\"G:\\Shared drives\\FMA-G\\C-CONSERVACIÓN\\C1-BOSQUE PEHUEN\\C1.5_DATOS\\Estacion Meteorológica\\Linea de tiempo completa\\CR800Series_Table 08112022_18032024.dat\", header=header_row, skiprows=skip_rows, low_memory=False)\n",
      "C:\\Users\\fguarda\\AppData\\Local\\Temp\\ipykernel_9088\\3281827703.py:9: SyntaxWarning: invalid escape sequence '\\S'\n",
      "  data5 = pd.read_csv(\"G:\\Shared drives\\FMA-G\\C-CONSERVACIÓN\\C1-BOSQUE PEHUEN\\C1.5_DATOS\\Estacion Meteorológica\\Linea de tiempo completa\\CR800Series_Table 03082021_12122022.dat\", header=header_row, skiprows=skip_rows, low_memory=False)\n",
      "C:\\Users\\fguarda\\AppData\\Local\\Temp\\ipykernel_9088\\3281827703.py:10: SyntaxWarning: invalid escape sequence '\\S'\n",
      "  data6 = pd.read_csv(\"G:\\Shared drives\\FMA-G\\C-CONSERVACIÓN\\C1-BOSQUE PEHUEN\\C1.5_DATOS\\Estacion Meteorológica\\Linea de tiempo completa\\CR800Series_Table 01122020_11042022.dat\", header=header_row, skiprows=skip_rows, low_memory=False)\n"
     ]
    }
   ],
   "source": [
    "header_row = 1  # Use the second row as the column names\n",
    "skip_rows = [2, 3]  # Skip the first row, and the third and fourth rows\n",
    "\n",
    "# Read the CSV file with the specified header row and skipping the specified rows\n",
    "data1 = pd.read_csv(\"G:\\Shared drives\\FMA-G\\C-CONSERVACIÓN\\C1-BOSQUE PEHUEN\\C1.5_DATOS\\Estacion Meteorológica\\Linea de tiempo completa\\CR800Series_Table1_13092019_21012021.dat\", header=header_row, skiprows=skip_rows, low_memory=False)\n",
    "data2 = pd.read_csv(\"G:\\Shared drives\\FMA-G\\C-CONSERVACIÓN\\C1-BOSQUE PEHUEN\\C1.5_DATOS\\Estacion Meteorológica\\Linea de tiempo completa\\CR800Series_Table 21092018_30012020.dat\", header=header_row, skiprows=skip_rows, low_memory=False)\n",
    "data3 = pd.read_csv(\"G:\\Shared drives\\FMA-G\\C-CONSERVACIÓN\\C1-BOSQUE PEHUEN\\C1.5_DATOS\\Estacion Meteorológica\\Linea de tiempo completa\\CR800Series_Table 14012023_24052024.dat\", header=header_row, skiprows=skip_rows, low_memory=False)\n",
    "data4 = pd.read_csv(\"G:\\Shared drives\\FMA-G\\C-CONSERVACIÓN\\C1-BOSQUE PEHUEN\\C1.5_DATOS\\Estacion Meteorológica\\Linea de tiempo completa\\CR800Series_Table 08112022_18032024.dat\", header=header_row, skiprows=skip_rows, low_memory=False)\n",
    "data5 = pd.read_csv(\"G:\\Shared drives\\FMA-G\\C-CONSERVACIÓN\\C1-BOSQUE PEHUEN\\C1.5_DATOS\\Estacion Meteorológica\\Linea de tiempo completa\\CR800Series_Table 03082021_12122022.dat\", header=header_row, skiprows=skip_rows, low_memory=False)\n",
    "data6 = pd.read_csv(\"G:\\Shared drives\\FMA-G\\C-CONSERVACIÓN\\C1-BOSQUE PEHUEN\\C1.5_DATOS\\Estacion Meteorológica\\Linea de tiempo completa\\CR800Series_Table 01122020_11042022.dat\", header=header_row, skiprows=skip_rows, low_memory=False)"
   ]
  },
  {
   "cell_type": "code",
   "execution_count": 3,
   "metadata": {},
   "outputs": [],
   "source": [
    "dataframes = [data1, data2, data3, data4, data5, data6]\n",
    "\n",
    "# Concatenate all dataframes\n",
    "merged_df = pd.concat(dataframes)\n",
    "\n",
    "# Drop duplicates based on 'RECORD' and 'TIMESTAMP' columns\n",
    "merged_df = merged_df.drop_duplicates(subset=['RECORD', 'TIMESTAMP'])"
   ]
  },
  {
   "cell_type": "code",
   "execution_count": 4,
   "metadata": {},
   "outputs": [],
   "source": [
    "# Convert the column to TIMESTAMP format\n",
    "merged_df['TIMESTAMP'] = pd.to_datetime(merged_df['TIMESTAMP'])\n",
    "\n",
    "# Extract year, month, day, and time\n",
    "merged_df['Year'] = merged_df['TIMESTAMP'].dt.year\n",
    "merged_df['Month'] = merged_df['TIMESTAMP'].dt.month\n",
    "merged_df['Day'] = merged_df['TIMESTAMP'].dt.day\n",
    "merged_df['Time'] = merged_df['TIMESTAMP'].dt.time\n"
   ]
  },
  {
   "cell_type": "code",
   "execution_count": 5,
   "metadata": {},
   "outputs": [],
   "source": [
    "# Create a datetime column for easier manipulation\n",
    "merged_df['Date'] = pd.to_datetime(merged_df[['Year', 'Month', 'Day']])\n",
    "\n",
    "# Normalize temperature and wind speed (range 0-1)\n",
    "merged_df['Temp_Norm'] = (merged_df['AirTC_Avg'] - merged_df['AirTC_Avg'].min()) / (merged_df['AirTC_Avg'].max() - merged_df['AirTC_Avg'].min())\n",
    "merged_df['Wind_Norm'] = (merged_df['WS_ms_Avg'] - merged_df['WS_ms_Avg'].min()) / (merged_df['WS_ms_Avg'].max() - merged_df['WS_ms_Avg'].min())\n",
    "\n",
    "# Invert and normalize humidity (higher humidity closer to center)\n",
    "merged_df['Hum_Norm'] = 1 - (merged_df['RH_Avg'] - merged_df['RH_Avg'].min()) / (merged_df['RH_Avg'].max() - merged_df['RH_Avg'].min())\n",
    "\n",
    "# Create a new column that combines normalized values\n",
    "merged_df['Combined'] = merged_df[['Temp_Norm', 'Hum_Norm', 'Wind_Norm']].mean(axis=1)"
   ]
  },
  {
   "cell_type": "code",
   "execution_count": null,
   "metadata": {},
   "outputs": [],
   "source": [
    "\n",
    "# First, ensure the Date column is in datetime format\n",
    "merged_df['Date'] = pd.to_datetime(merged_df['Date'])\n",
    "\n",
    "# Group by date and sum the Rain_mm_Tot for each day\n",
    "daily_rainfall = merged_df.groupby(merged_df['Date'].dt.date)['Rain_mm_Tot'].sum().reset_index()\n",
    "\n",
    "# Rename columns for clarity\n",
    "daily_rainfall.columns = ['Date', 'Total_Rain_mm']\n",
    "\n",
    "# Determine if it's a rainy day (more than 2 mm of rain)\n",
    "daily_rainfall['Is_Rainy'] = daily_rainfall['Total_Rain_mm'].apply(lambda x: 1 if x > 2 else 0)\n",
    "\n",
    "# Merge this back into the original merged_df on the 'Date' column\n",
    "merged_df = merged_df.merge(daily_rainfall[['Date', 'Is_Rainy']], on='Date', how='left')\n",
    "\n",
    "# Create a column for the cumulative count of days without rain\n",
    "merged_df['Days_Without_Rain'] = (merged_df['Is_Rainy'] == 0).cumsum()\n",
    "\n",
    "# Print the updated DataFrame to verify the changes\n",
    "print(merged_df[['Date', 'Total_Rain_mm', 'Is_Rainy', 'Days_Without_Rain']])"
   ]
  },
  {
   "cell_type": "code",
   "execution_count": 6,
   "metadata": {},
   "outputs": [],
   "source": [
    "# Function to extract the unique dates\n",
    "unique_dates = merged_df['Date'].unique()"
   ]
  },
  {
   "cell_type": "code",
   "execution_count": null,
   "metadata": {},
   "outputs": [],
   "source": [
    "# Set up the figure and polar axis\n",
    "fig, ax = plt.subplots(figsize=(6, 6), subplot_kw={'projection': 'polar'})\n",
    "\n",
    "# Angles for temperature, humidity, and wind speed\n",
    "angles = np.linspace(0, 2 * np.pi, 3, endpoint=False).tolist()\n",
    "angles += angles[:1]  # Close the loop"
   ]
  },
  {
   "cell_type": "code",
   "execution_count": null,
   "metadata": {},
   "outputs": [],
   "source": [
    "print(f\"Angles Length: {len(angles)}\")  # Should be 4\n"
   ]
  },
  {
   "cell_type": "code",
   "execution_count": 9,
   "metadata": {},
   "outputs": [],
   "source": [
    "def smooth_data(values, smooth_factor=300):\n",
    "    # Ensure the angles array has the correct length\n",
    "    num_points = len(values)  # This should match the number of angles (4)\n",
    "    \n",
    "    # Create a strictly increasing array for interpolation, excluding the last angle to avoid wraparound\n",
    "    temp_angles = np.linspace(0, 2 * np.pi, num_points - 1, endpoint=False)\n",
    "    \n",
    "    # Check lengths again\n",
    "    print(f\"Temp Angles Length for Interpolation: {len(temp_angles)}\")  # Should be 3\n",
    "    print(f\"Values Length: {len(values[:-1])}\")  # Should be 3 (exclude the last value for interpolation)\n",
    "    \n",
    "    # Ensure there are at least 3 unique points for quadratic (k=2) or 4 for cubic (k=3) interpolation\n",
    "    unique_values = len(np.unique(values[:-1]))\n",
    "    if unique_values < 3:\n",
    "        print(\"Error: Not enough unique points for interpolation.\")\n",
    "        return temp_angles, np.zeros_like(temp_angles)  # Return a dummy result\n",
    "    \n",
    "    # Set degree of spline (k=2 for quadratic if < 4 unique points)\n",
    "    k = 2 if unique_values == 3 else 3\n",
    "    \n",
    "    # Extend angles for smoothing\n",
    "    angles_ext = np.linspace(0, 2 * np.pi, (num_points - 1) * smooth_factor)  # Only 3 values\n",
    "\n",
    "    # Perform interpolation with strictly increasing x-values\n",
    "    spline = make_interp_spline(temp_angles, values[:-1], k=k)  # Use dynamic k\n",
    "    smooth_values = spline(angles_ext)\n",
    "\n",
    "    # Return the smooth data with no duplication\n",
    "    return angles_ext, smooth_values"
   ]
  },
  {
   "cell_type": "code",
   "execution_count": 10,
   "metadata": {},
   "outputs": [],
   "source": [
    "# Initialize the line\n",
    "line, = ax.plot([], [], linewidth=2)\n"
   ]
  },
  {
   "cell_type": "code",
   "execution_count": 11,
   "metadata": {},
   "outputs": [],
   "source": [
    "def update(date):\n",
    "    # Filter data for the current date\n",
    "    daily_data = merged_df[merged_df['Date'] == date]\n",
    "\n",
    "    # Values to plot\n",
    "    values = [\n",
    "        daily_data['Temp_Norm'].values[0],\n",
    "        daily_data['Hum_Norm'].values[0],\n",
    "        daily_data['Wind_Norm'].values[0]\n",
    "    ]\n",
    "    values += values[:1]  # Close the loop, adding the first value to the end\n",
    "\n",
    "    # Check lengths before plotting\n",
    "    print(f\"Update Values Length: {len(values)}\")  # Should be 4\n",
    "\n",
    "    # Smooth values\n",
    "    smooth_angles, smooth_values = smooth_data(values)\n",
    "\n",
    "    # Close the loop for plotting, including the last value again to match radar plot\n",
    "    smooth_angles = np.append(smooth_angles, smooth_angles[0])\n",
    "    smooth_values = np.append(smooth_values, smooth_values[0])\n",
    "\n",
    "    # Print smooth values for debugging\n",
    "    print(f\"Smooth Angles: {smooth_angles}\")\n",
    "    print(f\"Smooth Values: {smooth_values}\")\n",
    "\n",
    "    # Change line color based on condition\n",
    "    if daily_data['Temp_Norm'].values[0] > 0.7 and daily_data['Wind_Norm'].values[0] > 0.5 and daily_data['Hum_Norm'].values[0] < 0.3:\n",
    "        line_color = 'red'\n",
    "    else:\n",
    "        line_color = 'blue'\n",
    "\n",
    "    # Update the line properties with the correct data\n",
    "    line.set_data(smooth_angles, smooth_values)\n",
    "    line.set_color(line_color)\n",
    "\n",
    "    # Set the background color\n",
    "    ax.set_facecolor('lightgrey' if line_color == 'blue' else 'pink')\n",
    "\n",
    "    # Set the title to the current date\n",
    "    ax.set_title(f\"Date: {date.strftime('%Y-%m-%d')}\", fontsize=16)\n",
    "\n",
    "    # Ensure line is updated properly\n",
    "    return line,"
   ]
  },
  {
   "cell_type": "code",
   "execution_count": null,
   "metadata": {},
   "outputs": [],
   "source": [
    "# Set the limits and labels for the plot\n",
    "ax.set_ylim(0, 1)\n",
    "ax.set_xticks(angles[:-1])  # Remove the last duplicate angle for labels\n",
    "ax.set_xticklabels(['Temperature', 'Humidity', 'Wind Speed'])\n"
   ]
  },
  {
   "cell_type": "code",
   "execution_count": null,
   "metadata": {},
   "outputs": [],
   "source": [
    "# Create animation\n",
    "ani = FuncAnimation(fig, update, frames=unique_dates, interval=200, blit=True)  # Use blit=True for faster updates\n",
    "\n",
    "# Display animation in notebook\n",
    "HTML(ani.to_jshtml())"
   ]
  },
  {
   "cell_type": "code",
   "execution_count": null,
   "metadata": {},
   "outputs": [],
   "source": []
  }
 ],
 "metadata": {
  "kernelspec": {
   "display_name": "base",
   "language": "python",
   "name": "python3"
  },
  "language_info": {
   "codemirror_mode": {
    "name": "ipython",
    "version": 3
   },
   "file_extension": ".py",
   "mimetype": "text/x-python",
   "name": "python",
   "nbconvert_exporter": "python",
   "pygments_lexer": "ipython3",
   "version": "3.12.6"
  }
 },
 "nbformat": 4,
 "nbformat_minor": 2
}
