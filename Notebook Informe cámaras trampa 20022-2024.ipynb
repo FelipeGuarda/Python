{
 "cells": [
  {
   "cell_type": "code",
   "execution_count": 1,
   "metadata": {},
   "outputs": [],
   "source": [
    "import pandas as pd\n",
    "import numpy as np\n",
    "import seaborn as sns\n",
    "import matplotlib.pyplot as plt\n",
    "import openpyxl\n",
    "import pandas_flavor as pf\n",
    "\n",
    "\n"
   ]
  },
  {
   "cell_type": "code",
   "execution_count": 2,
   "metadata": {},
   "outputs": [],
   "source": [
    "file_path = r\"G:\\Shared drives\\FMA-G\\C-CONSERVACIÓN\\C1_Bosque Pehuen\\6 Bosque Pehuen\\Conservación\\Camaras trampa\\2022 - febr. 2024\\Fotos\\2022-feb2024_todas_episodios.csv\"\n",
    "data = pd.read_csv(file_path)\n"
   ]
  },
  {
   "cell_type": "code",
   "execution_count": 3,
   "metadata": {},
   "outputs": [],
   "source": [
    "data = data[data['RelativePath'] != '2022\\\\CoRaTe\\\\Puma']"
   ]
  },
  {
   "cell_type": "code",
   "execution_count": 4,
   "metadata": {},
   "outputs": [
    {
     "name": "stdout",
     "output_type": "stream",
     "text": [
      "['2022\\\\Araucarias\\\\CT10_06_12_22' '2022\\\\Araucarias\\\\CT9'\n",
      " '2022\\\\CoRaTe Quebrada\\\\CT13' '2022\\\\CoRaTe Quebrada\\\\CT14'\n",
      " '2022\\\\CoRaTe\\\\CT11_12_2022' '2022\\\\Lenga - Pradera\\\\CT16'\n",
      " '2022\\\\Lenga\\\\CT1' '2022\\\\Lenga\\\\CT2' '2022\\\\RoRaCo Renoval\\\\CT5'\n",
      " '2022\\\\RoRaCo Renoval\\\\CT6\\\\100EK113'\n",
      " '2022\\\\RoRaCo Renoval\\\\CT6\\\\101EK113'\n",
      " '2022\\\\RoRaCo Renoval\\\\CT6\\\\102EK113'\n",
      " '2022\\\\RoRaCo Renoval\\\\CT6\\\\103EK113'\n",
      " '2022\\\\RoRaCo Renoval\\\\CT6\\\\104EK113' '2022\\\\RoRaCo Rio\\\\CT3'\n",
      " '2022\\\\Santuario Anfibios\\\\CT7' '2022\\\\Santuario Anfibios\\\\CT7_Nov_22'\n",
      " '2022\\\\Santuario Anfibios\\\\CT8' '2022\\\\Santuario Anfibios\\\\CT8_nov_22'\n",
      " '2023\\\\Araucarias\\\\CT 3 hermanas_16_02_23'\n",
      " '2023\\\\Araucarias\\\\CT 3 hermanas_enero 23'\n",
      " '2023\\\\Araucarias\\\\camtrap 3 hermanas_16_02_23'\n",
      " '2023\\\\Araucarias\\\\camtrap 8_02_23' '2023\\\\RoRaCo Renoval\\\\TC5'\n",
      " '2023\\\\RoRaCo Renoval\\\\TC6' '2023\\\\Santuario Anfibios\\\\TC7'\n",
      " '2023\\\\Santuario Anfibios\\\\TC8'\n",
      " '2023\\\\TC 17 Salto de la Mariposa\\\\100EK113'\n",
      " '2023\\\\TC 17 Salto de la Mariposa\\\\101EK113' '2023\\\\TC11' '2023\\\\TC12'\n",
      " '2024\\\\TC_1' '2024\\\\TC_10' '2024\\\\TC_2' '2024\\\\TC_5' '2024\\\\TC_6'\n",
      " '2024\\\\TC_7' '2024\\\\TC_8' '2024\\\\TC_9\\\\100EK113' '2024\\\\TC_9\\\\101EK113'\n",
      " '2024\\\\TC_9\\\\102EK113']\n"
     ]
    }
   ],
   "source": [
    "unique_RelativePath = data['RelativePath'].unique()\n",
    "print(unique_RelativePath)"
   ]
  },
  {
   "cell_type": "code",
   "execution_count": 5,
   "metadata": {},
   "outputs": [],
   "source": [
    "# Create a dictionary that maps the RelativePath values to the corresponding Estación value\n",
    "estacion_dict = {\n",
    "    '2022\\\\Araucarias\\\\CT10_06_12_22': 'Araucarias',\n",
    "    '2022\\\\Araucarias\\\\CT9': 'Araucarias',\n",
    "    '2023\\\\Araucarias\\\\CT 3 hermanas_16_02_23': 'Araucarias',\n",
    "    '2023\\\\Araucarias\\\\CT 3 hermanas_enero 23': 'Araucarias',\n",
    "    '2024\\\\TC_10': 'Araucarias',\n",
    "    '2024\\\\TC_9\\\\100EK113': 'Araucarias',\n",
    "    '2024\\\\TC_9\\\\101EK113': 'Araucarias',\n",
    "    '2024\\\\TC_9\\\\102EK113': 'Araucarias',\n",
    "    '2022\\\\CoRaTe Quebrada\\\\CT13': 'CoRaTe Quebrada',\n",
    "    '2022\\\\CoRaTe Quebrada\\\\CT14': 'CoRaTe Quebrada',\n",
    "    '2022\\\\CoRaTe\\\\CT11_12_2022': 'CoRaTe',\n",
    "    '2022\\\\CoRaTe\\\\Puma': 'CoRaTe',\n",
    "    '2023\\\\TC11': 'CoRaTe',\n",
    "    '2023\\\\TC12': 'CoRaTe',\n",
    "    '2022\\\\Lenga\\\\CT1': 'Lenga',\n",
    "    '2022\\\\Lenga\\\\CT2': 'Lenga',\n",
    "    '2024\\\\TC_1': 'Lenga',\n",
    "    '2024\\\\TC_2': 'Lenga',\n",
    "    '2022\\\\Lenga - Pradera\\\\CT16': 'Lenga - Pradera',\n",
    "    '2022\\\\RoRaCo Renoval\\\\CT5': 'RoRaCo Renoval',\n",
    "    '2022\\\\RoRaCo Renoval\\\\CT6\\\\100EK113': 'RoRaCo Renoval',\n",
    "    '2022\\\\RoRaCo Renoval\\\\CT6\\\\101EK113': 'RoRaCo Renoval',\n",
    "    '2022\\\\RoRaCo Renoval\\\\CT6\\\\102EK113': 'RoRaCo Renoval',\n",
    "    '2022\\\\RoRaCo Renoval\\\\CT6\\\\103EK113': 'RoRaCo Renoval',\n",
    "    '2022\\\\RoRaCo Renoval\\\\CT6\\\\104EK113': 'RoRaCo Renoval',\n",
    "    '2023\\\\RoRaCo Renoval\\\\TC5': 'RoRaCo Renoval',\n",
    "    '2023\\\\RoRaCo Renoval\\\\TC6': 'RoRaCo Renoval',\n",
    "    '2024\\\\TC_5': 'RoRaCo Renoval',\n",
    "    '2024\\\\TC_6': 'RoRaCo Renoval',\n",
    "    '2022\\\\RoRaCo Rio\\\\CT3': 'RoRaCo Río',\n",
    "    '2022\\\\Santuario Anfibios\\\\CT7': 'Santuario de anfibios',\n",
    "    '2022\\\\Santuario Anfibios\\\\CT7_Nov_22': 'Santuario de anfibios',\n",
    "    '2022\\\\Santuario Anfibios\\\\CT8': 'Santuario de anfibios',\n",
    "    '2022\\\\Santuario Anfibios\\\\CT8_nov_22': 'Santuario de anfibios',\n",
    "    '2023\\\\Santuario Anfibios\\\\TC7': 'Santuario de anfibios',\n",
    "    '2023\\\\Santuario Anfibios\\\\TC8': 'Santuario de anfibios',\n",
    "    '2024\\\\TC_7': 'Santuario de anfibios',\n",
    "    '2024\\\\TC_8': 'Santuario de anfibios',\n",
    "    '2023\\\\Araucarias\\\\camtrap 3 hermanas_16_02_23': 'Camtraption',\n",
    "    '2023\\\\Araucarias\\\\camtrap 8_02_23': 'Camtraption',\n",
    "    '2023\\\\TC 17 Salto de la Mariposa\\\\100EK113': 'Salto de la mariposa',\n",
    "    '2023\\\\TC 17 Salto de la Mariposa\\\\101EK113': 'Salto de la mariposa'\n",
    "}\n",
    "\n",
    "# Create a new column 'estación' in the DataFrame and fill it with the corresponding values\n",
    "data['Estacion'] = data['RelativePath'].map(estacion_dict)"
   ]
  },
  {
   "cell_type": "code",
   "execution_count": 6,
   "metadata": {},
   "outputs": [
    {
     "name": "stdout",
     "output_type": "stream",
     "text": [
      "['Araucarias' 'CoRaTe Quebrada' 'CoRaTe' 'Lenga - Pradera' 'Lenga'\n",
      " 'RoRaCo Renoval' 'RoRaCo Río' 'Santuario de anfibios' 'Camtraption'\n",
      " 'Salto de la mariposa']\n"
     ]
    }
   ],
   "source": [
    "unique_Estacion = data['Estacion'].unique()\n",
    "print(unique_Estacion)"
   ]
  },
  {
   "cell_type": "code",
   "execution_count": 7,
   "metadata": {},
   "outputs": [],
   "source": [
    "# Create a dictionary that maps the RelativePath values to the corresponding ID_CamaraTrampa value\n",
    "id_camara_trampa_dict = {\n",
    "    '2022\\\\Lenga\\\\CT1': 'CT_01',\n",
    "    '2024\\\\TC_1': 'CT_01',\n",
    "    '2022\\\\Lenga\\\\CT2': 'CT_02',\n",
    "    '2024\\\\TC_2': 'CT_02',\n",
    "    '2022\\\\RoRaCo Rio\\\\CT3': 'CT_03',\n",
    "    '2022\\\\RoRaCo Renoval\\\\CT5': 'CT_05',\n",
    "    '2023\\\\RoRaCo Renoval\\\\TC5': 'CT_05',\n",
    "    '2024\\\\TC_5': 'CT_05',\n",
    "    '2022\\\\RoRaCo Renoval\\\\CT6\\\\100EK113': 'CT_06',\n",
    "    '2022\\\\RoRaCo Renoval\\\\CT6\\\\101EK113': 'CT_06',\n",
    "    '2022\\\\RoRaCo Renoval\\\\CT6\\\\102EK113': 'CT_06',\n",
    "    '2022\\\\RoRaCo Renoval\\\\CT6\\\\103EK113': 'CT_06',\n",
    "    '2022\\\\RoRaCo Renoval\\\\CT6\\\\104EK113': 'CT_06',\n",
    "    '2023\\\\RoRaCo Renoval\\\\TC6': 'CT_06',\n",
    "    '2024\\\\TC_6': 'CT_06',\n",
    "    '2022\\\\Santuario Anfibios\\\\CT7': 'CT_07',\n",
    "    '2022\\\\Santuario Anfibios\\\\CT7_Nov_22': 'CT_07',\n",
    "    '2023\\\\Santuario Anfibios\\\\TC7': 'CT_07',\n",
    "    '2024\\\\TC_7': 'CT_07',\n",
    "    '2022\\\\Santuario Anfibios\\\\CT8': 'CT_08',\n",
    "    '2022\\\\Santuario Anfibios\\\\CT8_nov_22': 'CT_08',\n",
    "    '2023\\\\Santuario Anfibios\\\\TC8': 'CT_08',\n",
    "    '2024\\\\TC_8': 'CT_08',\n",
    "    '2022\\\\Araucarias\\\\CT9': 'CT_09',\n",
    "    '2024\\\\TC_9\\\\100EK113': 'CT_09',\n",
    "    '2024\\\\TC_9\\\\101EK113': 'CT_09',\n",
    "    '2024\\\\TC_9\\\\102EK113': 'CT_09',\n",
    "    '2022\\\\Araucarias\\\\CT10_06_12_22': 'CT_10',\n",
    "    '2024\\\\TC_10': 'CT_10',\n",
    "    '2023\\\\Araucarias\\\\CT 3 hermanas_16_02_23': 'CT_10',\n",
    "    '2023\\\\Araucarias\\\\CT 3 hermanas_enero 23': 'CT_10',\n",
    "    '2022\\\\CoRaTe\\\\CT11_12_2022': 'CT_11',\n",
    "    '2023\\\\TC11': 'CT_11',\n",
    "    '2023\\\\TC12': 'CT_12',\n",
    "    '2022\\\\CoRaTe Quebrada\\\\CT13': 'CT_13',\n",
    "    '2022\\\\CoRaTe Quebrada\\\\CT14': 'CT_14',\n",
    "    '2022\\\\Lenga - Pradera\\\\CT16': 'CT_16',\n",
    "    '2023\\\\TC 17 Salto de la Mariposa\\\\100EK113': 'CT_17',\n",
    "    '2023\\\\TC 17 Salto de la Mariposa\\\\101EK113': 'CT_17',\n",
    "    '2023\\\\Araucarias\\\\camtrap 3 hermanas_16_02_23': 'CT_Camtraption',\n",
    "    '2023\\\\Araucarias\\\\camtrap 8_02_23': 'CT_Camtraption'\n",
    "}\n",
    "\n",
    "# Create a new column 'ID_CamaraTrampa' in the DataFrame and fill it with the corresponding values\n",
    "data['ID_CamaraTrampa'] = data['RelativePath'].map(id_camara_trampa_dict)"
   ]
  },
  {
   "cell_type": "code",
   "execution_count": 8,
   "metadata": {},
   "outputs": [
    {
     "name": "stdout",
     "output_type": "stream",
     "text": [
      "['CT_10' 'CT_09' 'CT_13' 'CT_14' 'CT_11' 'CT_16' 'CT_01' 'CT_02' 'CT_05'\n",
      " 'CT_06' 'CT_03' 'CT_07' 'CT_08' 'CT_Camtraption' 'CT_17' 'CT_12']\n"
     ]
    }
   ],
   "source": [
    "unique_ID_CamapraTrampa = data['ID_CamaraTrampa'].unique()\n",
    "print(unique_ID_CamapraTrampa)"
   ]
  },
  {
   "cell_type": "code",
   "execution_count": 8,
   "metadata": {},
   "outputs": [
    {
     "name": "stdout",
     "output_type": "stream",
     "text": [
      "    RootFolder          File      RelativePath              DateTime Animal  \\\n",
      "458      Fotos  05070035.JPG  2022\\CoRaTe\\Puma   2022-05-07 15:32:32     Si   \n",
      "459      Fotos  05070036.JPG  2022\\CoRaTe\\Puma   2022-05-07 15:32:32     Si   \n",
      "460      Fotos  05070037.JPG  2022\\CoRaTe\\Puma   2022-05-07 15:32:33     Si   \n",
      "461      Fotos  05070023.JPG  2022\\CoRaTe\\Puma   2022-05-07 15:32:48     Si   \n",
      "462      Fotos  05070024.JPG  2022\\CoRaTe\\Puma   2022-05-07 15:32:49     Si   \n",
      "463      Fotos  05070025.JPG  2022\\CoRaTe\\Puma   2022-05-07 15:32:50     Si   \n",
      "\n",
      "    Person Especie  Counter0    Note0  Unnamed: 9 Estacion ID_CamaraTrampa  \n",
      "458     No    Puma         1  118:1|6         NaN   CoRaTe             NaN  \n",
      "459     No    Puma         1  118:2|6         NaN   CoRaTe             NaN  \n",
      "460     No    Puma         1  118:3|6         NaN   CoRaTe             NaN  \n",
      "461     No    Puma         1  118:4|6         NaN   CoRaTe             NaN  \n",
      "462     No    Puma         1  118:5|6         NaN   CoRaTe             NaN  \n",
      "463     No    Puma         1  118:6|6         NaN   CoRaTe             NaN  \n"
     ]
    }
   ],
   "source": [
    "print(data[data['ID_CamaraTrampa'].isna()])"
   ]
  },
  {
   "cell_type": "code",
   "execution_count": 10,
   "metadata": {},
   "outputs": [
    {
     "name": "stdout",
     "output_type": "stream",
     "text": [
      "Rows with missing 'Estacion' values:\n",
      "Empty DataFrame\n",
      "Columns: [RootFolder, File, RelativePath, DateTime, Animal, Person, Especie, Counter0, Note0, Unnamed: 9, Estacion, ID_CamaraTrampa]\n",
      "Index: []\n",
      "\n",
      "Rows with missing 'ID_CamaraTrampa' values:\n",
      "Empty DataFrame\n",
      "Columns: [RootFolder, File, RelativePath, DateTime, Animal, Person, Especie, Counter0, Note0, Unnamed: 9, Estacion, ID_CamaraTrampa]\n",
      "Index: []\n"
     ]
    }
   ],
   "source": [
    "# Check for rows with missing 'estación' values\n",
    "print(\"Rows with missing 'Estacion' values:\")\n",
    "print(data[data['Estacion'].isna()])\n",
    "\n",
    "# Check for rows with missing 'ID_CamaraTrampa' values\n",
    "print(\"\\nRows with missing 'ID_CamaraTrampa' values:\")\n",
    "print(data[data['ID_CamaraTrampa'].isna()])"
   ]
  },
  {
   "cell_type": "code",
   "execution_count": 11,
   "metadata": {},
   "outputs": [],
   "source": [
    "# Convert the column to datetime format\n",
    "data['DateTime'] = pd.to_datetime(data['DateTime'])\n",
    "\n",
    "# Extract year, month, day, and time\n",
    "data['Year'] = data['DateTime'].dt.year\n",
    "data['Month'] = data['DateTime'].dt.month\n",
    "data['Day'] = data['DateTime'].dt.day\n",
    "data['Time'] = data['DateTime'].dt.time\n"
   ]
  },
  {
   "cell_type": "code",
   "execution_count": 14,
   "metadata": {},
   "outputs": [],
   "source": [
    "#deal with episode data. Variable Note0 contains the episode data\n",
    "data[['Episode_ID', 'Episode_length']] = data['Note0'].str.split(':', n=1, expand=True)\n"
   ]
  },
  {
   "cell_type": "code",
   "execution_count": 19,
   "metadata": {},
   "outputs": [],
   "source": [
    "pivot_table = (\n",
    "    data\n",
    "    .groupby(['Especie', 'Year', 'Episode_ID'])['Counter0']\n",
    "    .max()\n",
    "    .groupby(['Especie', 'Year'])\n",
    "    .sum()\n",
    "    .unstack(fill_value=0)\n",
    ")"
   ]
  },
  {
   "cell_type": "code",
   "execution_count": 20,
   "metadata": {},
   "outputs": [
    {
     "name": "stdout",
     "output_type": "stream",
     "text": [
      "Year          1970  2017  2022  2023  2024\n",
      "Especie                                   \n",
      "Carpintero       0     0     0     3     0\n",
      "Cometocino       0     0     0     1     0\n",
      "Concón           0     0     0     1     0\n",
      "Diucón           0     0     0     1     0\n",
      "Guiña            0     0     4     1     0\n",
      "Hued hued        0     0     1     0     0\n",
      "Jabali           2     9     8    90     5\n",
      "Liebre           0     0    42    16     0\n",
      "Perro            0     2    48    65     3\n",
      "Peuquito         0     0     0     2     0\n",
      "Puma             0     0    11     5     1\n",
      "Rayadito         0     0     0     1     0\n",
      "Traro            0     0     0     1     0\n",
      "Zorro culpeo     1     1    38    66     2\n",
      "Zorzal           0     0     2     0     0\n"
     ]
    }
   ],
   "source": [
    "print(pivot_table)"
   ]
  },
  {
   "cell_type": "code",
   "execution_count": null,
   "metadata": {},
   "outputs": [],
   "source": []
  }
 ],
 "metadata": {
  "kernelspec": {
   "display_name": "base",
   "language": "python",
   "name": "python3"
  },
  "language_info": {
   "codemirror_mode": {
    "name": "ipython",
    "version": 3
   },
   "file_extension": ".py",
   "mimetype": "text/x-python",
   "name": "python",
   "nbconvert_exporter": "python",
   "pygments_lexer": "ipython3",
   "version": "3.10.13"
  }
 },
 "nbformat": 4,
 "nbformat_minor": 2
}
