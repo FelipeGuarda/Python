{
 "cells": [
  {
   "cell_type": "code",
   "execution_count": 2,
   "metadata": {},
   "outputs": [],
   "source": [
    "import pandas as pd\n",
    "import numpy as np\n",
    "import seaborn as sns\n",
    "import matplotlib.pyplot as plt\n",
    "\n"
   ]
  },
  {
   "cell_type": "code",
   "execution_count": 4,
   "metadata": {},
   "outputs": [
    {
     "name": "stdout",
     "output_type": "stream",
     "text": [
      "  RootFolder          File                   RelativePath  \\\n",
      "0      Fotos  05100020.JPG  2022\\Araucarias\\CT10_06_12_22   \n",
      "1      Fotos  05100021.JPG  2022\\Araucarias\\CT10_06_12_22   \n",
      "2      Fotos  05120024.JPG  2022\\Araucarias\\CT10_06_12_22   \n",
      "3      Fotos  05160032.JPG  2022\\Araucarias\\CT10_06_12_22   \n",
      "4      Fotos  05200064.JPG  2022\\Araucarias\\CT10_06_12_22   \n",
      "\n",
      "               DateTime  DeleteFlag Animal Person       Especie  Counter0  \\\n",
      "0   2022-05-10 17:58:37       False     Si     No          Puma         1   \n",
      "1   2022-05-10 17:58:37       False     Si     No          Puma         1   \n",
      "2   2022-05-12 05:43:25       False     Si     No  Zorro culpeo         1   \n",
      "3   2022-05-16 20:54:56       False     Si     No          Puma         1   \n",
      "4   2022-05-20 23:34:12       False     Si     No  Zorro culpeo         1   \n",
      "\n",
      "   Unnamed: 9  \n",
      "0         NaN  \n",
      "1         NaN  \n",
      "2         NaN  \n",
      "3         NaN  \n",
      "4         NaN  \n"
     ]
    }
   ],
   "source": [
    "file_path = r\"G:\\Shared drives\\FMA-G\\C-CONSERVACIÓN\\C1_Bosque Pehuen\\6 Bosque Pehuen\\Conservación\\Camaras trampa\\2022 - febr. 2024\\Fotos\\Base de datos para analisis 2022 - feb. 2024.csv\"\n",
    "data = pd.read_csv(file_path)\n",
    "\n",
    "print (data.head())\n"
   ]
  },
  {
   "cell_type": "code",
   "execution_count": 5,
   "metadata": {},
   "outputs": [
    {
     "name": "stdout",
     "output_type": "stream",
     "text": [
      "['Araucaria' 'CoRaTe quebrada' 'CoRaTe' 'Lenga pradera' 'Lenga'\n",
      " 'RoRaCo renoval' 'RoRaCo rio' 'Santuario anfibios']\n"
     ]
    }
   ],
   "source": [
    "data['Estacion'] = np.where(data['RelativePath'].isin([\"2022\\\\Araucarias\\\\CT10_06_12_22\", \"2022\\\\Araucarias\\\\CT9\", \"2023\\\\Araucarias\\\\CT 3 hermanas_16_02_23\", \"2023\\\\Araucarias\\\\CT 3 hermanas_enero 23\", \"2023\\\\Araucarias\\\\camtrap 3 hermanas_16_02_23\", \"2023\\\\Araucarias\\\\camtrap 8_02_23\", \"2024\\\\TC_10\", \"2024\\\\TC_9\\\\100EK113\"]), \"Araucaria\",\n",
    "                           np.where(data['RelativePath'].isin([\"2022\\\\CoRaTe Quebrada\\\\CT13\"]), \"CoRaTe quebrada\",\n",
    "                                    np.where(data['RelativePath'].isin([\"2022\\\\CoRaTe\\\\CT11_12_2022\", \"2022\\\\CoRaTe\\\\Puma\", \"2023\\\\TC11\", \"2023\\\\TC12\"]), \"CoRaTe\",\n",
    "                                             np.where(data['RelativePath'].isin([\"2022\\\\Lenga - Pradera\\\\CT16\"]), \"Lenga pradera\",\n",
    "                                                      np.where(data['RelativePath'].isin([\"2022\\\\Lenga\\\\CT1\", \"2022\\\\Lenga\\\\CT2\", \"2024\\\\TC_1\", \"2024\\\\TC_2\"]), \"Lenga\",\n",
    "                                                               np.where(data['RelativePath'].isin([\"2022\\\\RoRaCo Renoval\\\\CT5\", \"2022\\\\RoRaCo Renoval\\\\CT6\\\\100EK113\", \"2022\\\\RoRaCo Renoval\\\\CT6\\\\103EK113\", \"2023\\\\RoRaCo Renoval\\\\TC5\", \"2023\\\\RoRaCo Renoval\\\\TC6\", \"2024\\\\TC_5\", \"2024\\\\TC_6\"]), \"RoRaCo renoval\",\n",
    "                                                                        np.where(data['RelativePath'].isin([\"2022\\\\RoRaCo Rio\\\\CT3\"]), \"RoRaCo rio\",\n",
    "                                                                                 np.where(data['RelativePath'].isin([\"2022\\\\Santuario Anfibios\\\\CT7\", \"2022\\\\Santuario Anfibios\\\\CT8\", \"2022\\\\Santuario Anfibios\\\\CT8_nov_22\", \"2023\\\\Santuario Anfibios\\\\TC7\", \"2023\\\\Santuario Anfibios\\\\TC8\", \"2024\\\\TC_7\", \"2024\\\\TC_8\"]), \"Santuario anfibios\", \"\"))))))))\n",
    "\n",
    "\n",
    "unique_estacion = data['Estacion'].unique()\n",
    "print(unique_estacion)"
   ]
  },
  {
   "cell_type": "code",
   "execution_count": 6,
   "metadata": {},
   "outputs": [
    {
     "name": "stdout",
     "output_type": "stream",
     "text": [
      "['CT 10' 'CT 09' 'CT 13' 'CT 11 y 12' 'CT 16' 'CT 01' 'CT 02' 'CT 05'\n",
      " 'CT 06' 'CT 03' 'CT 07' 'CT 08' 'Camtraption' '']\n"
     ]
    }
   ],
   "source": [
    "data['ID_CamaraTrampa'] = np.where(data['RelativePath'].isin([\"2022\\\\Araucarias\\\\CT10_06_12_22\", \"2023\\\\Araucarias\\\\CT 3 hermanas_16_02_23\", \"2023\\\\Araucarias\\\\CT 3 hermanas_enero 23\"]), \"CT 10\",\n",
    "                                  np.where(data['RelativePath'].isin([\"2022\\\\Araucarias\\\\CT9\", \"2024\\\\TC_9\\\\100EK113\"]), \"CT 09\",\n",
    "                                           np.where(data['RelativePath'].isin([\"2022\\\\CoRaTe Quebrada\\\\CT13\"]), \"CT 13\",\n",
    "                                                    np.where(data['RelativePath'].isin([\"2022\\\\CoRaTe\\\\CT11_12_2022\", \"2022\\\\CoRaTe\\\\Puma\", \"2023\\\\TC11\", \"2023\\\\TC12\"]), \"CT 11 y 12\",\n",
    "                                                             np.where(data['RelativePath'].isin([\"2022\\\\Lenga - Pradera\\\\CT16\"]), \"CT 16\",\n",
    "                                                                      np.where(data['RelativePath'].isin([\"2022\\\\Lenga\\\\CT1\", \"2024\\\\TC_1\"]), \"CT 01\",\n",
    "                                                                               np.where(data['RelativePath'].isin([\"2022\\\\Lenga\\\\CT2\", \"2024\\\\TC_2\"]), \"CT 02\",\n",
    "                                                                                        np.where(data['RelativePath'].isin([\"2022\\\\RoRaCo Renoval\\\\CT5\", \"2023\\\\RoRaCo Renoval\\\\TC5\", \"2024\\\\TC_5\"]), \"CT 05\",\n",
    "                                                                                                 np.where(data['RelativePath'].isin([\"2022\\\\RoRaCo Renoval\\\\CT6\\\\100EK113\", \"2022\\\\RoRaCo Renoval\\\\CT6\\\\103EK113\", \"2023\\\\RoRaCo Renoval\\\\TC6\", \"2024\\\\TC_6\"]), \"CT 06\",\n",
    "                                                                                                          np.where(data['RelativePath'].isin([\"2022\\\\RoRaCo Rio\\\\CT3\"]), \"CT 03\",\n",
    "                                                                                                                   np.where(data['RelativePath'].isin([\"2022\\\\Santuario Anfibios\\\\CT7\", \"2023\\\\Santuario Anfibios\\\\TC7\", \"2024\\\\TC_7\"]), \"CT 07\",\n",
    "                                                                                                                            np.where(data['RelativePath'].isin([\"2022\\\\Santuario Anfibios\\\\CT8\", \"2022\\\\Santuario Anfibios\\\\CT8_nov_22\", \"2023\\\\Santuario Anfibios\\\\TC8\", \"2024\\\\TC_8\"]), \"CT 08\",\n",
    "                                                                                                                                     np.where(data['RelativePath'].isin([\"2023\\\\Araucarias\\\\camtrap 3 hermanas_16_02_23\", \"2023\\\\Araucarias\\\\camtrap 8_02_23\"]), \"Camtraption\", \"\")))))))))))))\n",
    "\n",
    "unique_ID_CamaraTrampa = data['ID_CamaraTrampa'].unique()\n",
    "print(unique_ID_CamaraTrampa)"
   ]
  },
  {
   "cell_type": "code",
   "execution_count": 7,
   "metadata": {},
   "outputs": [
    {
     "name": "stdout",
     "output_type": "stream",
     "text": [
      "Number of missing values in ID_CamaraTrampa: 0\n"
     ]
    }
   ],
   "source": [
    "missing_values = data['ID_CamaraTrampa'].isnull().sum()\n",
    "print(\"Number of missing values in ID_CamaraTrampa:\", missing_values)"
   ]
  },
  {
   "cell_type": "code",
   "execution_count": 8,
   "metadata": {},
   "outputs": [
    {
     "name": "stdout",
     "output_type": "stream",
     "text": [
      "   RootFolder          File                   RelativePath  \\\n",
      "0       Fotos  05100020.JPG  2022\\Araucarias\\CT10_06_12_22   \n",
      "1       Fotos  05100021.JPG  2022\\Araucarias\\CT10_06_12_22   \n",
      "2       Fotos  05120024.JPG  2022\\Araucarias\\CT10_06_12_22   \n",
      "3       Fotos  05160032.JPG  2022\\Araucarias\\CT10_06_12_22   \n",
      "4       Fotos  05200064.JPG  2022\\Araucarias\\CT10_06_12_22   \n",
      "..        ...           ...                            ...   \n",
      "95      Fotos  IMAG0065.JPG      2022\\Lenga - Pradera\\CT16   \n",
      "96      Fotos  IMAG0173.JPG      2022\\Lenga - Pradera\\CT16   \n",
      "97      Fotos  IMAG0249.JPG      2022\\Lenga - Pradera\\CT16   \n",
      "98      Fotos  IMAG0250.JPG      2022\\Lenga - Pradera\\CT16   \n",
      "99      Fotos  IMAG0309.JPG      2022\\Lenga - Pradera\\CT16   \n",
      "\n",
      "                DateTime  DeleteFlag Animal Person       Especie  Counter0  \\\n",
      "0    2022-05-10 17:58:37       False     Si     No          Puma         1   \n",
      "1    2022-05-10 17:58:37       False     Si     No          Puma         1   \n",
      "2    2022-05-12 05:43:25       False     Si     No  Zorro culpeo         1   \n",
      "3    2022-05-16 20:54:56       False     Si     No          Puma         1   \n",
      "4    2022-05-20 23:34:12       False     Si     No  Zorro culpeo         1   \n",
      "..                   ...         ...    ...    ...           ...       ...   \n",
      "95   2022-12-19 10:26:11       False     Si     No         Perro         1   \n",
      "96   2022-12-19 10:34:35       False     Si     No        Liebre         1   \n",
      "97   2022-12-19 10:39:35       False     Si     No        Liebre         1   \n",
      "98   2022-12-19 10:39:38       False     Si     No        Liebre         1   \n",
      "99   2022-12-19 10:43:45       False     Si     No        Liebre         1   \n",
      "\n",
      "         Estacion ID_CamaraTrampa  \n",
      "0       Araucaria           CT 10  \n",
      "1       Araucaria           CT 10  \n",
      "2       Araucaria           CT 10  \n",
      "3       Araucaria           CT 10  \n",
      "4       Araucaria           CT 10  \n",
      "..            ...             ...  \n",
      "95  Lenga pradera           CT 16  \n",
      "96  Lenga pradera           CT 16  \n",
      "97  Lenga pradera           CT 16  \n",
      "98  Lenga pradera           CT 16  \n",
      "99  Lenga pradera           CT 16  \n",
      "\n",
      "[100 rows x 11 columns]\n"
     ]
    }
   ],
   "source": [
    "data = data.drop('Unnamed: 9', axis=1)\n",
    "print(data.head(100))\n"
   ]
  },
  {
   "cell_type": "code",
   "execution_count": 9,
   "metadata": {},
   "outputs": [],
   "source": [
    "# Convert the column to datetime format\n",
    "data['DateTime'] = pd.to_datetime(data['DateTime'])\n",
    "\n",
    "# Extract year, month, day, and time\n",
    "data['Year'] = data['DateTime'].dt.year\n",
    "data['Month'] = data['DateTime'].dt.month\n",
    "data['Day'] = data['DateTime'].dt.day\n",
    "data['Time'] = data['DateTime'].dt.time\n"
   ]
  },
  {
   "cell_type": "code",
   "execution_count": 10,
   "metadata": {},
   "outputs": [
    {
     "name": "stdout",
     "output_type": "stream",
     "text": [
      "Year          1970   2017  2022   2023  2024\n",
      "Especie                                     \n",
      "Carpintero     0.0    0.0   0.0    3.0   0.0\n",
      "Cometocino     0.0    0.0   0.0    1.0   0.0\n",
      "Concón         0.0    0.0   0.0    3.0   0.0\n",
      "Diucón         0.0    0.0   0.0    2.0   0.0\n",
      "Guiña          0.0    0.0   6.0    2.0   0.0\n",
      "Hued hued      0.0    0.0   1.0    0.0   0.0\n",
      "Jabali        16.0  102.0  33.0  378.0  12.0\n",
      "Liebre         0.0    0.0  97.0   49.0   0.0\n",
      "Perro          0.0    3.0  97.0  131.0   5.0\n",
      "Peuquito       0.0    0.0   0.0    3.0   0.0\n",
      "Puma           0.0    0.0  33.0   12.0   2.0\n",
      "Rayadito       0.0    0.0   0.0    1.0   0.0\n",
      "Traro          0.0    0.0   0.0    1.0   0.0\n",
      "Zorro culpeo   6.0    3.0  79.0  139.0   4.0\n",
      "Zorzal         0.0    0.0   6.0    0.0   0.0\n"
     ]
    }
   ],
   "source": [
    "species_by_year = data.groupby('Year')['Especie'].value_counts().unstack().fillna(0)\n",
    "species_by_year = species_by_year.T\n",
    "print(species_by_year)"
   ]
  },
  {
   "cell_type": "code",
   "execution_count": 11,
   "metadata": {},
   "outputs": [
    {
     "name": "stdout",
     "output_type": "stream",
     "text": [
      "ID_CamaraTrampa        CT 01  CT 02  CT 03  CT 05  CT 06  CT 07  CT 08  CT 09  \\\n",
      "Especie                                                                         \n",
      "Carpintero        0.0    0.0    0.0    0.0    3.0    0.0    0.0    0.0    0.0   \n",
      "Cometocino        0.0    0.0    0.0    0.0    1.0    0.0    0.0    0.0    0.0   \n",
      "Concón            0.0    0.0    0.0    0.0    0.0    0.0    0.0    3.0    0.0   \n",
      "Diucón            0.0    0.0    0.0    0.0    0.0    0.0    2.0    0.0    0.0   \n",
      "Guiña             0.0    0.0    0.0    0.0    0.0    3.0    0.0    2.0    0.0   \n",
      "Hued hued         0.0    0.0    0.0    0.0    0.0    0.0    0.0    1.0    0.0   \n",
      "Jabali            0.0   10.0    0.0    0.0   39.0   69.0  189.0  189.0   24.0   \n",
      "Liebre            0.0   32.0    7.0    0.0   53.0    0.0   13.0    1.0    0.0   \n",
      "Perro             0.0    2.0    6.0   13.0   63.0   24.0   45.0   64.0    0.0   \n",
      "Peuquito          0.0    0.0    0.0    0.0    0.0    0.0    0.0    0.0    0.0   \n",
      "Puma              0.0    3.0    7.0    0.0    4.0    3.0    0.0    5.0    0.0   \n",
      "Rayadito          0.0    0.0    0.0    0.0    0.0    1.0    0.0    0.0    0.0   \n",
      "Traro             0.0    0.0    0.0    0.0    1.0    0.0    0.0    0.0    0.0   \n",
      "Zorro culpeo     10.0    8.0   19.0    0.0   67.0    7.0   16.0   43.0   12.0   \n",
      "Zorzal            0.0    0.0    0.0    0.0    0.0    0.0    6.0    0.0    0.0   \n",
      "\n",
      "ID_CamaraTrampa  CT 10  CT 11 y 12  CT 13  CT 16  Camtraption  \n",
      "Especie                                                        \n",
      "Carpintero         0.0         0.0    0.0    0.0          0.0  \n",
      "Cometocino         0.0         0.0    0.0    0.0          0.0  \n",
      "Concón             0.0         0.0    0.0    0.0          0.0  \n",
      "Diucón             0.0         0.0    0.0    0.0          0.0  \n",
      "Guiña              0.0         3.0    0.0    0.0          0.0  \n",
      "Hued hued          0.0         0.0    0.0    0.0          0.0  \n",
      "Jabali             0.0        21.0    0.0    0.0          0.0  \n",
      "Liebre            20.0        10.0    0.0   10.0          0.0  \n",
      "Perro              0.0        12.0    6.0    1.0          0.0  \n",
      "Peuquito           3.0         0.0    0.0    0.0          0.0  \n",
      "Puma              10.0        15.0    0.0    0.0          0.0  \n",
      "Rayadito           0.0         0.0    0.0    0.0          0.0  \n",
      "Traro              0.0         0.0    0.0    0.0          0.0  \n",
      "Zorro culpeo      25.0        21.0    0.0    0.0          3.0  \n",
      "Zorzal             0.0         0.0    0.0    0.0          0.0  \n"
     ]
    }
   ],
   "source": [
    "species_by_camara = data.groupby('ID_CamaraTrampa')['Especie'].value_counts().unstack().fillna(0)\n",
    "species_by_camara = species_by_camara.T\n",
    "print(species_by_camara)"
   ]
  },
  {
   "cell_type": "code",
   "execution_count": null,
   "metadata": {},
   "outputs": [],
   "source": []
  }
 ],
 "metadata": {
  "kernelspec": {
   "display_name": "base",
   "language": "python",
   "name": "python3"
  },
  "language_info": {
   "codemirror_mode": {
    "name": "ipython",
    "version": 3
   },
   "file_extension": ".py",
   "mimetype": "text/x-python",
   "name": "python",
   "nbconvert_exporter": "python",
   "pygments_lexer": "ipython3",
   "version": "3.10.13"
  }
 },
 "nbformat": 4,
 "nbformat_minor": 2
}
