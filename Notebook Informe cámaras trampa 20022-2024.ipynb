{
 "cells": [
  {
   "cell_type": "code",
   "execution_count": 1,
   "metadata": {},
   "outputs": [],
   "source": [
    "import pandas as pd\n",
    "import numpy as np\n",
    "import seaborn as sns\n",
    "import matplotlib.pyplot as plt\n",
    "import xlsxwriter\n",
    "import pandas_flavor as pf\n",
    "\n",
    "\n"
   ]
  },
  {
   "cell_type": "code",
   "execution_count": 2,
   "metadata": {},
   "outputs": [],
   "source": [
    "file_path = r\"G:\\Shared drives\\FMA-G\\C-CONSERVACIÓN\\C1_Bosque Pehuen\\6 Bosque Pehuen\\Conservación\\Camaras trampa\\2022 - febr. 2024\\Fotos\\2022-feb2024_todas_episodios.csv\"\n",
    "data = pd.read_csv(file_path)\n"
   ]
  },
  {
   "cell_type": "code",
   "execution_count": 3,
   "metadata": {},
   "outputs": [],
   "source": [
    "data = data[data['RelativePath'] != '2022\\\\CoRaTe\\\\Puma']\n",
    "data.drop(columns=[\"Unnamed: 9\"], inplace=True)"
   ]
  },
  {
   "cell_type": "code",
   "execution_count": 4,
   "metadata": {},
   "outputs": [
    {
     "name": "stdout",
     "output_type": "stream",
     "text": [
      "['2022\\\\Araucarias\\\\CT10_06_12_22' '2022\\\\Araucarias\\\\CT9'\n",
      " '2022\\\\CoRaTe Quebrada\\\\CT13' '2022\\\\CoRaTe Quebrada\\\\CT14'\n",
      " '2022\\\\CoRaTe\\\\CT11_12_2022' '2022\\\\Lenga - Pradera\\\\CT16'\n",
      " '2022\\\\Lenga\\\\CT1' '2022\\\\Lenga\\\\CT2' '2022\\\\RoRaCo Renoval\\\\CT5'\n",
      " '2022\\\\RoRaCo Renoval\\\\CT6\\\\100EK113'\n",
      " '2022\\\\RoRaCo Renoval\\\\CT6\\\\101EK113'\n",
      " '2022\\\\RoRaCo Renoval\\\\CT6\\\\102EK113'\n",
      " '2022\\\\RoRaCo Renoval\\\\CT6\\\\103EK113'\n",
      " '2022\\\\RoRaCo Renoval\\\\CT6\\\\104EK113' '2022\\\\RoRaCo Rio\\\\CT3'\n",
      " '2022\\\\Santuario Anfibios\\\\CT7' '2022\\\\Santuario Anfibios\\\\CT7_Nov_22'\n",
      " '2022\\\\Santuario Anfibios\\\\CT8' '2022\\\\Santuario Anfibios\\\\CT8_nov_22'\n",
      " '2023\\\\Araucarias\\\\CT 3 hermanas_16_02_23'\n",
      " '2023\\\\Araucarias\\\\CT 3 hermanas_enero 23'\n",
      " '2023\\\\Araucarias\\\\camtrap 3 hermanas_16_02_23'\n",
      " '2023\\\\Araucarias\\\\camtrap 8_02_23' '2023\\\\RoRaCo Renoval\\\\TC5'\n",
      " '2023\\\\RoRaCo Renoval\\\\TC6' '2023\\\\Santuario Anfibios\\\\TC7'\n",
      " '2023\\\\Santuario Anfibios\\\\TC8'\n",
      " '2023\\\\TC 17 Salto de la Mariposa\\\\100EK113'\n",
      " '2023\\\\TC 17 Salto de la Mariposa\\\\101EK113' '2023\\\\TC11' '2023\\\\TC12'\n",
      " '2024\\\\TC_1' '2024\\\\TC_10' '2024\\\\TC_2' '2024\\\\TC_5' '2024\\\\TC_6'\n",
      " '2024\\\\TC_7' '2024\\\\TC_8' '2024\\\\TC_9\\\\100EK113' '2024\\\\TC_9\\\\101EK113'\n",
      " '2024\\\\TC_9\\\\102EK113']\n"
     ]
    }
   ],
   "source": [
    "unique_RelativePath = data['RelativePath'].unique()\n",
    "print(unique_RelativePath)"
   ]
  },
  {
   "cell_type": "code",
   "execution_count": 5,
   "metadata": {},
   "outputs": [],
   "source": [
    "# Create a dictionary that maps the RelativePath values to the corresponding Estación value\n",
    "estacion_dict = {\n",
    "    '2022\\\\Araucarias\\\\CT10_06_12_22': 'Araucarias',\n",
    "    '2022\\\\Araucarias\\\\CT9': 'Araucarias',\n",
    "    '2023\\\\Araucarias\\\\CT 3 hermanas_16_02_23': 'Araucarias',\n",
    "    '2023\\\\Araucarias\\\\CT 3 hermanas_enero 23': 'Araucarias',\n",
    "    '2024\\\\TC_10': 'Araucarias',\n",
    "    '2024\\\\TC_9\\\\100EK113': 'Araucarias',\n",
    "    '2024\\\\TC_9\\\\101EK113': 'Araucarias',\n",
    "    '2024\\\\TC_9\\\\102EK113': 'Araucarias',\n",
    "    '2022\\\\CoRaTe Quebrada\\\\CT13': 'CoRaTe Quebrada',\n",
    "    '2022\\\\CoRaTe Quebrada\\\\CT14': 'CoRaTe Quebrada',\n",
    "    '2022\\\\CoRaTe\\\\CT11_12_2022': 'CoRaTe',\n",
    "    '2022\\\\CoRaTe\\\\Puma': 'CoRaTe',\n",
    "    '2023\\\\TC11': 'CoRaTe',\n",
    "    '2023\\\\TC12': 'CoRaTe',\n",
    "    '2022\\\\Lenga\\\\CT1': 'Lenga',\n",
    "    '2022\\\\Lenga\\\\CT2': 'Lenga',\n",
    "    '2024\\\\TC_1': 'Lenga',\n",
    "    '2024\\\\TC_2': 'Lenga',\n",
    "    '2022\\\\Lenga - Pradera\\\\CT16': 'Lenga - Pradera',\n",
    "    '2022\\\\RoRaCo Renoval\\\\CT5': 'RoRaCo Renoval',\n",
    "    '2022\\\\RoRaCo Renoval\\\\CT6\\\\100EK113': 'RoRaCo Renoval',\n",
    "    '2022\\\\RoRaCo Renoval\\\\CT6\\\\101EK113': 'RoRaCo Renoval',\n",
    "    '2022\\\\RoRaCo Renoval\\\\CT6\\\\102EK113': 'RoRaCo Renoval',\n",
    "    '2022\\\\RoRaCo Renoval\\\\CT6\\\\103EK113': 'RoRaCo Renoval',\n",
    "    '2022\\\\RoRaCo Renoval\\\\CT6\\\\104EK113': 'RoRaCo Renoval',\n",
    "    '2023\\\\RoRaCo Renoval\\\\TC5': 'RoRaCo Renoval',\n",
    "    '2023\\\\RoRaCo Renoval\\\\TC6': 'RoRaCo Renoval',\n",
    "    '2024\\\\TC_5': 'RoRaCo Renoval',\n",
    "    '2024\\\\TC_6': 'RoRaCo Renoval',\n",
    "    '2022\\\\RoRaCo Rio\\\\CT3': 'RoRaCo Río',\n",
    "    '2022\\\\Santuario Anfibios\\\\CT7': 'Santuario de anfibios',\n",
    "    '2022\\\\Santuario Anfibios\\\\CT7_Nov_22': 'Santuario de anfibios',\n",
    "    '2022\\\\Santuario Anfibios\\\\CT8': 'Santuario de anfibios',\n",
    "    '2022\\\\Santuario Anfibios\\\\CT8_nov_22': 'Santuario de anfibios',\n",
    "    '2023\\\\Santuario Anfibios\\\\TC7': 'Santuario de anfibios',\n",
    "    '2023\\\\Santuario Anfibios\\\\TC8': 'Santuario de anfibios',\n",
    "    '2024\\\\TC_7': 'Santuario de anfibios',\n",
    "    '2024\\\\TC_8': 'Santuario de anfibios',\n",
    "    '2023\\\\Araucarias\\\\camtrap 3 hermanas_16_02_23': 'Camtraption',\n",
    "    '2023\\\\Araucarias\\\\camtrap 8_02_23': 'Camtraption',\n",
    "    '2023\\\\TC 17 Salto de la Mariposa\\\\100EK113': 'Salto de la mariposa',\n",
    "    '2023\\\\TC 17 Salto de la Mariposa\\\\101EK113': 'Salto de la mariposa'\n",
    "}\n",
    "\n",
    "# Create a new column 'estación' in the DataFrame and fill it with the corresponding values\n",
    "data['Estacion'] = data['RelativePath'].map(estacion_dict)"
   ]
  },
  {
   "cell_type": "code",
   "execution_count": 6,
   "metadata": {},
   "outputs": [],
   "source": [
    "data = data[data['Estacion'] != 'Camptraption']"
   ]
  },
  {
   "cell_type": "code",
   "execution_count": 8,
   "metadata": {},
   "outputs": [
    {
     "name": "stdout",
     "output_type": "stream",
     "text": [
      "['Araucarias' 'CoRaTe Quebrada' 'CoRaTe' 'Lenga - Pradera' 'Lenga'\n",
      " 'RoRaCo Renoval' 'RoRaCo Río' 'Santuario de anfibios' 'Camtraption'\n",
      " 'Salto de la mariposa']\n"
     ]
    }
   ],
   "source": [
    "unique_Estacion = data['Estacion'].unique()\n",
    "print(unique_Estacion)"
   ]
  },
  {
   "cell_type": "code",
   "execution_count": 57,
   "metadata": {},
   "outputs": [],
   "source": [
    "# Create a dictionary that maps the RelativePath values to the corresponding ID_CamaraTrampa value\n",
    "id_camara_trampa_dict = {\n",
    "    '2022\\\\Lenga\\\\CT1': 'CT_01',\n",
    "    '2024\\\\TC_1': 'CT_01',\n",
    "    '2022\\\\Lenga\\\\CT2': 'CT_02',\n",
    "    '2024\\\\TC_2': 'CT_02',\n",
    "    '2022\\\\RoRaCo Rio\\\\CT3': 'CT_03',\n",
    "    '2022\\\\RoRaCo Renoval\\\\CT5': 'CT_05',\n",
    "    '2023\\\\RoRaCo Renoval\\\\TC5': 'CT_05',\n",
    "    '2024\\\\TC_5': 'CT_05',\n",
    "    '2022\\\\RoRaCo Renoval\\\\CT6\\\\100EK113': 'CT_06',\n",
    "    '2022\\\\RoRaCo Renoval\\\\CT6\\\\101EK113': 'CT_06',\n",
    "    '2022\\\\RoRaCo Renoval\\\\CT6\\\\102EK113': 'CT_06',\n",
    "    '2022\\\\RoRaCo Renoval\\\\CT6\\\\103EK113': 'CT_06',\n",
    "    '2022\\\\RoRaCo Renoval\\\\CT6\\\\104EK113': 'CT_06',\n",
    "    '2023\\\\RoRaCo Renoval\\\\TC6': 'CT_06',\n",
    "    '2024\\\\TC_6': 'CT_06',\n",
    "    '2022\\\\Santuario Anfibios\\\\CT7': 'CT_07',\n",
    "    '2022\\\\Santuario Anfibios\\\\CT7_Nov_22': 'CT_07',\n",
    "    '2023\\\\Santuario Anfibios\\\\TC7': 'CT_07',\n",
    "    '2024\\\\TC_7': 'CT_07',\n",
    "    '2022\\\\Santuario Anfibios\\\\CT8': 'CT_08',\n",
    "    '2022\\\\Santuario Anfibios\\\\CT8_nov_22': 'CT_08',\n",
    "    '2023\\\\Santuario Anfibios\\\\TC8': 'CT_08',\n",
    "    '2024\\\\TC_8': 'CT_08',\n",
    "    '2022\\\\Araucarias\\\\CT9': 'CT_09',\n",
    "    '2024\\\\TC_9\\\\100EK113': 'CT_09',\n",
    "    '2024\\\\TC_9\\\\101EK113': 'CT_09',\n",
    "    '2024\\\\TC_9\\\\102EK113': 'CT_09',\n",
    "    '2022\\\\Araucarias\\\\CT10_06_12_22': 'CT_10',\n",
    "    '2024\\\\TC_10': 'CT_10',\n",
    "    '2023\\\\Araucarias\\\\CT 3 hermanas_16_02_23': 'CT_10',\n",
    "    '2023\\\\Araucarias\\\\CT 3 hermanas_enero 23': 'CT_10',\n",
    "    '2022\\\\CoRaTe\\\\CT11_12_2022': 'CT_11',\n",
    "    '2023\\\\TC11': 'CT_11',\n",
    "    '2023\\\\TC12': 'CT_12',\n",
    "    '2022\\\\CoRaTe Quebrada\\\\CT13': 'CT_13',\n",
    "    '2022\\\\CoRaTe Quebrada\\\\CT14': 'CT_14',\n",
    "    '2022\\\\Lenga - Pradera\\\\CT16': 'CT_16',\n",
    "    '2023\\\\TC 17 Salto de la Mariposa\\\\100EK113': 'CT_17',\n",
    "    '2023\\\\TC 17 Salto de la Mariposa\\\\101EK113': 'CT_17',\n",
    "    '2023\\\\Araucarias\\\\camtrap 3 hermanas_16_02_23': 'CT_Camtraption',\n",
    "    '2023\\\\Araucarias\\\\camtrap 8_02_23': 'CT_Camtraption'\n",
    "}\n",
    "\n",
    "# Create a new column 'ID_CamaraTrampa' in the DataFrame and fill it with the corresponding values\n",
    "data['ID_CamaraTrampa'] = data['RelativePath'].map(id_camara_trampa_dict)"
   ]
  },
  {
   "cell_type": "code",
   "execution_count": 58,
   "metadata": {},
   "outputs": [
    {
     "name": "stdout",
     "output_type": "stream",
     "text": [
      "['CT_10' 'CT_09' 'CT_13' 'CT_14' 'CT_11' 'CT_16' 'CT_01' 'CT_02' 'CT_05'\n",
      " 'CT_06' 'CT_03' 'CT_07' 'CT_08' 'CT_Camtraption' 'CT_17' 'CT_12']\n"
     ]
    }
   ],
   "source": [
    "unique_ID_CamapraTrampa = data['ID_CamaraTrampa'].unique()\n",
    "print(unique_ID_CamapraTrampa)"
   ]
  },
  {
   "cell_type": "code",
   "execution_count": 36,
   "metadata": {},
   "outputs": [
    {
     "name": "stdout",
     "output_type": "stream",
     "text": [
      "Empty DataFrame\n",
      "Columns: [RootFolder, File, RelativePath, DateTime, Animal, Person, Especie, Counter0, Note0, Estacion, ID_CamaraTrampa]\n",
      "Index: []\n"
     ]
    }
   ],
   "source": [
    "print(data[data['ID_CamaraTrampa'].isna()])"
   ]
  },
  {
   "cell_type": "code",
   "execution_count": 37,
   "metadata": {},
   "outputs": [
    {
     "name": "stdout",
     "output_type": "stream",
     "text": [
      "Rows with missing 'Estacion' values:\n",
      "Empty DataFrame\n",
      "Columns: [RootFolder, File, RelativePath, DateTime, Animal, Person, Especie, Counter0, Note0, Estacion, ID_CamaraTrampa]\n",
      "Index: []\n",
      "\n",
      "Rows with missing 'ID_CamaraTrampa' values:\n",
      "Empty DataFrame\n",
      "Columns: [RootFolder, File, RelativePath, DateTime, Animal, Person, Especie, Counter0, Note0, Estacion, ID_CamaraTrampa]\n",
      "Index: []\n"
     ]
    }
   ],
   "source": [
    "# Check for rows with missing 'estación' values\n",
    "print(\"Rows with missing 'Estacion' values:\")\n",
    "print(data[data['Estacion'].isna()])\n",
    "\n",
    "# Check for rows with missing 'ID_CamaraTrampa' values\n",
    "print(\"\\nRows with missing 'ID_CamaraTrampa' values:\")\n",
    "print(data[data['ID_CamaraTrampa'].isna()])"
   ]
  },
  {
   "cell_type": "code",
   "execution_count": 38,
   "metadata": {},
   "outputs": [],
   "source": [
    "# Convert the column to datetime format\n",
    "data['DateTime'] = pd.to_datetime(data['DateTime'])\n",
    "\n",
    "# Extract year, month, day, and time\n",
    "data['Year'] = data['DateTime'].dt.year\n",
    "data['Month'] = data['DateTime'].dt.month\n",
    "data['Day'] = data['DateTime'].dt.day\n",
    "data['Time'] = data['DateTime'].dt.time\n"
   ]
  },
  {
   "cell_type": "code",
   "execution_count": 39,
   "metadata": {},
   "outputs": [],
   "source": [
    "#deal with episode data. Variable Note0 contains the episode data\n",
    "data[['Episode_ID', 'Episode_length']] = data['Note0'].str.split(':', n=1, expand=True)\n"
   ]
  },
  {
   "cell_type": "code",
   "execution_count": 40,
   "metadata": {},
   "outputs": [],
   "source": [
    "pivot_table_Especie_by_Year = (\n",
    "    data\n",
    "    .groupby(['Especie', 'Year', 'Episode_ID'])['Counter0']\n",
    "    .max()\n",
    "    .groupby(['Especie', 'Year'])\n",
    "    .sum()\n",
    "    .unstack(fill_value=0)\n",
    ")"
   ]
  },
  {
   "cell_type": "code",
   "execution_count": 41,
   "metadata": {},
   "outputs": [
    {
     "name": "stdout",
     "output_type": "stream",
     "text": [
      "Year          1970  2017  2022  2023  2024\n",
      "Especie                                   \n",
      "Carpintero       0     0     0     3     0\n",
      "Cometocino       0     0     0     1     0\n",
      "Concón           0     0     0     1     0\n",
      "Diucón           0     0     0     1     0\n",
      "Guiña            0     0     4     1     0\n",
      "Hued hued        0     0     1     0     0\n",
      "Jabali           2     9     8    90     5\n",
      "Liebre           0     0    42    16     0\n",
      "Perro            0     2    48    65     3\n",
      "Peuquito         0     0     0     2     0\n",
      "Puma             0     0    11     5     1\n",
      "Rayadito         0     0     0     1     0\n",
      "Traro            0     0     0     1     0\n",
      "Zorro culpeo     1     1    38    66     2\n",
      "Zorzal           0     0     2     0     0\n"
     ]
    }
   ],
   "source": [
    "print(pivot_table_Especie_by_Year)"
   ]
  },
  {
   "cell_type": "code",
   "execution_count": 42,
   "metadata": {},
   "outputs": [],
   "source": [
    "pivot_table_Especie_by_Estacion = (\n",
    "    data\n",
    "    .groupby(['Especie', 'Estacion', 'Episode_ID'])['Counter0']\n",
    "    .max()\n",
    "    .groupby(['Especie', 'Estacion'])\n",
    "    .sum()\n",
    "    .unstack(fill_value=0)\n",
    ")"
   ]
  },
  {
   "cell_type": "code",
   "execution_count": 43,
   "metadata": {},
   "outputs": [
    {
     "name": "stdout",
     "output_type": "stream",
     "text": [
      "Estacion      Araucarias  Camtraption  CoRaTe  CoRaTe Quebrada  Lenga  \\\n",
      "Especie                                                                 \n",
      "Carpintero             0            0       0                0      0   \n",
      "Cometocino             0            0       0                0      0   \n",
      "Concón                 0            0       0                0      0   \n",
      "Diucón                 0            0       0                0      0   \n",
      "Guiña                  0            0       2                0      0   \n",
      "Hued hued              0            0       0                0      0   \n",
      "Jabali                 5            0       7                0      4   \n",
      "Liebre                 7            0       6                0     19   \n",
      "Perro                  0            0       5                4      6   \n",
      "Peuquito               2            0       0                0      0   \n",
      "Puma                   5            0       3                0      4   \n",
      "Rayadito               0            0       0                0      0   \n",
      "Traro                  0            0       0                0      0   \n",
      "Zorro culpeo          22            3      11                0     14   \n",
      "Zorzal                 0            0       0                0      0   \n",
      "\n",
      "Estacion      Lenga - Pradera  RoRaCo Renoval  RoRaCo Río  \\\n",
      "Especie                                                     \n",
      "Carpintero                  0               3           0   \n",
      "Cometocino                  0               1           0   \n",
      "Concón                      0               0           0   \n",
      "Diucón                      0               0           0   \n",
      "Guiña                       0               1           0   \n",
      "Hued hued                   0               0           0   \n",
      "Jabali                      0              51           0   \n",
      "Liebre                      2              20           0   \n",
      "Perro                       1              52           5   \n",
      "Peuquito                    0               0           0   \n",
      "Puma                        0               3           0   \n",
      "Rayadito                    0               1           0   \n",
      "Traro                       0               1           0   \n",
      "Zorro culpeo                0              34           0   \n",
      "Zorzal                      0               0           0   \n",
      "\n",
      "Estacion      Santuario de anfibios  \n",
      "Especie                              \n",
      "Carpintero                        0  \n",
      "Cometocino                        0  \n",
      "Concón                            1  \n",
      "Diucón                            1  \n",
      "Guiña                             2  \n",
      "Hued hued                         1  \n",
      "Jabali                           47  \n",
      "Liebre                            4  \n",
      "Perro                            45  \n",
      "Peuquito                          0  \n",
      "Puma                              2  \n",
      "Rayadito                          0  \n",
      "Traro                             0  \n",
      "Zorro culpeo                     24  \n",
      "Zorzal                            2  \n"
     ]
    }
   ],
   "source": [
    "print(pivot_table_Especie_by_Estacion)"
   ]
  },
  {
   "cell_type": "code",
   "execution_count": 44,
   "metadata": {},
   "outputs": [],
   "source": [
    "pivot_table_Especie_by_ID_CamaraTrampa = (\n",
    "    data\n",
    "    .groupby(['Especie', 'ID_CamaraTrampa', 'Episode_ID'])['Counter0']\n",
    "    .max()\n",
    "    .groupby(['Especie', 'ID_CamaraTrampa'])\n",
    "    .sum()\n",
    "    .unstack(fill_value=0)\n",
    ")"
   ]
  },
  {
   "cell_type": "code",
   "execution_count": 45,
   "metadata": {},
   "outputs": [
    {
     "name": "stdout",
     "output_type": "stream",
     "text": [
      "ID_CamaraTrampa  CT_01  CT_02  CT_03  CT_05  CT_06  CT_07  CT_08  CT_09  \\\n",
      "Especie                                                                   \n",
      "Carpintero           0      0      0      3      0      0      0      0   \n",
      "Cometocino           0      0      0      1      0      0      0      0   \n",
      "Concón               0      0      0      0      0      0      1      0   \n",
      "Diucón               0      0      0      0      0      1      0      0   \n",
      "Guiña                0      0      0      0      1      0      2      0   \n",
      "Hued hued            0      0      0      0      0      0      1      0   \n",
      "Jabali               4      0      0     18     33     22     25      5   \n",
      "Liebre              16      3      0     20      0      3      1      0   \n",
      "Perro                2      4      5     39     13     13     32      0   \n",
      "Peuquito             0      0      0      0      0      0      0      0   \n",
      "Puma                 1      3      0      2      1      0      2      0   \n",
      "Rayadito             0      0      0      0      1      0      0      0   \n",
      "Traro                0      0      0      1      0      0      0      0   \n",
      "Zorro culpeo         5      9      0     31      3      7     17      3   \n",
      "Zorzal               0      0      0      0      0      2      0      0   \n",
      "\n",
      "ID_CamaraTrampa  CT_10  CT_11  CT_12  CT_13  CT_16  CT_Camtraption  \n",
      "Especie                                                             \n",
      "Carpintero           0      0      0      0      0               0  \n",
      "Cometocino           0      0      0      0      0               0  \n",
      "Concón               0      0      0      0      0               0  \n",
      "Diucón               0      0      0      0      0               0  \n",
      "Guiña                0      2      0      0      0               0  \n",
      "Hued hued            0      0      0      0      0               0  \n",
      "Jabali               0      4      3      0      0               0  \n",
      "Liebre               7      6      0      0      2               0  \n",
      "Perro                0      5      0      4      1               0  \n",
      "Peuquito             2      0      0      0      0               0  \n",
      "Puma                 5      3      0      0      0               0  \n",
      "Rayadito             0      0      0      0      0               0  \n",
      "Traro                0      0      0      0      0               0  \n",
      "Zorro culpeo        19      5      6      0      0               3  \n",
      "Zorzal               0      0      0      0      0               0  \n"
     ]
    }
   ],
   "source": [
    "print(pivot_table_Especie_by_ID_CamaraTrampa)"
   ]
  },
  {
   "cell_type": "code",
   "execution_count": 46,
   "metadata": {},
   "outputs": [],
   "source": [
    "#Creamos un DataFrame que representa un subgrupo de datos con el valor de Counter0 más alto para cada episodio.\n",
    "data_highest_counter = data.loc[data.groupby('Episode_ID')['Counter0'].idxmax()]"
   ]
  },
  {
   "cell_type": "code",
   "execution_count": 47,
   "metadata": {},
   "outputs": [
    {
     "name": "stdout",
     "output_type": "stream",
     "text": [
      "Especie\n",
      "Carpintero       0.543478\n",
      "Concón           0.271739\n",
      "Diucón           0.271739\n",
      "Guiña            1.358696\n",
      "Hued hued        0.271739\n",
      "Jabali          23.369565\n",
      "Liebre          15.760870\n",
      "Perro           23.641304\n",
      "Peuquito         0.543478\n",
      "Puma             4.619565\n",
      "Traro            0.271739\n",
      "Zorro culpeo    28.532609\n",
      "Zorzal           0.543478\n",
      "Name: proportion, dtype: float64\n"
     ]
    }
   ],
   "source": [
    "especie_freq = data_highest_counter['Especie'].value_counts(normalize=True) * 100\n",
    "especie_freq = especie_freq.sort_index()\n",
    "print(especie_freq)"
   ]
  },
  {
   "cell_type": "code",
   "execution_count": 48,
   "metadata": {},
   "outputs": [
    {
     "name": "stdout",
     "output_type": "stream",
     "text": [
      "Estacion      Araucarias  Camtraption     CoRaTe  CoRaTe Quebrada      Lenga  \\\n",
      "Especie                                                                        \n",
      "Carpintero      0.000000          0.0   0.000000              0.0   0.000000   \n",
      "Concón          0.000000          0.0   0.000000              0.0   0.000000   \n",
      "Diucón          0.000000          0.0   0.000000              0.0   0.000000   \n",
      "Guiña           0.000000          0.0   6.060606              0.0   0.000000   \n",
      "Hued hued       0.000000          0.0   0.000000              0.0   0.000000   \n",
      "Jabali          9.756098          0.0  18.181818              0.0   9.302326   \n",
      "Liebre         21.951220          0.0  18.181818              0.0  41.860465   \n",
      "Perro           0.000000          0.0  15.151515            100.0   9.302326   \n",
      "Peuquito        4.878049          0.0   0.000000              0.0   0.000000   \n",
      "Puma           12.195122          0.0   9.090909              0.0   9.302326   \n",
      "Traro           0.000000          0.0   0.000000              0.0   0.000000   \n",
      "Zorro culpeo   51.219512        100.0  33.333333              0.0  30.232558   \n",
      "Zorzal          0.000000          0.0   0.000000              0.0   0.000000   \n",
      "\n",
      "Estacion      Lenga - Pradera  RoRaCo Renoval  RoRaCo Río  \\\n",
      "Especie                                                     \n",
      "Carpintero                0.0        1.526718         0.0   \n",
      "Concón                    0.0        0.000000         0.0   \n",
      "Diucón                    0.0        0.000000         0.0   \n",
      "Guiña                     0.0        0.763359         0.0   \n",
      "Hued hued                 0.0        0.000000         0.0   \n",
      "Jabali                    0.0       26.717557         0.0   \n",
      "Liebre                  100.0       15.267176         0.0   \n",
      "Perro                     0.0       26.717557       100.0   \n",
      "Peuquito                  0.0        0.000000         0.0   \n",
      "Puma                      0.0        2.290076         0.0   \n",
      "Traro                     0.0        0.763359         0.0   \n",
      "Zorro culpeo              0.0       25.954198         0.0   \n",
      "Zorzal                    0.0        0.000000         0.0   \n",
      "\n",
      "Estacion      Santuario de anfibios  \n",
      "Especie                              \n",
      "Carpintero                 0.000000  \n",
      "Concón                     0.909091  \n",
      "Diucón                     0.909091  \n",
      "Guiña                      1.818182  \n",
      "Hued hued                  0.909091  \n",
      "Jabali                    33.636364  \n",
      "Liebre                     3.636364  \n",
      "Perro                     33.636364  \n",
      "Peuquito                   0.000000  \n",
      "Puma                       1.818182  \n",
      "Traro                      0.000000  \n",
      "Zorro culpeo              20.909091  \n",
      "Zorzal                     1.818182  \n"
     ]
    }
   ],
   "source": [
    "especie_freq_by_estacion = data_highest_counter.groupby('Estacion')['Especie'].value_counts(normalize=True) * 100\n",
    "especie_freq_by_estacion = especie_freq_by_estacion.unstack(level=0)\n",
    "especie_freq_by_estacion = especie_freq_by_estacion.fillna(0)\n",
    "\n",
    "print(especie_freq_by_estacion)"
   ]
  },
  {
   "cell_type": "code",
   "execution_count": 49,
   "metadata": {},
   "outputs": [
    {
     "name": "stdout",
     "output_type": "stream",
     "text": [
      "Estacion     Araucarias Camtraption CoRaTe CoRaTe Quebrada Lenga  \\\n",
      "Especie                                                            \n",
      "Carpintero                                                         \n",
      "Concón                                                             \n",
      "Diucón                                                             \n",
      "Guiña                                    X                         \n",
      "Hued hued                                                          \n",
      "Jabali                X                  X                     X   \n",
      "Liebre                X                  X                     X   \n",
      "Perro                                    X               X     X   \n",
      "Peuquito              X                                            \n",
      "Puma                  X                  X                     X   \n",
      "Traro                                                              \n",
      "Zorro culpeo          X           X      X                     X   \n",
      "Zorzal                                                             \n",
      "\n",
      "Estacion     Lenga - Pradera RoRaCo Renoval RoRaCo Río Santuario de anfibios  \\\n",
      "Especie                                                                        \n",
      "Carpintero                                X                                    \n",
      "Concón                                                                     X   \n",
      "Diucón                                                                     X   \n",
      "Guiña                                     X                                X   \n",
      "Hued hued                                                                  X   \n",
      "Jabali                                    X                                X   \n",
      "Liebre                     X              X                                X   \n",
      "Perro                                     X          X                     X   \n",
      "Peuquito                                                                       \n",
      "Puma                                      X                                X   \n",
      "Traro                                     X                                    \n",
      "Zorro culpeo                              X                                X   \n",
      "Zorzal                                                                     X   \n",
      "\n",
      "Estacion      Percentage  \n",
      "Especie                   \n",
      "Carpintero     11.111111  \n",
      "Concón         11.111111  \n",
      "Diucón         11.111111  \n",
      "Guiña          33.333333  \n",
      "Hued hued      11.111111  \n",
      "Jabali         55.555556  \n",
      "Liebre         66.666667  \n",
      "Perro          66.666667  \n",
      "Peuquito       11.111111  \n",
      "Puma           55.555556  \n",
      "Traro          11.111111  \n",
      "Zorro culpeo   66.666667  \n",
      "Zorzal         11.111111  \n"
     ]
    },
    {
     "name": "stderr",
     "output_type": "stream",
     "text": [
      "C:\\Users\\fguar\\AppData\\Local\\Temp\\ipykernel_12188\\2090010684.py:1: FutureWarning: DataFrame.applymap has been deprecated. Use DataFrame.map instead.\n",
      "  especie_freq_by_estacion_binary = especie_freq_by_estacion.applymap(lambda x: '' if x == 0 else 'X')\n"
     ]
    }
   ],
   "source": [
    "especie_freq_by_estacion_binary = especie_freq_by_estacion.applymap(lambda x: '' if x == 0 else 'X')\n",
    "especie_freq_by_estacion_binary['Percentage'] = especie_freq_by_estacion_binary.apply(lambda row: (row == 'X').mean() * 100, axis=1)\n",
    "print(especie_freq_by_estacion_binary)"
   ]
  },
  {
   "cell_type": "code",
   "execution_count": 54,
   "metadata": {},
   "outputs": [
    {
     "name": "stdout",
     "output_type": "stream",
     "text": [
      "                 Total_pictures  Total_animal_pictures  \\\n",
      "ID_CamaraTrampa                                          \n",
      "CT_01                       144                   55.0   \n",
      "CT_02                       412                   39.0   \n",
      "CT_03                       123                   13.0   \n",
      "CT_05                       446                  233.0   \n",
      "CT_06                      4113                  112.0   \n",
      "CT_07                       473                  271.0   \n",
      "CT_08                      1330                  309.0   \n",
      "CT_09                      2190                   36.0   \n",
      "CT_10                       316                   70.0   \n",
      "CT_11                       386                   57.0   \n",
      "CT_12                        50                   19.0   \n",
      "CT_13                        24                    6.0   \n",
      "CT_14                         9                    NaN   \n",
      "CT_16                       400                   11.0   \n",
      "CT_17                      1760                    NaN   \n",
      "CT_Camtraption                3                    3.0   \n",
      "\n",
      "                 Percentage_animal_pictures  \n",
      "ID_CamaraTrampa                              \n",
      "CT_01                             38.194444  \n",
      "CT_02                              9.466019  \n",
      "CT_03                             10.569106  \n",
      "CT_05                             52.242152  \n",
      "CT_06                              2.723073  \n",
      "CT_07                             57.293869  \n",
      "CT_08                             23.233083  \n",
      "CT_09                              1.643836  \n",
      "CT_10                             22.151899  \n",
      "CT_11                             14.766839  \n",
      "CT_12                             38.000000  \n",
      "CT_13                             25.000000  \n",
      "CT_14                                   NaN  \n",
      "CT_16                              2.750000  \n",
      "CT_17                                   NaN  \n",
      "CT_Camtraption                   100.000000  \n"
     ]
    }
   ],
   "source": [
    "animal_percentage_by_ID_CamaraTrampa = pd.DataFrame({\n",
    "    'Total_pictures': data.groupby('ID_CamaraTrampa').size(),\n",
    "    'Total_animal_pictures': data[data['Animal'] == 'Si'].groupby('ID_CamaraTrampa').size(),\n",
    "    'Percentage_animal_pictures': data[data['Animal'] == 'Si'].groupby('ID_CamaraTrampa').size() / data.groupby('ID_CamaraTrampa').size() * 100\n",
    "})\n",
    "\n",
    "print(animal_percentage_by_ID_CamaraTrampa)\n"
   ]
  },
  {
   "cell_type": "code",
   "execution_count": 55,
   "metadata": {},
   "outputs": [],
   "source": [
    "writer = pd.ExcelWriter('Tablas informe CT.xlsx', engine='xlsxwriter')\n",
    "\n",
    "# Write each DataFrame to a different sheet\n",
    "pivot_table_Especie_by_Year.to_excel(writer, sheet_name='Sheet1')\n",
    "pivot_table_Especie_by_Estacion.to_excel(writer, sheet_name='Sheet2')\n",
    "pivot_table_Especie_by_ID_CamaraTrampa.to_excel(writer, sheet_name='Sheet3')\n",
    "especie_freq.to_excel(writer, sheet_name='Sheet4')\n",
    "especie_freq_by_estacion.to_excel(writer, sheet_name='Sheet5')\n",
    "especie_freq_by_estacion_binary.to_excel(writer, sheet_name='Sheet6')\n",
    "animal_percentage_by_ID_CamaraTrampa.to_excel(writer, sheet_name='Sheet7')\n",
    "# Save the Excel file\n",
    "writer.close()"
   ]
  }
 ],
 "metadata": {
  "kernelspec": {
   "display_name": "base",
   "language": "python",
   "name": "python3"
  },
  "language_info": {
   "codemirror_mode": {
    "name": "ipython",
    "version": 3
   },
   "file_extension": ".py",
   "mimetype": "text/x-python",
   "name": "python",
   "nbconvert_exporter": "python",
   "pygments_lexer": "ipython3",
   "version": "3.10.13"
  }
 },
 "nbformat": 4,
 "nbformat_minor": 2
}
