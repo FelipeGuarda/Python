{
 "cells": [
  {
   "cell_type": "code",
   "execution_count": 1,
   "metadata": {},
   "outputs": [],
   "source": [
    "import pandas as pd\n",
    "import numpy as np\n",
    "import seaborn as sns\n",
    "import matplotlib.pyplot as plt\n",
    "\n"
   ]
  },
  {
   "cell_type": "code",
   "execution_count": 2,
   "metadata": {},
   "outputs": [],
   "source": [
    "file_path = r\"G:\\Shared drives\\FMA-G\\C-CONSERVACIÓN\\C1_Bosque Pehuen\\6 Bosque Pehuen\\Conservación\\Camaras trampa\\2022 - febr. 2024\\Fotos\\2022-feb2024_todas_episodios.csv\"\n",
    "data = pd.read_csv(file_path)\n"
   ]
  },
  {
   "cell_type": "code",
   "execution_count": 3,
   "metadata": {},
   "outputs": [
    {
     "name": "stdout",
     "output_type": "stream",
     "text": [
      "['Araucaria' 'CoRaTe quebrada' '' 'CoRaTe' 'Lenga pradera' 'Lenga'\n",
      " 'RoRaCo renoval' 'RoRaCo rio' 'Santuario anfibios']\n"
     ]
    }
   ],
   "source": [
    "data['Estacion'] = np.where(data['RelativePath'].isin([\"2022\\\\Araucarias\\\\CT10_06_12_22\", \"2022\\\\Araucarias\\\\CT9\", \"2023\\\\Araucarias\\\\CT 3 hermanas_16_02_23\", \"2023\\\\Araucarias\\\\CT 3 hermanas_enero 23\", \"2023\\\\Araucarias\\\\camtrap 3 hermanas_16_02_23\", \"2023\\\\Araucarias\\\\camtrap 8_02_23\", \"2024\\\\TC_10\", \"2024\\\\TC_9\\\\100EK113\"]), \"Araucaria\",\n",
    "                           np.where(data['RelativePath'].isin([\"2022\\\\CoRaTe Quebrada\\\\CT13\"]), \"CoRaTe quebrada\",\n",
    "                                    np.where(data['RelativePath'].isin([\"2022\\\\CoRaTe\\\\CT11_12_2022\", \"2022\\\\CoRaTe\\\\Puma\", \"2023\\\\TC11\", \"2023\\\\TC12\"]), \"CoRaTe\",\n",
    "                                             np.where(data['RelativePath'].isin([\"2022\\\\Lenga - Pradera\\\\CT16\"]), \"Lenga pradera\",\n",
    "                                                      np.where(data['RelativePath'].isin([\"2022\\\\Lenga\\\\CT1\", \"2022\\\\Lenga\\\\CT2\", \"2024\\\\TC_1\", \"2024\\\\TC_2\"]), \"Lenga\",\n",
    "                                                               np.where(data['RelativePath'].isin([\"2022\\\\RoRaCo Renoval\\\\CT5\", \"2022\\\\RoRaCo Renoval\\\\CT6\\\\100EK113\", \"2022\\\\RoRaCo Renoval\\\\CT6\\\\103EK113\", \"2023\\\\RoRaCo Renoval\\\\TC5\", \"2023\\\\RoRaCo Renoval\\\\TC6\", \"2024\\\\TC_5\", \"2024\\\\TC_6\"]), \"RoRaCo renoval\",\n",
    "                                                                        np.where(data['RelativePath'].isin([\"2022\\\\RoRaCo Rio\\\\CT3\"]), \"RoRaCo rio\",\n",
    "                                                                                 np.where(data['RelativePath'].isin([\"2022\\\\Santuario Anfibios\\\\CT7\", \"2022\\\\Santuario Anfibios\\\\CT8\", \"2022\\\\Santuario Anfibios\\\\CT8_nov_22\", \"2023\\\\Santuario Anfibios\\\\TC7\", \"2023\\\\Santuario Anfibios\\\\TC8\", \"2024\\\\TC_7\", \"2024\\\\TC_8\"]), \"Santuario anfibios\", \"\"))))))))\n",
    "\n",
    "\n",
    "unique_estacion = data['Estacion'].unique()\n",
    "print(unique_estacion)"
   ]
  },
  {
   "cell_type": "code",
   "execution_count": 4,
   "metadata": {},
   "outputs": [
    {
     "name": "stdout",
     "output_type": "stream",
     "text": [
      "['CT 10' 'CT 09' 'CT 13' '' 'CT 11 y 12' 'CT 16' 'CT 01' 'CT 02' 'CT 05'\n",
      " 'CT 06' 'CT 03' 'CT 07' 'CT 08' 'Camtraption']\n"
     ]
    }
   ],
   "source": [
    "data['ID_CamaraTrampa'] = np.where(data['RelativePath'].isin([\"2022\\\\Araucarias\\\\CT10_06_12_22\", \"2023\\\\Araucarias\\\\CT 3 hermanas_16_02_23\", \"2023\\\\Araucarias\\\\CT 3 hermanas_enero 23\"]), \"CT 10\",\n",
    "                                  np.where(data['RelativePath'].isin([\"2022\\\\Araucarias\\\\CT9\", \"2024\\\\TC_9\\\\100EK113\"]), \"CT 09\",\n",
    "                                           np.where(data['RelativePath'].isin([\"2022\\\\CoRaTe Quebrada\\\\CT13\"]), \"CT 13\",\n",
    "                                                    np.where(data['RelativePath'].isin([\"2022\\\\CoRaTe\\\\CT11_12_2022\", \"2022\\\\CoRaTe\\\\Puma\", \"2023\\\\TC11\", \"2023\\\\TC12\"]), \"CT 11 y 12\",\n",
    "                                                             np.where(data['RelativePath'].isin([\"2022\\\\Lenga - Pradera\\\\CT16\"]), \"CT 16\",\n",
    "                                                                      np.where(data['RelativePath'].isin([\"2022\\\\Lenga\\\\CT1\", \"2024\\\\TC_1\"]), \"CT 01\",\n",
    "                                                                               np.where(data['RelativePath'].isin([\"2022\\\\Lenga\\\\CT2\", \"2024\\\\TC_2\"]), \"CT 02\",\n",
    "                                                                                        np.where(data['RelativePath'].isin([\"2022\\\\RoRaCo Renoval\\\\CT5\", \"2023\\\\RoRaCo Renoval\\\\TC5\", \"2024\\\\TC_5\"]), \"CT 05\",\n",
    "                                                                                                 np.where(data['RelativePath'].isin([\"2022\\\\RoRaCo Renoval\\\\CT6\\\\100EK113\", \"2022\\\\RoRaCo Renoval\\\\CT6\\\\103EK113\", \"2023\\\\RoRaCo Renoval\\\\TC6\", \"2024\\\\TC_6\"]), \"CT 06\",\n",
    "                                                                                                          np.where(data['RelativePath'].isin([\"2022\\\\RoRaCo Rio\\\\CT3\"]), \"CT 03\",\n",
    "                                                                                                                   np.where(data['RelativePath'].isin([\"2022\\\\Santuario Anfibios\\\\CT7\", \"2023\\\\Santuario Anfibios\\\\TC7\", \"2024\\\\TC_7\"]), \"CT 07\",\n",
    "                                                                                                                            np.where(data['RelativePath'].isin([\"2022\\\\Santuario Anfibios\\\\CT8\", \"2022\\\\Santuario Anfibios\\\\CT8_nov_22\", \"2023\\\\Santuario Anfibios\\\\TC8\", \"2024\\\\TC_8\"]), \"CT 08\",\n",
    "                                                                                                                                     np.where(data['RelativePath'].isin([\"2023\\\\Araucarias\\\\camtrap 3 hermanas_16_02_23\", \"2023\\\\Araucarias\\\\camtrap 8_02_23\"]), \"Camtraption\", \"\")))))))))))))\n",
    "\n",
    "unique_ID_CamaraTrampa = data['ID_CamaraTrampa'].unique()\n",
    "print(unique_ID_CamaraTrampa)"
   ]
  },
  {
   "cell_type": "code",
   "execution_count": 5,
   "metadata": {},
   "outputs": [
    {
     "name": "stdout",
     "output_type": "stream",
     "text": [
      "Number of missing values in ID_CamaraTrampa: 0\n"
     ]
    }
   ],
   "source": [
    "missing_values = data['ID_CamaraTrampa'].isnull().sum()\n",
    "print(\"Number of missing values in ID_CamaraTrampa:\", missing_values)"
   ]
  },
  {
   "cell_type": "code",
   "execution_count": 6,
   "metadata": {},
   "outputs": [
    {
     "name": "stdout",
     "output_type": "stream",
     "text": [
      "   RootFolder          File                   RelativePath  \\\n",
      "0       Fotos  05090001.JPG  2022\\Araucarias\\CT10_06_12_22   \n",
      "1       Fotos  05090002.JPG  2022\\Araucarias\\CT10_06_12_22   \n",
      "2       Fotos  05090003.JPG  2022\\Araucarias\\CT10_06_12_22   \n",
      "3       Fotos  05090005.JPG  2022\\Araucarias\\CT10_06_12_22   \n",
      "4       Fotos  05090006.JPG  2022\\Araucarias\\CT10_06_12_22   \n",
      "..        ...           ...                            ...   \n",
      "95      Fotos  06300132.JPG  2022\\Araucarias\\CT10_06_12_22   \n",
      "96      Fotos  06300133.JPG  2022\\Araucarias\\CT10_06_12_22   \n",
      "97      Fotos  06300134.JPG  2022\\Araucarias\\CT10_06_12_22   \n",
      "98      Fotos  10190136.JPG  2022\\Araucarias\\CT10_06_12_22   \n",
      "99      Fotos  10190137.JPG  2022\\Araucarias\\CT10_06_12_22   \n",
      "\n",
      "                DateTime Animal Person       Especie  Counter0   Note0  \\\n",
      "0    2022-05-09 15:11:30     No     Si           NaN         0   1:1|6   \n",
      "1    2022-05-09 15:11:30     No     Si           NaN         0   1:2|6   \n",
      "2    2022-05-09 15:11:31     No     Si           NaN         0   1:3|6   \n",
      "3    2022-05-09 15:11:46     No     Si           NaN         0   1:4|6   \n",
      "4    2022-05-09 15:11:47     No     Si           NaN         0   1:5|6   \n",
      "..                   ...    ...    ...           ...       ...     ...   \n",
      "95   2022-06-30 11:48:39     Si     No  Zorro culpeo         1  29:1|3   \n",
      "96   2022-06-30 11:48:39     Si     No  Zorro culpeo         1  29:2|3   \n",
      "97   2022-06-30 11:48:40     Si     No  Zorro culpeo         1  29:3|3   \n",
      "98   2022-10-19 01:24:16     Si     No        Liebre         1  30:1|3   \n",
      "99   2022-10-19 01:24:17     No     No           NaN         0  30:2|3   \n",
      "\n",
      "     Estacion ID_CamaraTrampa  \n",
      "0   Araucaria           CT 10  \n",
      "1   Araucaria           CT 10  \n",
      "2   Araucaria           CT 10  \n",
      "3   Araucaria           CT 10  \n",
      "4   Araucaria           CT 10  \n",
      "..        ...             ...  \n",
      "95  Araucaria           CT 10  \n",
      "96  Araucaria           CT 10  \n",
      "97  Araucaria           CT 10  \n",
      "98  Araucaria           CT 10  \n",
      "99  Araucaria           CT 10  \n",
      "\n",
      "[100 rows x 11 columns]\n"
     ]
    }
   ],
   "source": [
    "data = data.drop('Unnamed: 9', axis=1)\n",
    "print(data.head(100))\n"
   ]
  },
  {
   "cell_type": "code",
   "execution_count": 10,
   "metadata": {},
   "outputs": [],
   "source": [
    "# Convert the column to datetime format\n",
    "data['DateTime'] = pd.to_datetime(data['DateTime'])\n",
    "\n",
    "# Extract year, month, day, and time\n",
    "data['Year'] = data['DateTime'].dt.year\n",
    "data['Month'] = data['DateTime'].dt.month\n",
    "data['Day'] = data['DateTime'].dt.day\n",
    "data['Time'] = data['DateTime'].dt.time\n"
   ]
  },
  {
   "cell_type": "code",
   "execution_count": 12,
   "metadata": {},
   "outputs": [],
   "source": [
    "#deal with episode data. Variable Note0 contains the episode data\n",
    "data[['Episode_ID', 'Episode_length']] = data['Note0'].str.split(':', n=1, expand=True)\n"
   ]
  },
  {
   "cell_type": "code",
   "execution_count": null,
   "metadata": {},
   "outputs": [],
   "source": [
    "species_by_camara = data.groupby('ID_CamaraTrampa')['Especie'].value_counts().unstack().fillna(0)\n",
    "species_by_camara = species_by_camara.T\n",
    "print(species_by_camara)"
   ]
  },
  {
   "cell_type": "code",
   "execution_count": null,
   "metadata": {},
   "outputs": [],
   "source": [
    "species_by_estacion = data.groupby('Estacion')['Especie'].value_counts().unstack().fillna(0)\n",
    "print(species_by_estacion)"
   ]
  },
  {
   "cell_type": "code",
   "execution_count": 14,
   "metadata": {},
   "outputs": [],
   "source": [
    "def count_animals_by_station(data):\n",
    "    # Crea una copia del DataFrame para no modificar el original\n",
    "    data_copy = data.copy()\n",
    "    \n",
    "    # Agrega una columna para registrar el último timestamp en que se vio cada animal\n",
    "    data_copy['last_seen'] = pd.Timestamp(0)\n",
    "    \n",
    "    # Itera sobre las filas del DataFrame\n",
    "    for index, row in data_copy.iterrows():\n",
    "        # Obtiene la especie y la estación\n",
    "        species = row['Especie']\n",
    "        station = row['Estacion']\n",
    "        \n",
    "        # Verifica si el animal ya fue visto anteriormente\n",
    "        last_seen = data_copy.loc[(data_copy['Especie'] == species) & (data_copy['Estacion'] == station), 'last_seen'].max()\n",
    "        \n",
    "        # Si ha pasado más de 5 segundos, actualiza el conteo\n",
    "        if (row['DateTime'] - last_seen).total_seconds() > 5:\n",
    "            data_copy.loc[index, 'last_seen'] = row['DateTime']\n",
    "            data_copy.loc[index, 'Conteo'] = 1\n",
    "        else:\n",
    "            data_copy.loc[index, 'Conteo'] = 0\n",
    "    \n",
    "    # Agrupa por estación y especie, y cuenta los animales\n",
    "    species_by_station = data_copy.groupby(['Estacion', 'Especie'])['Conteo'].sum().unstack().fillna(0)\n",
    "    \n",
    "    return species_by_station"
   ]
  },
  {
   "cell_type": "code",
   "execution_count": null,
   "metadata": {},
   "outputs": [],
   "source": [
    "print(count_animals_by_station(data).T)"
   ]
  },
  {
   "cell_type": "code",
   "execution_count": null,
   "metadata": {},
   "outputs": [],
   "source": [
    "import openpyxl\n",
    "count_animals_by_station(data).T.to_excel('output.xlsx', index=True)"
   ]
  },
  {
   "cell_type": "code",
   "execution_count": 25,
   "metadata": {},
   "outputs": [],
   "source": [
    "def count_animals_by_ID_CamaraTrampa(data):\n",
    "    # Crea una copia del DataFrame para no modificar el original\n",
    "    data_copy = data.copy()\n",
    "    \n",
    "    # Agrega una columna para registrar el último timestamp en que se vio cada animal\n",
    "    data_copy['last_seen'] = pd.Timestamp(0)\n",
    "    \n",
    "    # Itera sobre las filas del DataFrame\n",
    "    for index, row in data_copy.iterrows():\n",
    "        # Obtiene la especie y la estación\n",
    "        species = row['Especie']\n",
    "        station = row['ID_CamaraTrampa']\n",
    "        \n",
    "        # Verifica si el animal ya fue visto anteriormente\n",
    "        last_seen = data_copy.loc[(data_copy['Especie'] == species) & (data_copy['ID_CamaraTrampa'] == station), 'last_seen'].max()\n",
    "        \n",
    "        # Si ha pasado más de 5 segundos, actualiza el conteo\n",
    "        if (row['DateTime'] - last_seen).total_seconds() > 5:\n",
    "            data_copy.loc[index, 'last_seen'] = row['DateTime']\n",
    "            data_copy.loc[index, 'Conteo'] = 1\n",
    "        else:\n",
    "            data_copy.loc[index, 'Conteo'] = 0\n",
    "    \n",
    "    # Agrupa por estación y especie, y cuenta los animales\n",
    "    species_by_station = data_copy.groupby(['ID_CamaraTrampa', 'Especie'])['Conteo'].sum().unstack().fillna(0)\n",
    "    \n",
    "    return species_by_station"
   ]
  },
  {
   "cell_type": "code",
   "execution_count": null,
   "metadata": {},
   "outputs": [],
   "source": [
    "print(count_animals_by_ID_CamaraTrampa(data).T)"
   ]
  },
  {
   "cell_type": "code",
   "execution_count": 29,
   "metadata": {},
   "outputs": [],
   "source": [
    "import openpyxl\n",
    "count_animals_by_ID_CamaraTrampa(data).T.to_excel('Especie por Camara Trampa.xlsx', index=True)"
   ]
  },
  {
   "cell_type": "code",
   "execution_count": null,
   "metadata": {},
   "outputs": [],
   "source": [
    "print(data)"
   ]
  }
 ],
 "metadata": {
  "kernelspec": {
   "display_name": "base",
   "language": "python",
   "name": "python3"
  },
  "language_info": {
   "codemirror_mode": {
    "name": "ipython",
    "version": 3
   },
   "file_extension": ".py",
   "mimetype": "text/x-python",
   "name": "python",
   "nbconvert_exporter": "python",
   "pygments_lexer": "ipython3",
   "version": "3.10.12"
  }
 },
 "nbformat": 4,
 "nbformat_minor": 2
}
