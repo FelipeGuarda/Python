{
 "cells": [
  {
   "cell_type": "code",
   "execution_count": 1,
   "metadata": {},
   "outputs": [],
   "source": [
    "import pandas as pd\n",
    "import numpy as np\n",
    "import seaborn as sns\n",
    "import matplotlib.pyplot as plt\n",
    "import xlsxwriter\n",
    "import pandas_flavor as pf\n",
    "\n",
    "\n"
   ]
  },
  {
   "cell_type": "code",
   "execution_count": 2,
   "metadata": {},
   "outputs": [],
   "source": [
    "file_path = r\"G:\\Shared drives\\FMA-G\\C-CONSERVACIÓN\\C1_Bosque Pehuen\\6 Bosque Pehuen\\Conservación\\Camaras trampa\\2022 - febr. 2024\\Fotos\\2022-feb2024_todas_episodios.csv\"\n",
    "data = pd.read_csv(file_path)\n"
   ]
  },
  {
   "cell_type": "code",
   "execution_count": 3,
   "metadata": {},
   "outputs": [],
   "source": [
    "data = data[data['RelativePath'] != '2022\\\\CoRaTe\\\\Puma']\n",
    "data.drop(columns=[\"Unnamed: 9\"], inplace=True)"
   ]
  },
  {
   "cell_type": "code",
   "execution_count": 4,
   "metadata": {},
   "outputs": [
    {
     "name": "stdout",
     "output_type": "stream",
     "text": [
      "['2022\\\\Araucarias\\\\CT10_06_12_22' '2022\\\\Araucarias\\\\CT9'\n",
      " '2022\\\\CoRaTe Quebrada\\\\CT13' '2022\\\\CoRaTe Quebrada\\\\CT14'\n",
      " '2022\\\\CoRaTe\\\\CT11_12_2022' '2022\\\\Lenga - Pradera\\\\CT16'\n",
      " '2022\\\\Lenga\\\\CT1' '2022\\\\Lenga\\\\CT2' '2022\\\\RoRaCo Renoval\\\\CT5'\n",
      " '2022\\\\RoRaCo Renoval\\\\CT6\\\\100EK113'\n",
      " '2022\\\\RoRaCo Renoval\\\\CT6\\\\101EK113'\n",
      " '2022\\\\RoRaCo Renoval\\\\CT6\\\\102EK113'\n",
      " '2022\\\\RoRaCo Renoval\\\\CT6\\\\103EK113'\n",
      " '2022\\\\RoRaCo Renoval\\\\CT6\\\\104EK113' '2022\\\\RoRaCo Rio\\\\CT3'\n",
      " '2022\\\\Santuario Anfibios\\\\CT7' '2022\\\\Santuario Anfibios\\\\CT7_Nov_22'\n",
      " '2022\\\\Santuario Anfibios\\\\CT8' '2022\\\\Santuario Anfibios\\\\CT8_nov_22'\n",
      " '2023\\\\Araucarias\\\\CT 3 hermanas_16_02_23'\n",
      " '2023\\\\Araucarias\\\\CT 3 hermanas_enero 23'\n",
      " '2023\\\\Araucarias\\\\camtrap 3 hermanas_16_02_23'\n",
      " '2023\\\\Araucarias\\\\camtrap 8_02_23' '2023\\\\RoRaCo Renoval\\\\TC5'\n",
      " '2023\\\\RoRaCo Renoval\\\\TC6' '2023\\\\Santuario Anfibios\\\\TC7'\n",
      " '2023\\\\Santuario Anfibios\\\\TC8'\n",
      " '2023\\\\TC 17 Salto de la Mariposa\\\\100EK113'\n",
      " '2023\\\\TC 17 Salto de la Mariposa\\\\101EK113' '2023\\\\TC11' '2023\\\\TC12'\n",
      " '2024\\\\TC_1' '2024\\\\TC_10' '2024\\\\TC_2' '2024\\\\TC_5' '2024\\\\TC_6'\n",
      " '2024\\\\TC_7' '2024\\\\TC_8' '2024\\\\TC_9\\\\100EK113' '2024\\\\TC_9\\\\101EK113'\n",
      " '2024\\\\TC_9\\\\102EK113']\n"
     ]
    }
   ],
   "source": [
    "unique_RelativePath = data['RelativePath'].unique()\n",
    "print(unique_RelativePath)"
   ]
  },
  {
   "cell_type": "code",
   "execution_count": 5,
   "metadata": {},
   "outputs": [],
   "source": [
    "# Create a dictionary that maps the RelativePath values to the corresponding Estación value\n",
    "estacion_dict = {\n",
    "    '2022\\\\Araucarias\\\\CT10_06_12_22': 'Araucarias',\n",
    "    '2022\\\\Araucarias\\\\CT9': 'Araucarias',\n",
    "    '2023\\\\Araucarias\\\\CT 3 hermanas_16_02_23': 'Araucarias',\n",
    "    '2023\\\\Araucarias\\\\CT 3 hermanas_enero 23': 'Araucarias',\n",
    "    '2024\\\\TC_10': 'Araucarias',\n",
    "    '2024\\\\TC_9\\\\100EK113': 'Araucarias',\n",
    "    '2024\\\\TC_9\\\\101EK113': 'Araucarias',\n",
    "    '2024\\\\TC_9\\\\102EK113': 'Araucarias',\n",
    "    '2022\\\\CoRaTe Quebrada\\\\CT13': 'CoRaTe Quebrada',\n",
    "    '2022\\\\CoRaTe Quebrada\\\\CT14': 'CoRaTe Quebrada',\n",
    "    '2022\\\\CoRaTe\\\\CT11_12_2022': 'CoRaTe',\n",
    "    '2022\\\\CoRaTe\\\\Puma': 'CoRaTe',\n",
    "    '2023\\\\TC11': 'CoRaTe',\n",
    "    '2023\\\\TC12': 'CoRaTe',\n",
    "    '2022\\\\Lenga\\\\CT1': 'Lenga',\n",
    "    '2022\\\\Lenga\\\\CT2': 'Lenga',\n",
    "    '2024\\\\TC_1': 'Lenga',\n",
    "    '2024\\\\TC_2': 'Lenga',\n",
    "    '2022\\\\Lenga - Pradera\\\\CT16': 'Lenga - Pradera',\n",
    "    '2022\\\\RoRaCo Renoval\\\\CT5': 'RoRaCo Renoval',\n",
    "    '2022\\\\RoRaCo Renoval\\\\CT6\\\\100EK113': 'RoRaCo Renoval',\n",
    "    '2022\\\\RoRaCo Renoval\\\\CT6\\\\101EK113': 'RoRaCo Renoval',\n",
    "    '2022\\\\RoRaCo Renoval\\\\CT6\\\\102EK113': 'RoRaCo Renoval',\n",
    "    '2022\\\\RoRaCo Renoval\\\\CT6\\\\103EK113': 'RoRaCo Renoval',\n",
    "    '2022\\\\RoRaCo Renoval\\\\CT6\\\\104EK113': 'RoRaCo Renoval',\n",
    "    '2023\\\\RoRaCo Renoval\\\\TC5': 'RoRaCo Renoval',\n",
    "    '2023\\\\RoRaCo Renoval\\\\TC6': 'RoRaCo Renoval',\n",
    "    '2024\\\\TC_5': 'RoRaCo Renoval',\n",
    "    '2024\\\\TC_6': 'RoRaCo Renoval',\n",
    "    '2022\\\\RoRaCo Rio\\\\CT3': 'RoRaCo Río',\n",
    "    '2022\\\\Santuario Anfibios\\\\CT7': 'Santuario de anfibios',\n",
    "    '2022\\\\Santuario Anfibios\\\\CT7_Nov_22': 'Santuario de anfibios',\n",
    "    '2022\\\\Santuario Anfibios\\\\CT8': 'Santuario de anfibios',\n",
    "    '2022\\\\Santuario Anfibios\\\\CT8_nov_22': 'Santuario de anfibios',\n",
    "    '2023\\\\Santuario Anfibios\\\\TC7': 'Santuario de anfibios',\n",
    "    '2023\\\\Santuario Anfibios\\\\TC8': 'Santuario de anfibios',\n",
    "    '2024\\\\TC_7': 'Santuario de anfibios',\n",
    "    '2024\\\\TC_8': 'Santuario de anfibios',\n",
    "    '2023\\\\Araucarias\\\\camtrap 3 hermanas_16_02_23': 'Camtraption',\n",
    "    '2023\\\\Araucarias\\\\camtrap 8_02_23': 'Camtraption',\n",
    "    '2023\\\\TC 17 Salto de la Mariposa\\\\100EK113': 'Salto de la mariposa',\n",
    "    '2023\\\\TC 17 Salto de la Mariposa\\\\101EK113': 'Salto de la mariposa'\n",
    "}\n",
    "\n",
    "# Create a new column 'estación' in the DataFrame and fill it with the corresponding values\n",
    "data['Estacion'] = data['RelativePath'].map(estacion_dict)"
   ]
  },
  {
   "cell_type": "code",
   "execution_count": 6,
   "metadata": {},
   "outputs": [],
   "source": [
    "data = data[data['Estacion'] != 'Camtraption']"
   ]
  },
  {
   "cell_type": "code",
   "execution_count": 7,
   "metadata": {},
   "outputs": [
    {
     "name": "stdout",
     "output_type": "stream",
     "text": [
      "['Araucarias' 'CoRaTe Quebrada' 'CoRaTe' 'Lenga - Pradera' 'Lenga'\n",
      " 'RoRaCo Renoval' 'RoRaCo Río' 'Santuario de anfibios'\n",
      " 'Salto de la mariposa']\n"
     ]
    }
   ],
   "source": [
    "unique_Estacion = data['Estacion'].unique()\n",
    "print(unique_Estacion)"
   ]
  },
  {
   "cell_type": "code",
   "execution_count": 8,
   "metadata": {},
   "outputs": [],
   "source": [
    "# Create a dictionary that maps the RelativePath values to the corresponding ID_CamaraTrampa value\n",
    "id_camara_trampa_dict = {\n",
    "    '2022\\\\Lenga\\\\CT1': 'CT_01',\n",
    "    '2024\\\\TC_1': 'CT_01',\n",
    "    '2022\\\\Lenga\\\\CT2': 'CT_02',\n",
    "    '2024\\\\TC_2': 'CT_02',\n",
    "    '2022\\\\RoRaCo Rio\\\\CT3': 'CT_03',\n",
    "    '2022\\\\RoRaCo Renoval\\\\CT5': 'CT_05',\n",
    "    '2023\\\\RoRaCo Renoval\\\\TC5': 'CT_05',\n",
    "    '2024\\\\TC_5': 'CT_05',\n",
    "    '2022\\\\RoRaCo Renoval\\\\CT6\\\\100EK113': 'CT_06',\n",
    "    '2022\\\\RoRaCo Renoval\\\\CT6\\\\101EK113': 'CT_06',\n",
    "    '2022\\\\RoRaCo Renoval\\\\CT6\\\\102EK113': 'CT_06',\n",
    "    '2022\\\\RoRaCo Renoval\\\\CT6\\\\103EK113': 'CT_06',\n",
    "    '2022\\\\RoRaCo Renoval\\\\CT6\\\\104EK113': 'CT_06',\n",
    "    '2023\\\\RoRaCo Renoval\\\\TC6': 'CT_06',\n",
    "    '2024\\\\TC_6': 'CT_06',\n",
    "    '2022\\\\Santuario Anfibios\\\\CT7': 'CT_07',\n",
    "    '2022\\\\Santuario Anfibios\\\\CT7_Nov_22': 'CT_07',\n",
    "    '2023\\\\Santuario Anfibios\\\\TC7': 'CT_07',\n",
    "    '2024\\\\TC_7': 'CT_07',\n",
    "    '2022\\\\Santuario Anfibios\\\\CT8': 'CT_08',\n",
    "    '2022\\\\Santuario Anfibios\\\\CT8_nov_22': 'CT_08',\n",
    "    '2023\\\\Santuario Anfibios\\\\TC8': 'CT_08',\n",
    "    '2024\\\\TC_8': 'CT_08',\n",
    "    '2022\\\\Araucarias\\\\CT9': 'CT_09',\n",
    "    '2024\\\\TC_9\\\\100EK113': 'CT_09',\n",
    "    '2024\\\\TC_9\\\\101EK113': 'CT_09',\n",
    "    '2024\\\\TC_9\\\\102EK113': 'CT_09',\n",
    "    '2022\\\\Araucarias\\\\CT10_06_12_22': 'CT_10',\n",
    "    '2024\\\\TC_10': 'CT_10',\n",
    "    '2023\\\\Araucarias\\\\CT 3 hermanas_16_02_23': 'CT_10',\n",
    "    '2023\\\\Araucarias\\\\CT 3 hermanas_enero 23': 'CT_10',\n",
    "    '2022\\\\CoRaTe\\\\CT11_12_2022': 'CT_11',\n",
    "    '2023\\\\TC11': 'CT_11',\n",
    "    '2023\\\\TC12': 'CT_12',\n",
    "    '2022\\\\CoRaTe Quebrada\\\\CT13': 'CT_13',\n",
    "    '2022\\\\CoRaTe Quebrada\\\\CT14': 'CT_14',\n",
    "    '2022\\\\Lenga - Pradera\\\\CT16': 'CT_16',\n",
    "    '2023\\\\TC 17 Salto de la Mariposa\\\\100EK113': 'CT_17',\n",
    "    '2023\\\\TC 17 Salto de la Mariposa\\\\101EK113': 'CT_17',\n",
    "    '2023\\\\Araucarias\\\\camtrap 3 hermanas_16_02_23': 'CT_Camtraption',\n",
    "    '2023\\\\Araucarias\\\\camtrap 8_02_23': 'CT_Camtraption'\n",
    "}\n",
    "\n",
    "# Create a new column 'ID_CamaraTrampa' in the DataFrame and fill it with the corresponding values\n",
    "data['ID_CamaraTrampa'] = data['RelativePath'].map(id_camara_trampa_dict)"
   ]
  },
  {
   "cell_type": "code",
   "execution_count": 9,
   "metadata": {},
   "outputs": [
    {
     "name": "stdout",
     "output_type": "stream",
     "text": [
      "['CT_10' 'CT_09' 'CT_13' 'CT_14' 'CT_11' 'CT_16' 'CT_01' 'CT_02' 'CT_05'\n",
      " 'CT_06' 'CT_03' 'CT_07' 'CT_08' 'CT_17' 'CT_12']\n"
     ]
    }
   ],
   "source": [
    "unique_ID_CamapraTrampa = data['ID_CamaraTrampa'].unique()\n",
    "print(unique_ID_CamapraTrampa)"
   ]
  },
  {
   "cell_type": "code",
   "execution_count": 10,
   "metadata": {},
   "outputs": [
    {
     "name": "stdout",
     "output_type": "stream",
     "text": [
      "Empty DataFrame\n",
      "Columns: [RootFolder, File, RelativePath, DateTime, Animal, Person, Especie, Counter0, Note0, Estacion, ID_CamaraTrampa]\n",
      "Index: []\n"
     ]
    }
   ],
   "source": [
    "print(data[data['ID_CamaraTrampa'].isna()])"
   ]
  },
  {
   "cell_type": "code",
   "execution_count": 11,
   "metadata": {},
   "outputs": [
    {
     "name": "stdout",
     "output_type": "stream",
     "text": [
      "Rows with missing 'Estacion' values:\n",
      "Empty DataFrame\n",
      "Columns: [RootFolder, File, RelativePath, DateTime, Animal, Person, Especie, Counter0, Note0, Estacion, ID_CamaraTrampa]\n",
      "Index: []\n",
      "\n",
      "Rows with missing 'ID_CamaraTrampa' values:\n",
      "Empty DataFrame\n",
      "Columns: [RootFolder, File, RelativePath, DateTime, Animal, Person, Especie, Counter0, Note0, Estacion, ID_CamaraTrampa]\n",
      "Index: []\n"
     ]
    }
   ],
   "source": [
    "# Check for rows with missing 'estación' values\n",
    "print(\"Rows with missing 'Estacion' values:\")\n",
    "print(data[data['Estacion'].isna()])\n",
    "\n",
    "# Check for rows with missing 'ID_CamaraTrampa' values\n",
    "print(\"\\nRows with missing 'ID_CamaraTrampa' values:\")\n",
    "print(data[data['ID_CamaraTrampa'].isna()])"
   ]
  },
  {
   "cell_type": "code",
   "execution_count": 12,
   "metadata": {},
   "outputs": [],
   "source": [
    "# Convert the column to datetime format\n",
    "data['DateTime'] = pd.to_datetime(data['DateTime'])\n",
    "\n",
    "# Extract year, month, day, and time\n",
    "data['Year'] = data['DateTime'].dt.year\n",
    "data['Month'] = data['DateTime'].dt.month\n",
    "data['Day'] = data['DateTime'].dt.day\n",
    "data['Time'] = data['DateTime'].dt.time\n"
   ]
  },
  {
   "cell_type": "code",
   "execution_count": 13,
   "metadata": {},
   "outputs": [
    {
     "name": "stdout",
     "output_type": "stream",
     "text": [
      "['Otoño' 'Invierno' 'Primavera' 'Verano']\n"
     ]
    }
   ],
   "source": [
    "# Define the seasons' date ranges based on 'Month' and 'Day'\n",
    "seasons = {\n",
    "    'Primavera': ((9, 23), (12, 20)),\n",
    "    'Verano': ((12, 21), (3, 20)),\n",
    "    'Otoño': ((3, 21), (6, 20)),\n",
    "    'Invierno': ((6, 21), (9, 22))\n",
    "}\n",
    "\n",
    "def get_season(month, day):\n",
    "    for season, (start, end) in seasons.items():\n",
    "        start_month, start_day = start\n",
    "        end_month, end_day = end\n",
    "        if start_month < end_month:\n",
    "            if (month > start_month or (month == start_month and day >= start_day)) and (month < end_month or (month == end_month and day <= end_day)):\n",
    "                return season\n",
    "        else:  # Seasons that span over two years\n",
    "            if (month > start_month or (month == start_month and day >= start_day)) or (month < end_month or (month == end_month and day <= end_day)):\n",
    "                return season\n",
    "    return None\n",
    "\n",
    "# Apply the function to create the 'Season' column\n",
    "data['Season'] = data.apply(lambda row: get_season(row['Month'], row['Day']), axis=1)\n",
    "\n",
    "# Print the first few rows to check\n",
    "print(data['Season'].unique())\n"
   ]
  },
  {
   "cell_type": "code",
   "execution_count": 14,
   "metadata": {},
   "outputs": [],
   "source": [
    "#deal with episode data. Variable Note0 contains the episode data\n",
    "data[['Episode_ID', 'Episode_length']] = data['Note0'].str.split(':', n=1, expand=True)\n"
   ]
  },
  {
   "cell_type": "code",
   "execution_count": 15,
   "metadata": {},
   "outputs": [
    {
     "name": "stdout",
     "output_type": "stream",
     "text": [
      "         Especie  Count\n",
      "0     Carpintero      2\n",
      "1     Cometocino      1\n",
      "2         Concón      1\n",
      "3         Diucón      1\n",
      "4          Guiña      5\n",
      "5      Hued hued      1\n",
      "6         Jabali     86\n",
      "7         Liebre     59\n",
      "8          Perro     89\n",
      "9       Peuquito      2\n",
      "10          Puma     17\n",
      "11      Rayadito      1\n",
      "12         Traro      1\n",
      "13  Zorro culpeo    103\n",
      "14        Zorzal      2\n"
     ]
    }
   ],
   "source": [
    "Especie_count = (\n",
    "    data.groupby(['Especie', 'Episode_ID'])['Counter0']\n",
    "    .max()\n",
    "    .reset_index()  # Add this line to reset the index and get 'Episode_ID' back\n",
    "    .groupby('Especie')['Episode_ID']\n",
    "    .nunique()\n",
    "    .reset_index()\n",
    "    .rename(columns={'Episode_ID': 'Count'})\n",
    ")\n",
    "\n",
    "print(Especie_count)"
   ]
  },
  {
   "cell_type": "code",
   "execution_count": 16,
   "metadata": {},
   "outputs": [
    {
     "name": "stdout",
     "output_type": "stream",
     "text": [
      "         Especie  Araucarias  CoRaTe  CoRaTe Quebrada  Lenga  Lenga - Pradera  \\\n",
      "0     Carpintero           0       0                0      0                0   \n",
      "1     Cometocino           0       0                0      0                0   \n",
      "2         Concón           0       0                0      0                0   \n",
      "3         Diucón           0       0                0      0                0   \n",
      "4          Guiña           0       2                0      0                0   \n",
      "5      Hued hued           0       0                0      0                0   \n",
      "6         Jabali           4       6                0      4                0   \n",
      "7         Liebre           9       6                0     19                1   \n",
      "8          Perro           0       5                1      4                1   \n",
      "9       Peuquito           2       0                0      0                0   \n",
      "10          Puma           5       3                0      4                0   \n",
      "11      Rayadito           0       0                0      0                0   \n",
      "12         Traro           0       0                0      0                0   \n",
      "13  Zorro culpeo          22      11                0     13                0   \n",
      "14        Zorzal           0       0                0      0                0   \n",
      "\n",
      "    RoRaCo Renoval  RoRaCo Río  Santuario de anfibios  \n",
      "0                2           0                      0  \n",
      "1                1           0                      0  \n",
      "2                0           0                      1  \n",
      "3                0           0                      1  \n",
      "4                1           0                      2  \n",
      "5                0           0                      1  \n",
      "6               35           0                     37  \n",
      "7               20           0                      4  \n",
      "8               36           5                     37  \n",
      "9                0           0                      0  \n",
      "10               3           0                      2  \n",
      "11               1           0                      0  \n",
      "12               1           0                      0  \n",
      "13              34           0                     23  \n",
      "14               0           0                      2  \n"
     ]
    }
   ],
   "source": [
    "Especie_count_by_estacion = (\n",
    "    data.groupby(['Estacion', 'Especie', 'Episode_ID'])['Counter0']\n",
    "    .max()\n",
    "    .reset_index()\n",
    "    .groupby(['Especie', 'Estacion'])['Episode_ID']\n",
    "    .nunique()\n",
    "    .unstack(fill_value=0)\n",
    "    .reset_index()\n",
    "    .rename_axis(None, axis=1)\n",
    ")\n",
    "\n",
    "print(Especie_count_by_estacion)"
   ]
  },
  {
   "cell_type": "code",
   "execution_count": 17,
   "metadata": {},
   "outputs": [
    {
     "name": "stdout",
     "output_type": "stream",
     "text": [
      "         Especie  1970  2017  2022  2023  2024\n",
      "0     Carpintero     0     0     0     2     0\n",
      "1     Cometocino     0     0     0     1     0\n",
      "2         Concón     0     0     0     1     0\n",
      "3         Diucón     0     0     0     1     0\n",
      "4          Guiña     0     0     4     1     0\n",
      "5      Hued hued     0     0     1     0     0\n",
      "6         Jabali     1     5     8    68     4\n",
      "7         Liebre     0     0    41    18     0\n",
      "8          Perro     0     2    34    50     3\n",
      "9       Peuquito     0     0     0     2     0\n",
      "10          Puma     0     0    11     5     1\n",
      "11      Rayadito     0     0     0     1     0\n",
      "12         Traro     0     0     0     1     0\n",
      "13  Zorro culpeo     1     1    37    62     2\n",
      "14        Zorzal     0     0     2     0     0\n"
     ]
    }
   ],
   "source": [
    "Especie_count_by_Year = (\n",
    "    data.groupby(['Year', 'Especie', 'Episode_ID'])['Counter0']\n",
    "    .max()\n",
    "    .reset_index()\n",
    "    .groupby(['Especie', 'Year'])['Episode_ID']\n",
    "    .nunique()\n",
    "    .unstack(fill_value=0)\n",
    "    .reset_index()\n",
    "    .rename_axis(None, axis=1)\n",
    ")\n",
    "\n",
    "print(Especie_count_by_Year)"
   ]
  },
  {
   "cell_type": "code",
   "execution_count": 18,
   "metadata": {},
   "outputs": [
    {
     "name": "stdout",
     "output_type": "stream",
     "text": [
      "         Especie  CT_01  CT_02  CT_03  CT_05  CT_06  CT_07  CT_08  CT_09  \\\n",
      "0     Carpintero      0      0      0      2      0      0      0      0   \n",
      "1     Cometocino      0      0      0      1      0      0      0      0   \n",
      "2         Concón      0      0      0      0      0      0      1      0   \n",
      "3         Diucón      0      0      0      0      0      1      0      0   \n",
      "4          Guiña      0      0      0      0      1      0      2      0   \n",
      "5      Hued hued      0      0      0      0      0      0      1      0   \n",
      "6         Jabali      4      0      0     15     20     17     20      4   \n",
      "7         Liebre     16      3      0     20      0      3      1      0   \n",
      "8          Perro      1      3      5     28      8     13     24      0   \n",
      "9       Peuquito      0      0      0      0      0      0      0      0   \n",
      "10          Puma      1      3      0      2      1      0      2      0   \n",
      "11      Rayadito      0      0      0      0      1      0      0      0   \n",
      "12         Traro      0      0      0      1      0      0      0      0   \n",
      "13  Zorro culpeo      5      8      0     31      3      6     17      3   \n",
      "14        Zorzal      0      0      0      0      0      2      0      0   \n",
      "\n",
      "    CT_10  CT_11  CT_12  CT_13  CT_16  \n",
      "0       0      0      0      0      0  \n",
      "1       0      0      0      0      0  \n",
      "2       0      0      0      0      0  \n",
      "3       0      0      0      0      0  \n",
      "4       0      2      0      0      0  \n",
      "5       0      0      0      0      0  \n",
      "6       0      3      3      0      0  \n",
      "7       9      6      0      0      1  \n",
      "8       0      5      0      1      1  \n",
      "9       2      0      0      0      0  \n",
      "10      5      3      0      0      0  \n",
      "11      0      0      0      0      0  \n",
      "12      0      0      0      0      0  \n",
      "13     19      5      6      0      0  \n",
      "14      0      0      0      0      0  \n"
     ]
    }
   ],
   "source": [
    "Especie_count_by_ID_CamaraTrampa = (\n",
    "    data.groupby(['ID_CamaraTrampa', 'Especie', 'Episode_ID'])['Counter0']\n",
    "    .max()\n",
    "    .reset_index()\n",
    "    .groupby(['Especie', 'ID_CamaraTrampa'])['Episode_ID']\n",
    "    .nunique()\n",
    "    .unstack(fill_value=0)\n",
    "    .reset_index()\n",
    "    .rename_axis(None, axis=1)\n",
    ")\n",
    "\n",
    "print(Especie_count_by_ID_CamaraTrampa)"
   ]
  },
  {
   "cell_type": "code",
   "execution_count": 19,
   "metadata": {},
   "outputs": [],
   "source": [
    "Especie_count_by_Season = (\n",
    "    data.groupby(['Season', 'Especie', 'Episode_ID'])['Counter0']\n",
    "    .max()\n",
    "    .reset_index()\n",
    "    .groupby(['Especie', 'Season'])['Episode_ID']\n",
    "    .nunique()\n",
    "    .unstack(fill_value=0)\n",
    "    .reset_index()\n",
    "    .rename_axis(None, axis=1)\n",
    ")"
   ]
  },
  {
   "cell_type": "code",
   "execution_count": 20,
   "metadata": {},
   "outputs": [
    {
     "name": "stdout",
     "output_type": "stream",
     "text": [
      "         Especie  Invierno  Otoño  Primavera  Verano\n",
      "0     Carpintero         1      0          0       1\n",
      "1     Cometocino         0      0          0       1\n",
      "2         Concón         0      1          0       0\n",
      "3         Diucón         0      0          1       0\n",
      "4          Guiña         1      0          0       0\n",
      "5         Jabali        27     19         17       5\n",
      "6         Liebre         0      8          3       7\n",
      "7          Perro         5     23         18       4\n",
      "8       Peuquito         0      0          0       2\n",
      "9           Puma         1      1          0       3\n",
      "10      Rayadito         0      0          0       1\n",
      "11         Traro         0      0          0       1\n",
      "12  Zorro culpeo        25     22          9       6\n"
     ]
    }
   ],
   "source": [
    "# Filter data for the year 2023\n",
    "data_2023 = data[data['Year'] == 2023]\n",
    "\n",
    "Especie_count_by_Season2023 = (\n",
    "    data_2023.groupby(['Season', 'Especie', 'Episode_ID'])['Counter0']\n",
    "    .max()\n",
    "    .reset_index()\n",
    "    .groupby(['Especie', 'Season'])['Episode_ID']\n",
    "    .nunique()\n",
    "    .unstack(fill_value=0)\n",
    "    .reset_index()\n",
    "    .rename_axis(None, axis=1)\n",
    ")\n",
    "\n",
    "print(Especie_count_by_Season2023)"
   ]
  },
  {
   "cell_type": "code",
   "execution_count": 21,
   "metadata": {},
   "outputs": [],
   "source": [
    "Especie_count_by_Month = (\n",
    "    data.groupby(['Month', 'Especie', 'Episode_ID'])['Counter0']\n",
    "    .max()\n",
    "    .reset_index()\n",
    "    .groupby(['Especie', 'Month'])['Episode_ID']\n",
    "    .nunique()\n",
    "    .unstack(fill_value=0)\n",
    "    .reset_index()\n",
    "    .rename_axis(None, axis=1)\n",
    ")"
   ]
  },
  {
   "cell_type": "code",
   "execution_count": 22,
   "metadata": {},
   "outputs": [
    {
     "name": "stdout",
     "output_type": "stream",
     "text": [
      "         Especie  Count  Frequency\n",
      "0     Carpintero      2   0.539084\n",
      "1     Cometocino      1   0.269542\n",
      "2         Concón      1   0.269542\n",
      "3         Diucón      1   0.269542\n",
      "4          Guiña      5   1.347709\n",
      "5      Hued hued      1   0.269542\n",
      "6         Jabali     86  23.180593\n",
      "7         Liebre     59  15.902965\n",
      "8          Perro     89  23.989218\n",
      "9       Peuquito      2   0.539084\n",
      "10          Puma     17   4.582210\n",
      "11      Rayadito      1   0.269542\n",
      "12         Traro      1   0.269542\n",
      "13  Zorro culpeo    103  27.762803\n",
      "14        Zorzal      2   0.539084\n"
     ]
    }
   ],
   "source": [
    "total_count = Especie_count['Count'].sum()\n",
    "\n",
    "# Calculate the frequency for each species\n",
    "Especie_count['Frequency'] = Especie_count['Count'] / total_count * 100\n",
    "\n",
    "# Display the DataFrame with the new Frequency column\n",
    "print(Especie_count)"
   ]
  },
  {
   "cell_type": "code",
   "execution_count": 23,
   "metadata": {},
   "outputs": [
    {
     "name": "stdout",
     "output_type": "stream",
     "text": [
      "         Especie  Araucarias     CoRaTe  CoRaTe Quebrada      Lenga  \\\n",
      "0     Carpintero    0.000000   0.000000              0.0   0.000000   \n",
      "1     Cometocino    0.000000   0.000000              0.0   0.000000   \n",
      "2         Concón    0.000000   0.000000              0.0   0.000000   \n",
      "3         Diucón    0.000000   0.000000              0.0   0.000000   \n",
      "4          Guiña    0.000000   6.060606              0.0   0.000000   \n",
      "5      Hued hued    0.000000   0.000000              0.0   0.000000   \n",
      "6         Jabali    9.523810  18.181818              0.0   9.090909   \n",
      "7         Liebre   21.428571  18.181818              0.0  43.181818   \n",
      "8          Perro    0.000000  15.151515            100.0   9.090909   \n",
      "9       Peuquito    4.761905   0.000000              0.0   0.000000   \n",
      "10          Puma   11.904762   9.090909              0.0   9.090909   \n",
      "11      Rayadito    0.000000   0.000000              0.0   0.000000   \n",
      "12         Traro    0.000000   0.000000              0.0   0.000000   \n",
      "13  Zorro culpeo   52.380952  33.333333              0.0  29.545455   \n",
      "14        Zorzal    0.000000   0.000000              0.0   0.000000   \n",
      "\n",
      "    Lenga - Pradera  RoRaCo Renoval  RoRaCo Río  Santuario de anfibios  \n",
      "0               0.0        1.492537         0.0               0.000000  \n",
      "1               0.0        0.746269         0.0               0.000000  \n",
      "2               0.0        0.000000         0.0               0.909091  \n",
      "3               0.0        0.000000         0.0               0.909091  \n",
      "4               0.0        0.746269         0.0               1.818182  \n",
      "5               0.0        0.000000         0.0               0.909091  \n",
      "6               0.0       26.119403         0.0              33.636364  \n",
      "7              50.0       14.925373         0.0               3.636364  \n",
      "8              50.0       26.865672       100.0              33.636364  \n",
      "9               0.0        0.000000         0.0               0.000000  \n",
      "10              0.0        2.238806         0.0               1.818182  \n",
      "11              0.0        0.746269         0.0               0.000000  \n",
      "12              0.0        0.746269         0.0               0.000000  \n",
      "13              0.0       25.373134         0.0              20.909091  \n",
      "14              0.0        0.000000         0.0               1.818182  \n"
     ]
    }
   ],
   "source": [
    "# Step 1: Calculate the total counts per Estacion across all Especie\n",
    "total_count_per_estacion = Especie_count_by_estacion.drop('Especie', axis=1).sum()\n",
    "\n",
    "# Step 2: Create a new DataFrame for frequency values\n",
    "Especie_freq_by_estacion = Especie_count_by_estacion.copy()\n",
    "\n",
    "# Calculate frequencies by dividing each species count by the total count for that station\n",
    "for estacion in total_count_per_estacion.index:\n",
    "    Especie_freq_by_estacion[estacion] = Especie_count_by_estacion[estacion] / total_count_per_estacion[estacion] * 100\n",
    "\n",
    "# The DataFrame Especie_freq_by_estacion now contains the frequencies instead of the counts\n",
    "print(Especie_freq_by_estacion)\n",
    "\n"
   ]
  },
  {
   "cell_type": "code",
   "execution_count": 24,
   "metadata": {},
   "outputs": [
    {
     "name": "stdout",
     "output_type": "stream",
     "text": [
      "         Especie Araucarias CoRaTe CoRaTe Quebrada Lenga Lenga - Pradera  \\\n",
      "0     Carpintero                                                           \n",
      "1     Cometocino                                                           \n",
      "2         Concón                                                           \n",
      "3         Diucón                                                           \n",
      "4          Guiña                 X                                         \n",
      "5      Hued hued                                                           \n",
      "6         Jabali          X      X                     X                   \n",
      "7         Liebre          X      X                     X               X   \n",
      "8          Perro                 X               X     X               X   \n",
      "9       Peuquito          X                                                \n",
      "10          Puma          X      X                     X                   \n",
      "11      Rayadito                                                           \n",
      "12         Traro                                                           \n",
      "13  Zorro culpeo          X      X                     X                   \n",
      "14        Zorzal                                                           \n",
      "\n",
      "   RoRaCo Renoval RoRaCo Río Santuario de anfibios  Percentage  \n",
      "0               X                                         12.5  \n",
      "1               X                                         12.5  \n",
      "2                                                X        12.5  \n",
      "3                                                X        12.5  \n",
      "4               X                                X        37.5  \n",
      "5                                                X        12.5  \n",
      "6               X                                X        62.5  \n",
      "7               X                                X        75.0  \n",
      "8               X          X                     X        87.5  \n",
      "9                                                         12.5  \n",
      "10              X                                X        62.5  \n",
      "11              X                                         12.5  \n",
      "12              X                                         12.5  \n",
      "13              X                                X        62.5  \n",
      "14                                               X        12.5  \n"
     ]
    }
   ],
   "source": [
    "especie_freq_by_estacion_binary = Especie_freq_by_estacion.copy()\n",
    "for col in especie_freq_by_estacion_binary.columns[1:]:  # Skip 'Especie' column\n",
    "    especie_freq_by_estacion_binary[col] = especie_freq_by_estacion_binary[col].apply(lambda x: 'X' if x > 0 else '')\n",
    "\n",
    "# Step 2: Calculate the percentage of stations that have the species\n",
    "especie_freq_by_estacion_binary['Percentage'] = especie_freq_by_estacion_binary.drop('Especie', axis=1).apply(\n",
    "    lambda row: (row == 'X').mean() * 100, axis=1)\n",
    "\n",
    "# Print the updated DataFrame with the 'Especie' labels and percentages\n",
    "print(especie_freq_by_estacion_binary)\n"
   ]
  },
  {
   "cell_type": "code",
   "execution_count": 25,
   "metadata": {},
   "outputs": [
    {
     "name": "stdout",
     "output_type": "stream",
     "text": [
      "                 Total_pictures  Total_animal_pictures  Total_person_pictures  \\\n",
      "ID_CamaraTrampa                                                                 \n",
      "CT_01                       144                   55.0                   47.0   \n",
      "CT_02                       412                   39.0                   77.0   \n",
      "CT_03                       123                   13.0                   91.0   \n",
      "CT_05                       446                  233.0                   91.0   \n",
      "CT_06                      4113                  112.0                  151.0   \n",
      "CT_07                       473                  271.0                   60.0   \n",
      "CT_08                      1330                  309.0                  395.0   \n",
      "CT_09                      2190                   36.0                   50.0   \n",
      "CT_10                       316                   70.0                  160.0   \n",
      "CT_11                       386                   57.0                  121.0   \n",
      "CT_12                        50                   19.0                   22.0   \n",
      "CT_13                        24                    6.0                   18.0   \n",
      "CT_14                         9                    NaN                    NaN   \n",
      "CT_16                       400                   11.0                   47.0   \n",
      "CT_17                      1760                    NaN                  352.0   \n",
      "\n",
      "                 Percentage_animal_pictures  \\\n",
      "ID_CamaraTrampa                               \n",
      "CT_01                             38.194444   \n",
      "CT_02                              9.466019   \n",
      "CT_03                             10.569106   \n",
      "CT_05                             52.242152   \n",
      "CT_06                              2.723073   \n",
      "CT_07                             57.293869   \n",
      "CT_08                             23.233083   \n",
      "CT_09                              1.643836   \n",
      "CT_10                             22.151899   \n",
      "CT_11                             14.766839   \n",
      "CT_12                             38.000000   \n",
      "CT_13                             25.000000   \n",
      "CT_14                                   NaN   \n",
      "CT_16                              2.750000   \n",
      "CT_17                                   NaN   \n",
      "\n",
      "                 Percentage_Animal_and_person_pictures  \n",
      "ID_CamaraTrampa                                         \n",
      "CT_01                                        70.833333  \n",
      "CT_02                                        28.155340  \n",
      "CT_03                                        84.552846  \n",
      "CT_05                                        70.852018  \n",
      "CT_06                                         6.248480  \n",
      "CT_07                                        69.556025  \n",
      "CT_08                                        50.902256  \n",
      "CT_09                                         3.926941  \n",
      "CT_10                                        72.784810  \n",
      "CT_11                                        46.113990  \n",
      "CT_12                                        82.000000  \n",
      "CT_13                                       100.000000  \n",
      "CT_14                                              NaN  \n",
      "CT_16                                        14.500000  \n",
      "CT_17                                        20.000000  \n"
     ]
    }
   ],
   "source": [
    "PicturesTaken_by_ID_CamaraTrampa = pd.DataFrame({\n",
    "    'Total_pictures': data.groupby('ID_CamaraTrampa').size(),\n",
    "    'Total_animal_pictures': data[data['Animal'] == 'Si'].groupby('ID_CamaraTrampa').size(),\n",
    "    'Total_person_pictures': data[data['Person'] == 'Si'].groupby('ID_CamaraTrampa').size(),\n",
    "    'Percentage_animal_pictures': data[data['Animal'] == 'Si'].groupby('ID_CamaraTrampa').size() / data.groupby('ID_CamaraTrampa').size() * 100,\n",
    "    'Percentage_Animal_and_person_pictures': data[(data['Animal'] == 'Si') + (data['Person'] == 'Si')].groupby('ID_CamaraTrampa').size() / data.groupby('ID_CamaraTrampa').size() * 100\n",
    "})\n",
    "\n",
    "print(PicturesTaken_by_ID_CamaraTrampa)\n"
   ]
  },
  {
   "cell_type": "code",
   "execution_count": 26,
   "metadata": {},
   "outputs": [
    {
     "name": "stdout",
     "output_type": "stream",
     "text": [
      "ID_CamaraTrampa\n",
      "CT_01    5\n",
      "CT_02    4\n",
      "CT_03    1\n",
      "CT_05    8\n",
      "CT_06    6\n",
      "CT_07    6\n",
      "CT_08    8\n",
      "CT_09    2\n",
      "CT_10    4\n",
      "CT_11    6\n",
      "CT_12    2\n",
      "CT_13    1\n",
      "CT_14    0\n",
      "CT_16    2\n",
      "CT_17    0\n",
      "Name: Especie, dtype: int64\n"
     ]
    }
   ],
   "source": [
    "# Group by camera trap ID and count unique species\n",
    "species_count_by_camera = data.groupby('ID_CamaraTrampa')['Especie'].nunique()\n",
    "\n",
    "# Display the result\n",
    "print(species_count_by_camera)"
   ]
  },
  {
   "cell_type": "code",
   "execution_count": 27,
   "metadata": {},
   "outputs": [],
   "source": [
    "writer = pd.ExcelWriter('Tablas informe CT.xlsx', engine='xlsxwriter')\n",
    "\n",
    "# Write each DataFrame to a different sheet\n",
    "Especie_count.to_excel(writer, sheet_name='Especie_count')\n",
    "Especie_count_by_estacion.to_excel(writer, sheet_name='by_estacion')\n",
    "Especie_count_by_Year.to_excel(writer, sheet_name='by_Year')\n",
    "Especie_count_by_ID_CamaraTrampa.to_excel(writer, sheet_name='by_ID_CamaraTrampa')\n",
    "Especie_count_by_Season.to_excel(writer, sheet_name='Especie_by_Season')\n",
    "Especie_count_by_Month.to_excel(writer, sheet_name='Especie_by_Month')\n",
    "Especie_freq_by_estacion.to_excel(writer, sheet_name='freq_by_estacion')\n",
    "especie_freq_by_estacion_binary.to_excel(writer, sheet_name='freq_by_estacion_binary')\n",
    "PicturesTaken_by_ID_CamaraTrampa.to_excel(writer, sheet_name='PicturesTaken')\n",
    "Especie_count_by_Season2023.to_excel(writer, sheet_name='Especie_by_Season2023')\n",
    "\n",
    "# Save the Excel file\n",
    "writer.close()"
   ]
  },
  {
   "cell_type": "code",
   "execution_count": null,
   "metadata": {},
   "outputs": [],
   "source": []
  }
 ],
 "metadata": {
  "kernelspec": {
   "display_name": "base",
   "language": "python",
   "name": "python3"
  },
  "language_info": {
   "codemirror_mode": {
    "name": "ipython",
    "version": 3
   },
   "file_extension": ".py",
   "mimetype": "text/x-python",
   "name": "python",
   "nbconvert_exporter": "python",
   "pygments_lexer": "ipython3",
   "version": "3.10.13"
  }
 },
 "nbformat": 4,
 "nbformat_minor": 2
}
