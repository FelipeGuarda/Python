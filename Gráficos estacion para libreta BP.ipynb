{
 "cells": [
  {
   "cell_type": "code",
   "execution_count": 1,
   "metadata": {},
   "outputs": [],
   "source": [
    "import pandas as pd\n",
    "import numpy as np\n",
    "import matplotlib.pyplot as plt\n",
    "import xlsxwriter\n",
    "import pandas_flavor as pf"
   ]
  },
  {
   "cell_type": "code",
   "execution_count": 9,
   "metadata": {},
   "outputs": [
    {
     "name": "stdout",
     "output_type": "stream",
     "text": [
      "                 TIMESTAMP  RECORD  AirTC_Max  AirTC_Avg  AirTC_Min  RH_Max  \\\n",
      "0      2018-09-21 16:45:00   11138      6.401      6.171      5.993  100.00   \n",
      "1      2018-09-21 17:00:00   11139      6.401      6.296      6.196  100.00   \n",
      "2      2018-09-21 17:15:00   11140      6.469      6.321      6.230  100.00   \n",
      "3      2018-09-21 17:30:00   11141      6.537      6.465      6.401  100.00   \n",
      "4      2018-09-21 17:45:00   11142      6.674      6.554      6.401  100.00   \n",
      "...                    ...     ...        ...        ...        ...     ...   \n",
      "47595  2020-01-30 11:30:00   58733     15.860     15.530     15.250   54.63   \n",
      "47596  2020-01-30 11:45:00   58734     16.200     15.910     15.720   51.77   \n",
      "47597  2020-01-30 12:00:00   58735     16.950     16.570     16.200   44.81   \n",
      "47598  2020-01-30 12:15:00   58736     16.880     16.700     16.330   48.22   \n",
      "47599  2020-01-30 12:30:00   58737     17.070     16.860     16.610   47.04   \n",
      "\n",
      "       RH_Avg  RH_Min  WS_ms_Max  WS_ms_Avg  ...  DT_Min  Q_Max  Q_Min  \\\n",
      "0      100.00  100.00      6.478      2.590  ...   2.473    211    182   \n",
      "1      100.00  100.00      5.410      2.012  ...   2.475    225    176   \n",
      "2      100.00  100.00      5.145      2.620  ...   2.477    256    184   \n",
      "3      100.00  100.00      5.331      2.635  ...   2.482    233    181   \n",
      "4      100.00  100.00      5.968      2.536  ...   2.479    224    186   \n",
      "...       ...     ...        ...        ...  ...     ...    ...    ...   \n",
      "47595   44.11   33.79      2.489      1.164  ...   0.000    387      0   \n",
      "47596   40.64   31.78      2.519      1.276  ...   0.000    415      0   \n",
      "47597   37.23   27.28      2.626      1.315  ...   2.481    378    199   \n",
      "47598   41.44   33.62      3.087      1.475  ...   2.474    444    202   \n",
      "47599   40.27   34.10      3.342      1.712  ...   2.470    354    201   \n",
      "\n",
      "       TCDT_Max  TCDT_Min  incomingLW_Avg  incomingSW_Avg  outgoingLW_Avg  \\\n",
      "0         2.513     2.499           18.11          14.320               0   \n",
      "1         2.517     2.501           18.11           8.810               0   \n",
      "2         2.522     2.504           12.84           7.313               0   \n",
      "3         2.530     2.509           13.79           6.347               0   \n",
      "4         2.522     2.507           11.62          10.370               0   \n",
      "...         ...       ...             ...             ...             ...   \n",
      "47595     2.625     0.000          546.10         712.300               0   \n",
      "47596     2.620     0.000          578.90         750.400               0   \n",
      "47597     2.629     2.562          608.40         785.000               0   \n",
      "47598     2.617     2.561          633.60         814.000               0   \n",
      "47599     2.632     2.558          658.70         843.000               0   \n",
      "\n",
      "       outgoingSW_Avg  albedo_Avg  \n",
      "0               3.791       0.733  \n",
      "1               9.300       0.742  \n",
      "2               5.530       0.719  \n",
      "3               7.438       0.712  \n",
      "4               1.249       0.693  \n",
      "...               ...         ...  \n",
      "47595        -166.300       0.177  \n",
      "47596        -171.400       0.173  \n",
      "47597        -176.500       0.170  \n",
      "47598        -180.100       0.168  \n",
      "47599        -183.900       0.165  \n",
      "\n",
      "[47600 rows x 40 columns]\n"
     ]
    }
   ],
   "source": [
    "header_row = 1  # Use the second row as the column names\n",
    "skip_rows = [2, 3]  # Skip the first row, and the third and fourth rows\n",
    "\n",
    "# Read the CSV file with the specified header row and skipping the specified rows\n",
    "data1 = pd.read_csv(\"G:\\Shared drives\\FMA-G\\C-CONSERVACIÓN\\C1_Bosque Pehuen\\C1.5_Bases de datos\\Estacion Meterorológica\\Linea de tiempo completa\\CR800Series_Table 21092018_30012020.dat\", header=header_row, skiprows=skip_rows, low_memory=False)\n",
    "\n",
    "# Print the DataFrame\n",
    "print(data1)\n"
   ]
  },
  {
   "cell_type": "code",
   "execution_count": 10,
   "metadata": {},
   "outputs": [
    {
     "name": "stdout",
     "output_type": "stream",
     "text": [
      "Index(['TIMESTAMP', 'RECORD', 'AirTC_Max', 'AirTC_Avg', 'AirTC_Min', 'RH_Max',\n",
      "       'RH_Avg', 'RH_Min', 'WS_ms_Max', 'WS_ms_Avg', 'WS_ms_Min',\n",
      "       'WindDir_Max', 'WindDir_Avg', 'WindDir_Min', 'WindDir_Std',\n",
      "       'BP_mbar_Avg', 'T107_10cm_Max', 'T107_10cm_Avg', 'T107_10cm_Min',\n",
      "       'T107_10cm_Std', 'T107_50cm_Max', 'T107_50cm_Avg', 'T107_50cm_Min',\n",
      "       'T107_50cm_Std', 'Rain_mm_Tot', 'PTemp_C_Avg', 'PtoRocio_Avg',\n",
      "       'BattV_Min', 'DT_Max', 'DT_Avg', 'DT_Min', 'Q_Max', 'Q_Min', 'TCDT_Max',\n",
      "       'TCDT_Min', 'incomingLW_Avg', 'incomingSW_Avg', 'outgoingLW_Avg',\n",
      "       'outgoingSW_Avg', 'albedo_Avg'],\n",
      "      dtype='object')\n"
     ]
    }
   ],
   "source": [
    "print(data1.columns)"
   ]
  },
  {
   "cell_type": "code",
   "execution_count": 12,
   "metadata": {},
   "outputs": [
    {
     "name": "stdout",
     "output_type": "stream",
     "text": [
      "False\n"
     ]
    }
   ],
   "source": [
    "duplicates = data1['RECORD'].duplicated() \n",
    "print(any(duplicates))"
   ]
  },
  {
   "cell_type": "code",
   "execution_count": null,
   "metadata": {},
   "outputs": [],
   "source": []
  }
 ],
 "metadata": {
  "kernelspec": {
   "display_name": "base",
   "language": "python",
   "name": "python3"
  },
  "language_info": {
   "codemirror_mode": {
    "name": "ipython",
    "version": 3
   },
   "file_extension": ".py",
   "mimetype": "text/x-python",
   "name": "python",
   "nbconvert_exporter": "python",
   "pygments_lexer": "ipython3",
   "version": "3.10.12"
  }
 },
 "nbformat": 4,
 "nbformat_minor": 2
}
