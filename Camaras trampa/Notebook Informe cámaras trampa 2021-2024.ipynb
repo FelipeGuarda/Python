{
 "cells": [
  {
   "cell_type": "code",
   "execution_count": 1,
   "metadata": {},
   "outputs": [],
   "source": [
    "import pandas as pd\n",
    "import numpy as np\n",
    "import seaborn as sns\n",
    "import matplotlib.pyplot as plt\n",
    "import xlsxwriter\n",
    "import pandas_flavor as pf\n",
    "\n",
    "\n"
   ]
  },
  {
   "cell_type": "code",
   "execution_count": 2,
   "metadata": {},
   "outputs": [],
   "source": [
    "file_path_UCT = r\"C:\\Users\\fguar\\OneDrive\\Documentos\\VS Code\\Python\\Camaras trampa\\Fotos UCT.csv\"\n",
    "file_path_data_2022_2024 = r\"C:\\Users\\fguar\\OneDrive\\Documentos\\VS Code\\Python\\Camaras trampa\\CT_Data_2022-2024.csv\"\n",
    "data_UCT = pd.read_csv(file_path_UCT)\n",
    "data_2022_2024 = pd.read_csv(file_path_data_2022_2024)\n",
    " "
   ]
  },
  {
   "cell_type": "code",
   "execution_count": 3,
   "metadata": {},
   "outputs": [
    {
     "name": "stdout",
     "output_type": "stream",
     "text": [
      "                RootFolder          File  \\\n",
      "0  6. Fotos Camaras Trampa  01020010.JPG   \n",
      "1  6. Fotos Camaras Trampa  01020011.JPG   \n",
      "2  6. Fotos Camaras Trampa  01020012.JPG   \n",
      "3  6. Fotos Camaras Trampa  01020013.JPG   \n",
      "4  6. Fotos Camaras Trampa  01020014.JPG   \n",
      "\n",
      "                                        RelativePath              DateTime  \\\n",
      "0  1. Proyecto Fauna FMA (Feb-May 2021)\\Estacion ...   2017-01-02 11:32:00   \n",
      "1  1. Proyecto Fauna FMA (Feb-May 2021)\\Estacion ...   2017-01-02 11:32:01   \n",
      "2  1. Proyecto Fauna FMA (Feb-May 2021)\\Estacion ...   2017-01-02 11:32:02   \n",
      "3  1. Proyecto Fauna FMA (Feb-May 2021)\\Estacion ...   2017-01-02 14:19:37   \n",
      "4  1. Proyecto Fauna FMA (Feb-May 2021)\\Estacion ...   2017-01-02 14:19:38   \n",
      "\n",
      "   Counter0           Especie  Note0  Unnamed: 7  \n",
      "0         0  Raton cola larga  2:1|3         NaN  \n",
      "1         0  Raton cola larga  2:2|3         NaN  \n",
      "2         0  Raton cola larga  2:3|3         NaN  \n",
      "3         0  Raton cola larga  3:1|6         NaN  \n",
      "4         0  Raton cola larga  3:2|6         NaN  \n"
     ]
    }
   ],
   "source": [
    "print(data_UCT.head())"
   ]
  },
  {
   "cell_type": "code",
   "execution_count": null,
   "metadata": {},
   "outputs": [],
   "source": []
  },
  {
   "cell_type": "code",
   "execution_count": 4,
   "metadata": {},
   "outputs": [],
   "source": [
    "# Create a dictionary that maps the RelativePath values to the corresponding Estación value\n",
    "estacion_dict = {\n",
    " '1. Proyecto Fauna FMA (Feb-May 2021)\\\\Estacion 2. RoRaCo ok\\\\03\\\\100EK113 ok': 'RoRaCo Renoval', \n",
    " '1. Proyecto Fauna FMA (Feb-May 2021)\\\\Estacion 2. RoRaCo ok\\\\04\\\\DCIM\\\\100EK113': 'RoRaCo Renoval',\n",
    " '1. Proyecto Fauna FMA (Feb-May 2021)\\\\Estacion 2. RoRaCo ok\\\\04\\\\DCIM\\\\102EK113': 'RoRaCo Renoval',\n",
    " '1. Proyecto Fauna FMA (Feb-May 2021)\\\\Estacion 2. RoRaCo ok\\\\04\\\\DCIM\\\\107EK113': 'RoRaCo Renoval',\n",
    " '1. Proyecto Fauna FMA (Feb-May 2021)\\\\Estacion 2. RoRaCo ok\\\\04\\\\DCIM\\\\109EK113': 'RoRaCo Renoval',\n",
    " '1. Proyecto Fauna FMA (Feb-May 2021)\\\\Estación 1. Camping ok\\\\01\\\\DCIM\\\\104EK113': 'RoRaCo Río',\n",
    " '1. Proyecto Fauna FMA (Feb-May 2021)\\\\Estación 1. Camping ok\\\\01\\\\DCIM\\\\107EK113': 'RoRaCo Río',\n",
    " '1. Proyecto Fauna FMA (Feb-May 2021)\\\\Estación 1. Camping ok\\\\01\\\\DCIM\\\\110EK113': 'RoRaCo Río',\n",
    " '1. Proyecto Fauna FMA (Feb-May 2021)\\\\Estación 1. Camping ok\\\\01\\\\DCIM\\\\111EK113': 'RoRaCo Río',\n",
    " '1. Proyecto Fauna FMA (Feb-May 2021)\\\\Estación 3. CoRaTe ok\\\\05\\\\100EK113': 'CoRaTe',\n",
    " '1. Proyecto Fauna FMA (Feb-May 2021)\\\\Estación 3. CoRaTe ok\\\\05\\\\101EK113': 'CoRaTe',\n",
    " '1. Proyecto Fauna FMA (Feb-May 2021)\\\\Estación 3. CoRaTe ok\\\\05\\\\102EK113': 'CoRaTe',\n",
    " '1. Proyecto Fauna FMA (Feb-May 2021)\\\\Estación 3. CoRaTe ok\\\\06\\\\DCIM\\\\102EK113': 'CoRaTe',\n",
    " '1. Proyecto Fauna FMA (Feb-May 2021)\\\\Estación 3. CoRaTe ok\\\\06\\\\DCIM\\\\103EK113': 'CoRaTe',\n",
    " '1. Proyecto Fauna FMA (Feb-May 2021)\\\\Estación 4. Araucaria ok\\\\07 ok\\\\100EK113': 'Araucarias',\n",
    " '1. Proyecto Fauna FMA (Feb-May 2021)\\\\Estación 4. Araucaria ok\\\\07 ok\\\\101EK113': 'Araucarias',\n",
    " '1. Proyecto Fauna FMA (Feb-May 2021)\\\\Estación 4. Araucaria ok\\\\07 ok\\\\102EK113': 'Araucarias',\n",
    " '4. Proyecto Fauna FMA (Dic 2021-Mar 2022)\\\\Campaña Primavera-Verano 2021-2022\\\\E1. Bosque RoRaCo-Camping ok\\\\A1\\\\100EK113': 'RoRaCo Río' ,\n",
    " '4. Proyecto Fauna FMA (Dic 2021-Mar 2022)\\\\Campaña Primavera-Verano 2021-2022\\\\E1. Bosque RoRaCo-Camping ok\\\\A1\\\\101EK113': 'RoRaCo Río',\n",
    " '4. Proyecto Fauna FMA (Dic 2021-Mar 2022)\\\\Campaña Primavera-Verano 2021-2022\\\\E1. Bosque RoRaCo-Camping ok\\\\A1\\\\102EK113': 'RoRaCo Río',\n",
    " '4. Proyecto Fauna FMA (Dic 2021-Mar 2022)\\\\Campaña Primavera-Verano 2021-2022\\\\E1. Bosque RoRaCo-Camping ok\\\\A1\\\\103EK113': 'RoRaCo Río',\n",
    " '4. Proyecto Fauna FMA (Dic 2021-Mar 2022)\\\\Campaña Primavera-Verano 2021-2022\\\\E1. Bosque RoRaCo-Camping ok\\\\A2\\\\100EK113': 'RoRaCo Río',\n",
    " '4. Proyecto Fauna FMA (Dic 2021-Mar 2022)\\\\Campaña Primavera-Verano 2021-2022\\\\E2. Bosque RoRaCo-Pradera\\\\A4\\\\100EK113': 'RoRaCo Renoval',\n",
    " '4. Proyecto Fauna FMA (Dic 2021-Mar 2022)\\\\Campaña Primavera-Verano 2021-2022\\\\E3. Bosque CoRaTe ok\\\\A5\\\\100EK113': 'CoRaTe',\n",
    " '4. Proyecto Fauna FMA (Dic 2021-Mar 2022)\\\\Campaña Primavera-Verano 2021-2022\\\\E3. Bosque CoRaTe ok\\\\A6\\\\100EK113': 'CoRaTe',\n",
    " '4. Proyecto Fauna FMA (Dic 2021-Mar 2022)\\\\Campaña Primavera-Verano 2021-2022\\\\E4. Bosque Araucaria OK\\\\A7 ok\\\\100EK113': 'Araucarias',\n",
    " '4. Proyecto Fauna FMA (Dic 2021-Mar 2022)\\\\Campaña Primavera-Verano 2021-2022\\\\E4. Bosque Araucaria OK\\\\A7 ok\\\\101EK113': 'Araucarias',\n",
    " '4. Proyecto Fauna FMA (Dic 2021-Mar 2022)\\\\Campaña Primavera-Verano 2021-2022\\\\E4. Bosque Araucaria OK\\\\A7 ok\\\\103EK113': 'Araucarias',\n",
    " '4. Proyecto Fauna FMA (Dic 2021-Mar 2022)\\\\Campaña Primavera-Verano 2021-2022\\\\E4. Bosque Araucaria OK\\\\A7 ok\\\\104EK113': 'Araucarias',\n",
    " '4. Proyecto Fauna FMA (Dic 2021-Mar 2022)\\\\Campaña Primavera-Verano 2021-2022\\\\E4. Bosque Araucaria OK\\\\A7 ok\\\\105EK113': 'Araucarias',\n",
    " '4. Proyecto Fauna FMA (Dic 2021-Mar 2022)\\\\Campaña Primavera-Verano 2021-2022\\\\E4. Bosque Araucaria OK\\\\A8 ok\\\\100EK113': 'Araucarias',\n",
    " '4. Proyecto Fauna FMA (Dic 2021-Mar 2022)\\\\Campaña Primavera-Verano 2021-2022\\\\E5. Bosque Lenga ok\\\\A10\\\\100EK113': 'Lenga',\n",
    " '4. Proyecto Fauna FMA (Dic 2021-Mar 2022)\\\\Campaña Primavera-Verano 2021-2022\\\\E5. Bosque Lenga ok\\\\A9\\\\103EK113': 'Lenga',\n",
    " '4. Proyecto Fauna FMA (Dic 2021-Mar 2022)\\\\Campaña Primavera-Verano 2021-2022\\\\E5. Bosque Lenga ok\\\\A9\\\\106EK113': 'Lenga',\n",
    " '4. Proyecto Fauna FMA (Dic 2021-Mar 2022)\\\\Campaña Primavera-Verano 2021-2022\\\\E5. Bosque Lenga ok\\\\A9\\\\108EK113': 'Lenga',\n",
    " '4. Proyecto Fauna FMA (Dic 2021-Mar 2022)\\\\Campaña Primavera-Verano 2021-2022\\\\E5. Bosque Lenga ok\\\\A9\\\\109EK113': 'Lenga',\n",
    " '4. Proyecto Fauna FMA (Dic 2021-Mar 2022)\\\\Campaña Primavera-Verano 2021-2022\\\\E5. Bosque Lenga ok\\\\A9\\\\110EK113': 'Lenga',\n",
    " '4. Proyecto Fauna FMA (Dic 2021-Mar 2022)\\\\Campaña Primavera-Verano 2021-2022\\\\E6. Santuario Anfibios OK\\\\A11 OK\\\\100EK113': 'Santuario de anfibios',\n",
    " '4. Proyecto Fauna FMA (Dic 2021-Mar 2022)\\\\Campaña Primavera-Verano 2021-2022\\\\E6. Santuario Anfibios OK\\\\A11 OK\\\\101EK113': 'Santuario de anfibios',\n",
    " '4. Proyecto Fauna FMA (Dic 2021-Mar 2022)\\\\Campaña Primavera-Verano 2021-2022\\\\E6. Santuario Anfibios OK\\\\A11 OK\\\\102EK113': 'Santuario de anfibios',\n",
    " '4. Proyecto Fauna FMA (Dic 2021-Mar 2022)\\\\Campaña Primavera-Verano 2021-2022\\\\E6. Santuario Anfibios OK\\\\A11 OK\\\\103EK113': 'Santuario de anfibios',\n",
    " '4. Proyecto Fauna FMA (Dic 2021-Mar 2022)\\\\Campaña Primavera-Verano 2021-2022\\\\E6. Santuario Anfibios OK\\\\A11 OK\\\\104EK113': 'Santuario de anfibios',\n",
    " '4. Proyecto Fauna FMA (Dic 2021-Mar 2022)\\\\Campaña Primavera-Verano 2021-2022\\\\E6. Santuario Anfibios OK\\\\A12 OK\\\\100EK113': 'Santuario de anfibios',\n",
    "}\n",
    "\n",
    "\n",
    "# Create a new column 'estación' in the DataFrame and fill it with the corresponding values\n",
    "data_UCT['Estacion'] = data_UCT['RelativePath'].map(estacion_dict)"
   ]
  },
  {
   "cell_type": "code",
   "execution_count": null,
   "metadata": {},
   "outputs": [],
   "source": []
  },
  {
   "cell_type": "code",
   "execution_count": 5,
   "metadata": {},
   "outputs": [
    {
     "name": "stdout",
     "output_type": "stream",
     "text": [
      "['RoRaCo Renoval' 'RoRaCo Río' 'CoRaTe' 'Araucarias' 'Lenga'\n",
      " 'Santuario de anfibios']\n"
     ]
    }
   ],
   "source": [
    "unique_Estacion = data_UCT['Estacion'].unique()\n",
    "print(unique_Estacion)"
   ]
  },
  {
   "cell_type": "markdown",
   "metadata": {},
   "source": [
    "# Create a dictionary that maps the RelativePath values to the corresponding ID_CamaraTrampa value\n",
    "id_camara_trampa_dict = {\n",
    " '1. Proyecto Fauna FMA (Feb-May 2021)\\\\Estacion 2. RoRaCo ok\\\\03\\\\100EK113 ok': ,\n",
    " '1. Proyecto Fauna FMA (Feb-May 2021)\\\\Estacion 2. RoRaCo ok\\\\04\\\\DCIM\\\\100EK113': ,\n",
    " '1. Proyecto Fauna FMA (Feb-May 2021)\\\\Estacion 2. RoRaCo ok\\\\04\\\\DCIM\\\\102EK113': ,\n",
    " '1. Proyecto Fauna FMA (Feb-May 2021)\\\\Estacion 2. RoRaCo ok\\\\04\\\\DCIM\\\\107EK113': ,\n",
    " '1. Proyecto Fauna FMA (Feb-May 2021)\\\\Estacion 2. RoRaCo ok\\\\04\\\\DCIM\\\\109EK113': ,\n",
    " '1. Proyecto Fauna FMA (Feb-May 2021)\\\\Estación 1. Camping ok\\\\01\\\\DCIM\\\\104EK113': ,\n",
    " '1. Proyecto Fauna FMA (Feb-May 2021)\\\\Estación 1. Camping ok\\\\01\\\\DCIM\\\\107EK113': ,\n",
    " '1. Proyecto Fauna FMA (Feb-May 2021)\\\\Estación 1. Camping ok\\\\01\\\\DCIM\\\\110EK113': ,\n",
    " '1. Proyecto Fauna FMA (Feb-May 2021)\\\\Estación 1. Camping ok\\\\01\\\\DCIM\\\\111EK113': ,\n",
    " '1. Proyecto Fauna FMA (Feb-May 2021)\\\\Estación 3. CoRaTe ok\\\\05\\\\100EK113': ,\n",
    " '1. Proyecto Fauna FMA (Feb-May 2021)\\\\Estación 3. CoRaTe ok\\\\05\\\\101EK113': ,\n",
    " '1. Proyecto Fauna FMA (Feb-May 2021)\\\\Estación 3. CoRaTe ok\\\\05\\\\102EK113': ,\n",
    " '1. Proyecto Fauna FMA (Feb-May 2021)\\\\Estación 3. CoRaTe ok\\\\06\\\\DCIM\\\\102EK113': ,\n",
    " '1. Proyecto Fauna FMA (Feb-May 2021)\\\\Estación 3. CoRaTe ok\\\\06\\\\DCIM\\\\103EK113': ,\n",
    " '1. Proyecto Fauna FMA (Feb-May 2021)\\\\Estación 4. Araucaria ok\\\\07 ok\\\\100EK113': ,\n",
    " '1. Proyecto Fauna FMA (Feb-May 2021)\\\\Estación 4. Araucaria ok\\\\07 ok\\\\101EK113': ,\n",
    " '1. Proyecto Fauna FMA (Feb-May 2021)\\\\Estación 4. Araucaria ok\\\\07 ok\\\\102EK113': ,\n",
    " '4. Proyecto Fauna FMA (Dic 2021-Mar 2022)\\\\Campaña Primavera-Verano 2021-2022\\\\E1. Bosque RoRaCo-Camping ok\\\\A1\\\\100EK113': ,\n",
    " '4. Proyecto Fauna FMA (Dic 2021-Mar 2022)\\\\Campaña Primavera-Verano 2021-2022\\\\E1. Bosque RoRaCo-Camping ok\\\\A1\\\\101EK113': ,\n",
    " '4. Proyecto Fauna FMA (Dic 2021-Mar 2022)\\\\Campaña Primavera-Verano 2021-2022\\\\E1. Bosque RoRaCo-Camping ok\\\\A1\\\\102EK113': ,\n",
    " '4. Proyecto Fauna FMA (Dic 2021-Mar 2022)\\\\Campaña Primavera-Verano 2021-2022\\\\E1. Bosque RoRaCo-Camping ok\\\\A1\\\\103EK113': ,\n",
    " '4. Proyecto Fauna FMA (Dic 2021-Mar 2022)\\\\Campaña Primavera-Verano 2021-2022\\\\E1. Bosque RoRaCo-Camping ok\\\\A2\\\\100EK113': ,\n",
    " '4. Proyecto Fauna FMA (Dic 2021-Mar 2022)\\\\Campaña Primavera-Verano 2021-2022\\\\E2. Bosque RoRaCo-Pradera\\\\A4\\\\100EK113': ,\n",
    " '4. Proyecto Fauna FMA (Dic 2021-Mar 2022)\\\\Campaña Primavera-Verano 2021-2022\\\\E3. Bosque CoRaTe ok\\\\A5\\\\100EK113': ,\n",
    " '4. Proyecto Fauna FMA (Dic 2021-Mar 2022)\\\\Campaña Primavera-Verano 2021-2022\\\\E3. Bosque CoRaTe ok\\\\A6\\\\100EK113': ,\n",
    " '4. Proyecto Fauna FMA (Dic 2021-Mar 2022)\\\\Campaña Primavera-Verano 2021-2022\\\\E4. Bosque Araucaria OK\\\\A7 ok\\\\100EK113': ,\n",
    " '4. Proyecto Fauna FMA (Dic 2021-Mar 2022)\\\\Campaña Primavera-Verano 2021-2022\\\\E4. Bosque Araucaria OK\\\\A7 ok\\\\101EK113': ,\n",
    " '4. Proyecto Fauna FMA (Dic 2021-Mar 2022)\\\\Campaña Primavera-Verano 2021-2022\\\\E4. Bosque Araucaria OK\\\\A7 ok\\\\103EK113': ,\n",
    " '4. Proyecto Fauna FMA (Dic 2021-Mar 2022)\\\\Campaña Primavera-Verano 2021-2022\\\\E4. Bosque Araucaria OK\\\\A7 ok\\\\104EK113': ,\n",
    " '4. Proyecto Fauna FMA (Dic 2021-Mar 2022)\\\\Campaña Primavera-Verano 2021-2022\\\\E4. Bosque Araucaria OK\\\\A7 ok\\\\105EK113': ,\n",
    " '4. Proyecto Fauna FMA (Dic 2021-Mar 2022)\\\\Campaña Primavera-Verano 2021-2022\\\\E4. Bosque Araucaria OK\\\\A8 ok\\\\100EK113': ,\n",
    " '4. Proyecto Fauna FMA (Dic 2021-Mar 2022)\\\\Campaña Primavera-Verano 2021-2022\\\\E5. Bosque Lenga ok\\\\A10\\\\100EK113': ,\n",
    " '4. Proyecto Fauna FMA (Dic 2021-Mar 2022)\\\\Campaña Primavera-Verano 2021-2022\\\\E5. Bosque Lenga ok\\\\A9\\\\103EK113': ,\n",
    " '4. Proyecto Fauna FMA (Dic 2021-Mar 2022)\\\\Campaña Primavera-Verano 2021-2022\\\\E5. Bosque Lenga ok\\\\A9\\\\106EK113': ,\n",
    " '4. Proyecto Fauna FMA (Dic 2021-Mar 2022)\\\\Campaña Primavera-Verano 2021-2022\\\\E5. Bosque Lenga ok\\\\A9\\\\108EK113': ,\n",
    " '4. Proyecto Fauna FMA (Dic 2021-Mar 2022)\\\\Campaña Primavera-Verano 2021-2022\\\\E5. Bosque Lenga ok\\\\A9\\\\109EK113': ,\n",
    " '4. Proyecto Fauna FMA (Dic 2021-Mar 2022)\\\\Campaña Primavera-Verano 2021-2022\\\\E5. Bosque Lenga ok\\\\A9\\\\110EK113': ,\n",
    " '4. Proyecto Fauna FMA (Dic 2021-Mar 2022)\\\\Campaña Primavera-Verano 2021-2022\\\\E6. Santuario Anfibios OK\\\\A11 OK\\\\100EK113': ,\n",
    " '4. Proyecto Fauna FMA (Dic 2021-Mar 2022)\\\\Campaña Primavera-Verano 2021-2022\\\\E6. Santuario Anfibios OK\\\\A11 OK\\\\101EK113': ,\n",
    " '4. Proyecto Fauna FMA (Dic 2021-Mar 2022)\\\\Campaña Primavera-Verano 2021-2022\\\\E6. Santuario Anfibios OK\\\\A11 OK\\\\102EK113': ,\n",
    " '4. Proyecto Fauna FMA (Dic 2021-Mar 2022)\\\\Campaña Primavera-Verano 2021-2022\\\\E6. Santuario Anfibios OK\\\\A11 OK\\\\103EK113': ,\n",
    " '4. Proyecto Fauna FMA (Dic 2021-Mar 2022)\\\\Campaña Primavera-Verano 2021-2022\\\\E6. Santuario Anfibios OK\\\\A11 OK\\\\104EK113': ,\n",
    " '4. Proyecto Fauna FMA (Dic 2021-Mar 2022)\\\\Campaña Primavera-Verano 2021-2022\\\\E6. Santuario Anfibios OK\\\\A12 OK\\\\100EK113': ,\n",
    "}\n",
    "\n",
    "# Create a new column 'ID_CamaraTrampa' in the DataFrame and fill it with the corresponding values\n",
    "data_UCT['ID_CamaraTrampa'] = data_UCT['RelativePath'].map(id_camara_trampa_dict)"
   ]
  },
  {
   "cell_type": "markdown",
   "metadata": {},
   "source": [
    "unique_ID_CamapraTrampa = data_UCT['ID_CamaraTrampa'].unique()\n",
    "print(unique_ID_CamapraTrampa)"
   ]
  },
  {
   "cell_type": "code",
   "execution_count": 6,
   "metadata": {},
   "outputs": [
    {
     "name": "stdout",
     "output_type": "stream",
     "text": [
      "Empty DataFrame\n",
      "Columns: [RootFolder, File, RelativePath, DateTime, Counter0, Especie, Note0, Unnamed: 7, Estacion]\n",
      "Index: []\n"
     ]
    }
   ],
   "source": [
    "print(data_UCT[data_UCT['Estacion'].isna()])"
   ]
  },
  {
   "cell_type": "code",
   "execution_count": 7,
   "metadata": {},
   "outputs": [
    {
     "name": "stdout",
     "output_type": "stream",
     "text": [
      "Rows with missing 'Estacion' values:\n",
      "Empty DataFrame\n",
      "Columns: [RootFolder, File, RelativePath, DateTime, Counter0, Especie, Note0, Unnamed: 7, Estacion]\n",
      "Index: []\n"
     ]
    }
   ],
   "source": [
    "# Check for rows with missing 'estación' values\n",
    "print(\"Rows with missing 'Estacion' values:\")\n",
    "print(data_UCT[data_UCT['Estacion'].isna()])\n"
   ]
  },
  {
   "cell_type": "code",
   "execution_count": 8,
   "metadata": {},
   "outputs": [],
   "source": [
    "# Convert the column to datetime format\n",
    "data_UCT['DateTime'] = pd.to_datetime(data_UCT['DateTime'])\n",
    "\n",
    "# Extract year, month, day, and time\n",
    "data_UCT['Year'] = data_UCT['DateTime'].dt.year\n",
    "data_UCT['Month'] = data_UCT['DateTime'].dt.month\n",
    "data_UCT['Day'] = data_UCT['DateTime'].dt.day\n",
    "data_UCT['Time'] = data_UCT['DateTime'].dt.time\n",
    "\n",
    "# Convert 'Time' to string type and then create a new 'Hour' variable\n",
    "data_UCT['Hour'] = data_UCT['Time'].astype(str).str.split(':').str[0]\n",
    "data_UCT['Hour'] = data_UCT['Hour'].astype(int)"
   ]
  },
  {
   "cell_type": "code",
   "execution_count": 9,
   "metadata": {},
   "outputs": [
    {
     "name": "stdout",
     "output_type": "stream",
     "text": [
      "['Verano' 'Otoño' 'Primavera']\n"
     ]
    }
   ],
   "source": [
    "# Define the seasons' date ranges based on 'Month' and 'Day'\n",
    "seasons = {\n",
    "    'Primavera': ((9, 23), (12, 20)),\n",
    "    'Verano': ((12, 21), (3, 20)),\n",
    "    'Otoño': ((3, 21), (6, 20)),\n",
    "    'Invierno': ((6, 21), (9, 22))\n",
    "}\n",
    "\n",
    "def get_season(month, day):\n",
    "    for season, (start, end) in seasons.items():\n",
    "        start_month, start_day = start\n",
    "        end_month, end_day = end\n",
    "        if start_month < end_month:\n",
    "            if (month > start_month or (month == start_month and day >= start_day)) and (month < end_month or (month == end_month and day <= end_day)):\n",
    "                return season\n",
    "        else:  # Seasons that span over two years\n",
    "            if (month > start_month or (month == start_month and day >= start_day)) or (month < end_month or (month == end_month and day <= end_day)):\n",
    "                return season\n",
    "    return None\n",
    "\n",
    "# Apply the function to create the 'Season' column\n",
    "data_UCT['Season'] = data_UCT.apply(lambda row: get_season(row['Month'], row['Day']), axis=1)\n",
    "\n",
    "# Print the first few rows to check\n",
    "print(data_UCT['Season'].unique())\n"
   ]
  },
  {
   "cell_type": "code",
   "execution_count": 10,
   "metadata": {},
   "outputs": [],
   "source": [
    "#deal with episode data. Variable Note0 contains the episode data\n",
    "data_UCT[['Episode_ID', 'Episode_length']] = data_UCT['Note0'].str.split(':', n=1, expand=True)\n"
   ]
  },
  {
   "cell_type": "code",
   "execution_count": 11,
   "metadata": {},
   "outputs": [],
   "source": [
    "data_UCT.loc[(data_UCT['Counter0'] == 0) & (data_UCT['Especie'] != \"\"), 'Counter0'] = 1\n",
    "\n",
    "data_UCT['Especie'] = data_UCT['Especie'].replace('Conejo', 'Liebre')\n",
    "data_UCT['Especie'] = data_UCT['Especie'].replace('Jabalí', 'Jabali')\n",
    "data_UCT['Especie'] = data_UCT['Especie'].replace('Güiña', 'Guiña')\n",
    "data_UCT['Especie'] = data_UCT['Especie'].replace('Conejo', 'Liebre')\n",
    "data_UCT['Especie'] = data_UCT['Especie'].replace('Hued Hued', 'Hued hued')\n",
    "data_UCT['Especie'] = data_UCT['Especie'].replace('Zorro', 'Zorro culpeo')\n",
    "data_UCT = data_UCT.loc[data_UCT['Especie'] != 'Persona']\n"
   ]
  },
  {
   "cell_type": "code",
   "execution_count": 12,
   "metadata": {},
   "outputs": [
    {
     "name": "stdout",
     "output_type": "stream",
     "text": [
      "             Especie  Count\n",
      "0            Caballo      2\n",
      "1            Cachaña      3\n",
      "2            Chingue      3\n",
      "3             Chucao     80\n",
      "4        Ciervo rojo      2\n",
      "5         Cometocino      2\n",
      "6             Concón      1\n",
      "7              Guiña      3\n",
      "8          Hued hued     88\n",
      "9             Jabali     26\n",
      "10          Jilguero      2\n",
      "11            Liebre     17\n",
      "12  Monito del monte      8\n",
      "13              Otro      2\n",
      "14             Perro     12\n",
      "15              Puma      3\n",
      "16        Rata negra      4\n",
      "17  Raton cola larga     24\n",
      "18          Rayadito      1\n",
      "19            Tiuque      3\n",
      "20           Torcaza      2\n",
      "21             Vison      1\n",
      "22      Zorro culpeo    101\n",
      "23            Zorzal     19\n"
     ]
    }
   ],
   "source": [
    "Especie_count = (\n",
    "    data_UCT.groupby(['Especie', 'Episode_ID'])['Counter0']\n",
    "    .max()\n",
    "    .reset_index()  # Add this line to reset the index and get 'Episode_ID' back\n",
    "    .groupby('Especie')['Episode_ID']\n",
    "    .nunique()\n",
    "    .reset_index()\n",
    "    .rename(columns={'Episode_ID': 'Count'})\n",
    ")\n",
    "\n",
    "print(Especie_count)"
   ]
  },
  {
   "cell_type": "code",
   "execution_count": 13,
   "metadata": {},
   "outputs": [],
   "source": [
    "# Convert the column to datetime format\n",
    "data_2022_2024['DateTime'] = pd.to_datetime(data_2022_2024['DateTime'])\n",
    "\n",
    "# Extract year, month, day, and time\n",
    "data_2022_2024['Year'] = data_2022_2024['DateTime'].dt.year\n",
    "data_2022_2024['Month'] = data_2022_2024['DateTime'].dt.month\n",
    "data_2022_2024['Day'] = data_2022_2024['DateTime'].dt.day\n",
    "data_2022_2024['Time'] = data_2022_2024['DateTime'].dt.time\n",
    "# Convert 'Time' to string type and then create a new 'Hour' variable\n",
    "data_2022_2024['Hour'] = data_2022_2024['Time'].astype(str).str.split(':').str[0]\n",
    "data_2022_2024['Hour'] = data_2022_2024['Hour'].astype(int)\n",
    "\n",
    "data_2022_2024['Episode_ID'] = data_2022_2024['Episode_ID'].astype(int)\n",
    "data_UCT['Episode_ID'] = data_UCT['Episode_ID'].astype(int)"
   ]
  },
  {
   "cell_type": "code",
   "execution_count": 14,
   "metadata": {},
   "outputs": [],
   "source": [
    "merged_df = pd.merge(data_2022_2024, data_UCT, on=['Especie', 'DateTime', 'Episode_ID', 'Estacion', 'Counter0', 'RelativePath','Hour', 'Year', 'Month', 'Season'], how='outer')"
   ]
  },
  {
   "cell_type": "code",
   "execution_count": 17,
   "metadata": {},
   "outputs": [
    {
     "name": "stdout",
     "output_type": "stream",
     "text": [
      "Index(['RootFolder_x', 'File_x', 'RelativePath', 'DateTime', 'Animal',\n",
      "       'Person', 'Especie', 'Counter0', 'Note0_x', 'Estacion',\n",
      "       'ID_CamaraTrampa', 'Year', 'Month', 'Day_x', 'Time_x', 'Hour', 'Season',\n",
      "       'Episode_ID', 'Episode_length_x', 'RootFolder_y', 'File_y', 'Note0_y',\n",
      "       'Unnamed: 7', 'Day_y', 'Time_y', 'Episode_length_y'],\n",
      "      dtype='object')\n"
     ]
    }
   ],
   "source": [
    "print(merged_df.columns)"
   ]
  },
  {
   "cell_type": "code",
   "execution_count": 18,
   "metadata": {},
   "outputs": [
    {
     "name": "stdout",
     "output_type": "stream",
     "text": [
      "             Especie  Count\n",
      "0            Caballo      2\n",
      "1            Cachaña      3\n",
      "2         Carpintero      2\n",
      "3            Chingue      3\n",
      "4             Chucao     80\n",
      "5        Ciervo rojo      2\n",
      "6         Cometocino      3\n",
      "7             Concón      2\n",
      "8             Diucón      1\n",
      "9              Guiña      8\n",
      "10         Hued hued     89\n",
      "11            Jabali    112\n",
      "12          Jilguero      2\n",
      "13            Liebre     76\n",
      "14  Monito del monte      8\n",
      "15              Otro      2\n",
      "16             Perro    101\n",
      "17          Peuquito      2\n",
      "18              Puma     20\n",
      "19        Rata negra      4\n",
      "20  Raton cola larga     24\n",
      "21          Rayadito      2\n",
      "22            Tiuque      3\n",
      "23           Torcaza      2\n",
      "24             Traro      1\n",
      "25             Vison      1\n",
      "26      Zorro culpeo    197\n",
      "27            Zorzal     21\n"
     ]
    }
   ],
   "source": [
    "Especie_count = (\n",
    "    merged_df.groupby(['Especie', 'Episode_ID'])['Counter0']\n",
    "    .max()\n",
    "    .reset_index()  # Add this line to reset the index and get 'Episode_ID' back\n",
    "    .groupby('Especie')['Episode_ID']\n",
    "    .nunique()\n",
    "    .reset_index()\n",
    "    .rename(columns={'Episode_ID': 'Count'})\n",
    ")\n",
    "\n",
    "print(Especie_count)"
   ]
  },
  {
   "cell_type": "code",
   "execution_count": 19,
   "metadata": {},
   "outputs": [
    {
     "name": "stdout",
     "output_type": "stream",
     "text": [
      "             Especie  Araucarias  CoRaTe  CoRaTe Quebrada  Lenga  \\\n",
      "0            Caballo           0       0                0      0   \n",
      "1            Cachaña           0       0                0      0   \n",
      "2         Carpintero           0       0                0      0   \n",
      "3            Chingue           0       0                0      0   \n",
      "4             Chucao           0       5                0      0   \n",
      "5        Ciervo rojo           0       0                0      2   \n",
      "6         Cometocino           0       0                0      0   \n",
      "7             Concón           0       1                0      0   \n",
      "8             Diucón           0       0                0      0   \n",
      "9              Guiña           0       4                0      0   \n",
      "10         Hued hued           0      58                0      0   \n",
      "11            Jabali           7      11                0      5   \n",
      "12          Jilguero           1       0                0      0   \n",
      "13            Liebre          26       6                0     19   \n",
      "14  Monito del monte           0       0                0      0   \n",
      "15              Otro           1       0                0      1   \n",
      "16             Perro           1       5                1      6   \n",
      "17          Peuquito           2       0                0      0   \n",
      "18              Puma           8       3                0      4   \n",
      "19        Rata negra           0       0                0      0   \n",
      "20  Raton cola larga           0       2                0      0   \n",
      "21          Rayadito           1       0                0      0   \n",
      "22            Tiuque           0       1                0      0   \n",
      "23           Torcaza           0       2                0      0   \n",
      "24             Traro           0       0                0      0   \n",
      "25             Vison           1       0                0      0   \n",
      "26      Zorro culpeo          67      39                0     18   \n",
      "27            Zorzal           0       2                0      0   \n",
      "\n",
      "    Lenga - Pradera  RoRaCo Renoval  RoRaCo Río  Santuario de anfibios  \n",
      "0                 0               2           0                      0  \n",
      "1                 0               3           0                      0  \n",
      "2                 0               2           0                      0  \n",
      "3                 0               2           1                      0  \n",
      "4                 0               3          72                      0  \n",
      "5                 0               0           0                      0  \n",
      "6                 0               1           2                      0  \n",
      "7                 0               0           0                      1  \n",
      "8                 0               0           0                      1  \n",
      "9                 0               1           1                      2  \n",
      "10                0               0          31                      1  \n",
      "11                0              42           0                     47  \n",
      "12                0               0           1                      0  \n",
      "13                1              20           0                      4  \n",
      "14                0               0           8                      0  \n",
      "15                0               0           0                      0  \n",
      "16                1              38          11                     38  \n",
      "17                0               0           0                      0  \n",
      "18                0               3           0                      2  \n",
      "19                0               0           4                      0  \n",
      "20                0               4          18                      0  \n",
      "21                0               1           0                      0  \n",
      "22                0               1           1                      0  \n",
      "23                0               0           0                      0  \n",
      "24                0               1           0                      0  \n",
      "25                0               0           0                      0  \n",
      "26                0              42          18                     24  \n",
      "27                0               1          15                      3  \n"
     ]
    }
   ],
   "source": [
    "Especie_count_by_estacion = (\n",
    "    merged_df.groupby(['Estacion', 'Especie', 'Episode_ID'])['Counter0']\n",
    "    .max()\n",
    "    .reset_index()\n",
    "    .groupby(['Especie', 'Estacion'])['Episode_ID']\n",
    "    .nunique()\n",
    "    .unstack(fill_value=0)\n",
    "    .reset_index()\n",
    "    .rename_axis(None, axis=1)\n",
    ")\n",
    "\n",
    "print(Especie_count_by_estacion)"
   ]
  },
  {
   "cell_type": "code",
   "execution_count": 20,
   "metadata": {},
   "outputs": [
    {
     "name": "stdout",
     "output_type": "stream",
     "text": [
      "             Especie  1970  2017  2021  2022  2023  2024\n",
      "0            Caballo     0     1     1     0     0     0\n",
      "1            Cachaña     0     3     0     0     0     0\n",
      "2         Carpintero     0     0     0     0     2     0\n",
      "3            Chingue     0     0     2     1     0     0\n",
      "4             Chucao     0     3    30    47     0     0\n",
      "5        Ciervo rojo     0     0     0     2     0     0\n",
      "6         Cometocino     0     0     0     2     1     0\n",
      "7             Concón     0     0     0     1     1     0\n",
      "8             Diucón     0     0     0     0     1     0\n",
      "9              Guiña     0     0     0     7     1     0\n",
      "10         Hued hued     0     0    42    47     0     0\n",
      "11            Jabali     1     7     6    26    68     4\n",
      "12          Jilguero     0     0     0     2     0     0\n",
      "13            Liebre     0     0     9    49    18     0\n",
      "14  Monito del monte     0     0     3     5     0     0\n",
      "15              Otro     0     0     1     1     0     0\n",
      "16             Perro     0     3     7    38    50     3\n",
      "17          Peuquito     0     0     0     0     2     0\n",
      "18              Puma     0     0     0    14     5     1\n",
      "19        Rata negra     0     0     0     4     0     0\n",
      "20  Raton cola larga     0     2     4    18     0     0\n",
      "21          Rayadito     0     0     1     0     1     0\n",
      "22            Tiuque     0     1     2     0     0     0\n",
      "23           Torcaza     0     0     0     2     0     0\n",
      "24             Traro     0     0     0     0     1     0\n",
      "25             Vison     0     0     0     1     0     0\n",
      "26      Zorro culpeo     1     8    24   104    62     2\n",
      "27            Zorzal     0     0    13     8     0     0\n"
     ]
    }
   ],
   "source": [
    "Especie_count_by_Year = (\n",
    "    merged_df.groupby(['Year', 'Especie', 'Episode_ID'])['Counter0']\n",
    "    .max()\n",
    "    .reset_index()\n",
    "    .groupby(['Especie', 'Year'])['Episode_ID']\n",
    "    .nunique()\n",
    "    .unstack(fill_value=0)\n",
    "    .reset_index()\n",
    "    .rename_axis(None, axis=1)\n",
    ")\n",
    "\n",
    "print(Especie_count_by_Year)"
   ]
  },
  {
   "cell_type": "code",
   "execution_count": 22,
   "metadata": {},
   "outputs": [
    {
     "name": "stdout",
     "output_type": "stream",
     "text": [
      "             Especie  Invierno  Otoño  Primavera  Verano\n",
      "0            Caballo         0      0          0       2\n",
      "1            Cachaña         0      0          0       3\n",
      "2         Carpintero         1      0          0       1\n",
      "3            Chingue         0      0          0       3\n",
      "4             Chucao         0      0         20      60\n",
      "5        Ciervo rojo         0      0          0       2\n",
      "6         Cometocino         0      0          0       3\n",
      "7             Concón         0      1          0       1\n",
      "8             Diucón         0      0          1       0\n",
      "9              Guiña         4      1          0       3\n",
      "10         Hued hued         1      1         25      62\n",
      "11            Jabali        28     21         25      38\n",
      "12          Jilguero         0      0          0       2\n",
      "13            Liebre        18     12         24      22\n",
      "14  Monito del monte         0      0          0       8\n",
      "15              Otro         0      0          0       2\n",
      "16             Perro        11     31         43      16\n",
      "17          Peuquito         0      0          0       2\n",
      "18              Puma         2      8          3       7\n",
      "19        Rata negra         0      0          0       4\n",
      "20  Raton cola larga         0      0          0      24\n",
      "21          Rayadito         0      0          1       1\n",
      "22            Tiuque         0      0          1       2\n",
      "23           Torcaza         0      0          0       2\n",
      "24             Traro         0      0          0       1\n",
      "25             Vison         0      0          0       1\n",
      "26      Zorro culpeo        35     41         22     106\n",
      "27            Zorzal         0      0         13       8\n"
     ]
    }
   ],
   "source": [
    "Especie_count_by_Season = (\n",
    "    merged_df.groupby(['Season', 'Especie', 'Episode_ID'])['Counter0']\n",
    "    .max()\n",
    "    .reset_index()\n",
    "    .groupby(['Especie', 'Season'])['Episode_ID']\n",
    "    .nunique()\n",
    "    .unstack(fill_value=0)\n",
    "    .reset_index()\n",
    "    .rename_axis(None, axis=1)\n",
    ")\n",
    "\n",
    "print(Especie_count_by_Season)"
   ]
  },
  {
   "cell_type": "code",
   "execution_count": 23,
   "metadata": {},
   "outputs": [
    {
     "name": "stdout",
     "output_type": "stream",
     "text": [
      "             Especie   1   2   3   4   5   6   7   8   9  10  11  12\n",
      "0            Caballo   1   1   0   0   0   0   0   0   0   0   0   0\n",
      "1            Cachaña   3   0   0   0   0   0   0   0   0   0   0   0\n",
      "2         Carpintero   0   0   1   0   0   0   0   1   0   0   0   0\n",
      "3            Chingue   1   2   0   0   0   0   0   0   0   0   0   0\n",
      "4             Chucao  31  18   2   0   0   0   0   0   0   0   0  29\n",
      "5        Ciervo rojo   2   0   0   0   0   0   0   0   0   0   0   0\n",
      "6         Cometocino   0   2   0   0   0   0   0   0   0   0   0   1\n",
      "7             Concón   1   0   1   0   0   0   0   0   0   0   0   0\n",
      "8             Diucón   0   0   0   0   0   0   0   0   0   0   1   0\n",
      "9              Guiña   1   1   1   0   0   1   0   3   1   0   0   0\n",
      "10         Hued hued  30  12   7   0   0   0   0   1   0   0   0  39\n",
      "11            Jabali  23  10   2   0   1  24  16   3  11   8   3  11\n",
      "12          Jilguero   1   1   0   0   0   0   0   0   0   0   0   0\n",
      "13            Liebre   6   9   6   4   6   2   2   6  20  10   0   5\n",
      "14  Monito del monte   0   3   5   0   0   0   0   0   0   0   0   0\n",
      "15              Otro   1   0   0   0   0   0   0   0   0   0   0   1\n",
      "16             Perro   7   6   2   6   9  18   4   5   2  28   2  12\n",
      "17          Peuquito   1   1   0   0   0   0   0   0   0   0   0   0\n",
      "18              Puma   6   1   0   0   5   3   0   1   1   0   1   2\n",
      "19        Rata negra   0   2   2   0   0   0   0   0   0   0   0   0\n",
      "20  Raton cola larga   4  14   5   0   0   0   0   0   0   0   0   1\n",
      "21          Rayadito   0   1   0   0   0   0   0   0   0   0   0   1\n",
      "22            Tiuque   0   0   1   0   0   0   0   0   0   0   0   2\n",
      "23           Torcaza   0   1   1   0   0   0   0   0   0   0   0   0\n",
      "24             Traro   0   0   0   0   0   0   0   0   0   0   0   1\n",
      "25             Vison   0   1   0   0   0   0   0   0   0   0   0   0\n",
      "26      Zorro culpeo  25  53  17  12  14  21   6  12  11   5   7  21\n",
      "27            Zorzal   1   4   1   0   0   0   0   0   0   2   0  13\n"
     ]
    }
   ],
   "source": [
    "Especie_count_by_Month = (\n",
    "    merged_df.groupby(['Month', 'Especie', 'Episode_ID'])['Counter0']\n",
    "    .max()\n",
    "    .reset_index()\n",
    "    .groupby(['Especie', 'Month'])['Episode_ID']\n",
    "    .nunique()\n",
    "    .unstack(fill_value=0)\n",
    "    .reset_index()\n",
    "    .rename_axis(None, axis=1)\n",
    ")\n",
    "print(Especie_count_by_Month)"
   ]
  },
  {
   "cell_type": "code",
   "execution_count": 31,
   "metadata": {},
   "outputs": [
    {
     "name": "stdout",
     "output_type": "stream",
     "text": [
      "Hour              0   1   2   3   4   5   6   7   8   9   ...  14  15  16  17  \\\n",
      "Especie                                                   ...                   \n",
      "Caballo            0   0   1   1   0   0   0   0   0   0  ...   0   0   0   1   \n",
      "Cachaña            1   0   0   4   0   0   0   0   0   0  ...   0   0   0   0   \n",
      "Carpintero         0   0   0   0   0   0   0   0   2   0  ...   1   0   0   0   \n",
      "Chingue            1   0   0   0   0   0   0   0   0   0  ...   0   0   0   0   \n",
      "Chucao             0   0   0   0   0   0  12   8   8   9  ...   0   1   0   2   \n",
      "Ciervo rojo        0   0   0   0   0   0   0   0   0   0  ...   0   0   0   0   \n",
      "Cometocino         0   0   0   0   0   0   0   0   1   0  ...   0   1   0   0   \n",
      "Concón             0   0   0   0   0   0   1   0   0   0  ...   0   0   0   1   \n",
      "Diucón             0   0   0   0   0   0   0   0   0   0  ...   0   0   0   0   \n",
      "Guiña              0   0   0   0   1   1   0   0   0   1  ...   0   1   0   1   \n",
      "Hued hued          0   0   0   0   0   1  24   4   4   8  ...   0   2   2   1   \n",
      "Jabali             3   1   1   4   2   1   1   1   5  11  ...  13   3  17  10   \n",
      "Jilguero           0   0   0   0   0   0   0   0   0   0  ...   0   1   0   0   \n",
      "Liebre             6   5   4   5   2   4   5   3   0   3  ...   0   0   0   1   \n",
      "Monito del monte   2   1   0   0   2   1   0   0   0   0  ...   0   0   0   0   \n",
      "Otro               0   1   0   0   0   0   0   0   0   0  ...   0   1   0   0   \n",
      "Perro              0   0   1   0   0   0  12   8  15   5  ...   8  28  21   5   \n",
      "Peuquito           0   0   0   0   0   0   0   0   0   0  ...   0   0   1   0   \n",
      "Puma               0   2   0   0   2   0   0   1   2   3  ...   1   2   0   2   \n",
      "Rata negra         0   0   0   0   0   0   0   0   0   0  ...   0   0   0   0   \n",
      "Raton cola larga   1   0   5   1   6   1   2   0   0   0  ...   1   0   0   0   \n",
      "Rayadito           0   0   0   0   0   0   0   0   0   0  ...   0   2   0   0   \n",
      "Tiuque             0   0   1   0   0   0   0   0   0   0  ...   0   0   1   1   \n",
      "Torcaza            0   0   0   0   0   0   0   0   0   0  ...   1   0   0   0   \n",
      "Traro              0   0   0   0   0   0   0   0   0   0  ...   0   1   0   0   \n",
      "Vison              0   0   0   0   0   0   1   0   0   0  ...   0   0   0   0   \n",
      "Zorro culpeo      21  21  15  14   9   8  17   5   4   5  ...   3   5   4   3   \n",
      "Zorzal             0   0   0   0   0   0   3   1   1   0  ...   2   2   1   0   \n",
      "\n",
      "Hour              18  19  20  21  22  23  \n",
      "Especie                                   \n",
      "Caballo            0   0   0   0   0   0  \n",
      "Cachaña            0   0   0   0   0   0  \n",
      "Carpintero         0   0   0   0   0   0  \n",
      "Chingue            0   0   0   0   1   0  \n",
      "Chucao             2   3   3   6   0   0  \n",
      "Ciervo rojo        0   0   1   0   0   0  \n",
      "Cometocino         0   0   0   0   0   0  \n",
      "Concón             0   0   0   0   0   0  \n",
      "Diucón             1   0   0   0   0   0  \n",
      "Guiña              0   0   1   0   0   0  \n",
      "Hued hued          4   5  17  11   0   0  \n",
      "Jabali            14   6  14  17   5   5  \n",
      "Jilguero           0   0   0   0   0   0  \n",
      "Liebre             8   8   4   2   7   4  \n",
      "Monito del monte   0   0   0   0   3   2  \n",
      "Otro               0   0   0   0   0   0  \n",
      "Perro              0   1   0   6   0   2  \n",
      "Peuquito           0   0   0   0   0   0  \n",
      "Puma               0   1   3   0   0   0  \n",
      "Rata negra         0   0   0   0   2   2  \n",
      "Raton cola larga   0   0   0   1   4   3  \n",
      "Rayadito           0   0   0   0   0   0  \n",
      "Tiuque             0   0   0   0   0   0  \n",
      "Torcaza            0   0   0   0   0   0  \n",
      "Traro              0   0   0   0   0   0  \n",
      "Vison              0   0   0   0   0   0  \n",
      "Zorro culpeo       5   7   8  20  11  18  \n",
      "Zorzal             1   0   2   1   0   0  \n",
      "\n",
      "[28 rows x 24 columns]\n"
     ]
    }
   ],
   "source": [
    "pivot_table_Especie_by_Hour = (\n",
    "    merged_df.groupby(['Especie', 'Hour', 'Episode_ID'])['Counter0']\n",
    "    .max()\n",
    "    .groupby(['Especie', 'Hour'])\n",
    "    .sum()\n",
    "    .unstack(fill_value=0)\n",
    ")\n",
    "\n",
    "print(pivot_table_Especie_by_Hour)"
   ]
  },
  {
   "cell_type": "code",
   "execution_count": 24,
   "metadata": {},
   "outputs": [
    {
     "name": "stdout",
     "output_type": "stream",
     "text": [
      "             Especie  Count  Frequency\n",
      "0            Caballo      2   0.258732\n",
      "1            Cachaña      3   0.388098\n",
      "2         Carpintero      2   0.258732\n",
      "3            Chingue      3   0.388098\n",
      "4             Chucao     80  10.349288\n",
      "5        Ciervo rojo      2   0.258732\n",
      "6         Cometocino      3   0.388098\n",
      "7             Concón      2   0.258732\n",
      "8             Diucón      1   0.129366\n",
      "9              Guiña      8   1.034929\n",
      "10         Hued hued     89  11.513583\n",
      "11            Jabali    112  14.489004\n",
      "12          Jilguero      2   0.258732\n",
      "13            Liebre     76   9.831824\n",
      "14  Monito del monte      8   1.034929\n",
      "15              Otro      2   0.258732\n",
      "16             Perro    101  13.065977\n",
      "17          Peuquito      2   0.258732\n",
      "18              Puma     20   2.587322\n",
      "19        Rata negra      4   0.517464\n",
      "20  Raton cola larga     24   3.104787\n",
      "21          Rayadito      2   0.258732\n",
      "22            Tiuque      3   0.388098\n",
      "23           Torcaza      2   0.258732\n",
      "24             Traro      1   0.129366\n",
      "25             Vison      1   0.129366\n",
      "26      Zorro culpeo    197  25.485123\n",
      "27            Zorzal     21   2.716688\n"
     ]
    }
   ],
   "source": [
    "total_count = Especie_count['Count'].sum()\n",
    "\n",
    "# Calculate the frequency for each species\n",
    "Especie_count['Frequency'] = Especie_count['Count'] / total_count * 100\n",
    "\n",
    "# Display the DataFrame with the new Frequency column\n",
    "print(Especie_count)"
   ]
  },
  {
   "cell_type": "code",
   "execution_count": 25,
   "metadata": {},
   "outputs": [
    {
     "name": "stdout",
     "output_type": "stream",
     "text": [
      "             Especie  Araucarias     CoRaTe  CoRaTe Quebrada      Lenga  \\\n",
      "0            Caballo    0.000000   0.000000              0.0   0.000000   \n",
      "1            Cachaña    0.000000   0.000000              0.0   0.000000   \n",
      "2         Carpintero    0.000000   0.000000              0.0   0.000000   \n",
      "3            Chingue    0.000000   0.000000              0.0   0.000000   \n",
      "4             Chucao    0.000000   3.597122              0.0   0.000000   \n",
      "5        Ciervo rojo    0.000000   0.000000              0.0   3.636364   \n",
      "6         Cometocino    0.000000   0.000000              0.0   0.000000   \n",
      "7             Concón    0.000000   0.719424              0.0   0.000000   \n",
      "8             Diucón    0.000000   0.000000              0.0   0.000000   \n",
      "9              Guiña    0.000000   2.877698              0.0   0.000000   \n",
      "10         Hued hued    0.000000  41.726619              0.0   0.000000   \n",
      "11            Jabali    6.086957   7.913669              0.0   9.090909   \n",
      "12          Jilguero    0.869565   0.000000              0.0   0.000000   \n",
      "13            Liebre   22.608696   4.316547              0.0  34.545455   \n",
      "14  Monito del monte    0.000000   0.000000              0.0   0.000000   \n",
      "15              Otro    0.869565   0.000000              0.0   1.818182   \n",
      "16             Perro    0.869565   3.597122            100.0  10.909091   \n",
      "17          Peuquito    1.739130   0.000000              0.0   0.000000   \n",
      "18              Puma    6.956522   2.158273              0.0   7.272727   \n",
      "19        Rata negra    0.000000   0.000000              0.0   0.000000   \n",
      "20  Raton cola larga    0.000000   1.438849              0.0   0.000000   \n",
      "21          Rayadito    0.869565   0.000000              0.0   0.000000   \n",
      "22            Tiuque    0.000000   0.719424              0.0   0.000000   \n",
      "23           Torcaza    0.000000   1.438849              0.0   0.000000   \n",
      "24             Traro    0.000000   0.000000              0.0   0.000000   \n",
      "25             Vison    0.869565   0.000000              0.0   0.000000   \n",
      "26      Zorro culpeo   58.260870  28.057554              0.0  32.727273   \n",
      "27            Zorzal    0.000000   1.438849              0.0   0.000000   \n",
      "\n",
      "    Lenga - Pradera  RoRaCo Renoval  RoRaCo Río  Santuario de anfibios  \n",
      "0               0.0        1.197605    0.000000               0.000000  \n",
      "1               0.0        1.796407    0.000000               0.000000  \n",
      "2               0.0        1.197605    0.000000               0.000000  \n",
      "3               0.0        1.197605    0.546448               0.000000  \n",
      "4               0.0        1.796407   39.344262               0.000000  \n",
      "5               0.0        0.000000    0.000000               0.000000  \n",
      "6               0.0        0.598802    1.092896               0.000000  \n",
      "7               0.0        0.000000    0.000000               0.813008  \n",
      "8               0.0        0.000000    0.000000               0.813008  \n",
      "9               0.0        0.598802    0.546448               1.626016  \n",
      "10              0.0        0.000000   16.939891               0.813008  \n",
      "11              0.0       25.149701    0.000000              38.211382  \n",
      "12              0.0        0.000000    0.546448               0.000000  \n",
      "13             50.0       11.976048    0.000000               3.252033  \n",
      "14              0.0        0.000000    4.371585               0.000000  \n",
      "15              0.0        0.000000    0.000000               0.000000  \n",
      "16             50.0       22.754491    6.010929              30.894309  \n",
      "17              0.0        0.000000    0.000000               0.000000  \n",
      "18              0.0        1.796407    0.000000               1.626016  \n",
      "19              0.0        0.000000    2.185792               0.000000  \n",
      "20              0.0        2.395210    9.836066               0.000000  \n",
      "21              0.0        0.598802    0.000000               0.000000  \n",
      "22              0.0        0.598802    0.546448               0.000000  \n",
      "23              0.0        0.000000    0.000000               0.000000  \n",
      "24              0.0        0.598802    0.000000               0.000000  \n",
      "25              0.0        0.000000    0.000000               0.000000  \n",
      "26              0.0       25.149701    9.836066              19.512195  \n",
      "27              0.0        0.598802    8.196721               2.439024  \n"
     ]
    }
   ],
   "source": [
    "# Step 1: Calculate the total counts per Estacion across all Especie\n",
    "total_count_per_estacion = Especie_count_by_estacion.drop('Especie', axis=1).sum()\n",
    "\n",
    "# Step 2: Create a new DataFrame for frequency values\n",
    "Especie_freq_by_estacion = Especie_count_by_estacion.copy()\n",
    "\n",
    "# Calculate frequencies by dividing each species count by the total count for that station\n",
    "for estacion in total_count_per_estacion.index:\n",
    "    Especie_freq_by_estacion[estacion] = Especie_count_by_estacion[estacion] / total_count_per_estacion[estacion] * 100\n",
    "\n",
    "# The DataFrame Especie_freq_by_estacion now contains the frequencies instead of the counts\n",
    "print(Especie_freq_by_estacion)\n",
    "\n"
   ]
  },
  {
   "cell_type": "code",
   "execution_count": 26,
   "metadata": {},
   "outputs": [
    {
     "name": "stdout",
     "output_type": "stream",
     "text": [
      "             Especie Araucarias CoRaTe CoRaTe Quebrada Lenga Lenga - Pradera  \\\n",
      "0            Caballo                                                           \n",
      "1            Cachaña                                                           \n",
      "2         Carpintero                                                           \n",
      "3            Chingue                                                           \n",
      "4             Chucao                 X                                         \n",
      "5        Ciervo rojo                                       X                   \n",
      "6         Cometocino                                                           \n",
      "7             Concón                 X                                         \n",
      "8             Diucón                                                           \n",
      "9              Guiña                 X                                         \n",
      "10         Hued hued                 X                                         \n",
      "11            Jabali          X      X                     X                   \n",
      "12          Jilguero          X                                                \n",
      "13            Liebre          X      X                     X               X   \n",
      "14  Monito del monte                                                           \n",
      "15              Otro          X                            X                   \n",
      "16             Perro          X      X               X     X               X   \n",
      "17          Peuquito          X                                                \n",
      "18              Puma          X      X                     X                   \n",
      "19        Rata negra                                                           \n",
      "20  Raton cola larga                 X                                         \n",
      "21          Rayadito          X                                                \n",
      "22            Tiuque                 X                                         \n",
      "23           Torcaza                 X                                         \n",
      "24             Traro                                                           \n",
      "25             Vison          X                                                \n",
      "26      Zorro culpeo          X      X                     X                   \n",
      "27            Zorzal                 X                                         \n",
      "\n",
      "   RoRaCo Renoval RoRaCo Río Santuario de anfibios  Percentage  \n",
      "0               X                                         12.5  \n",
      "1               X                                         12.5  \n",
      "2               X                                         12.5  \n",
      "3               X          X                              25.0  \n",
      "4               X          X                              37.5  \n",
      "5                                                         12.5  \n",
      "6               X          X                              25.0  \n",
      "7                                                X        25.0  \n",
      "8                                                X        12.5  \n",
      "9               X          X                     X        50.0  \n",
      "10                         X                     X        37.5  \n",
      "11              X                                X        62.5  \n",
      "12                         X                              25.0  \n",
      "13              X                                X        75.0  \n",
      "14                         X                              12.5  \n",
      "15                                                        25.0  \n",
      "16              X          X                     X       100.0  \n",
      "17                                                        12.5  \n",
      "18              X                                X        62.5  \n",
      "19                         X                              12.5  \n",
      "20              X          X                              37.5  \n",
      "21              X                                         25.0  \n",
      "22              X          X                              37.5  \n",
      "23                                                        12.5  \n",
      "24              X                                         12.5  \n",
      "25                                                        12.5  \n",
      "26              X          X                     X        75.0  \n",
      "27              X          X                     X        50.0  \n"
     ]
    }
   ],
   "source": [
    "especie_freq_by_estacion_binary = Especie_freq_by_estacion.copy()\n",
    "for col in especie_freq_by_estacion_binary.columns[1:]:  # Skip 'Especie' column\n",
    "    especie_freq_by_estacion_binary[col] = especie_freq_by_estacion_binary[col].apply(lambda x: 'X' if x > 0 else '')\n",
    "\n",
    "# Step 2: Calculate the percentage of stations that have the species\n",
    "especie_freq_by_estacion_binary['Percentage'] = especie_freq_by_estacion_binary.drop('Especie', axis=1).apply(\n",
    "    lambda row: (row == 'X').mean() * 100, axis=1)\n",
    "\n",
    "# Print the updated DataFrame with the 'Especie' labels and percentages\n",
    "print(especie_freq_by_estacion_binary)\n"
   ]
  },
  {
   "cell_type": "code",
   "execution_count": 32,
   "metadata": {},
   "outputs": [],
   "source": [
    "writer = pd.ExcelWriter('Tablas TODAS LAS FOTOS.xlsx', engine='xlsxwriter')\n",
    "\n",
    "# Write each DataFrame to a different sheet\n",
    "Especie_count.to_excel(writer, sheet_name='Especie_count')\n",
    "Especie_count_by_estacion.to_excel(writer, sheet_name='by_estacion')\n",
    "Especie_count_by_Year.to_excel(writer, sheet_name='by_Year')\n",
    "Especie_count_by_Season.to_excel(writer, sheet_name='Especie_by_Season')\n",
    "Especie_count_by_Month.to_excel(writer, sheet_name='Especie_by_Month')\n",
    "Especie_freq_by_estacion.to_excel(writer, sheet_name='freq_by_estacion')\n",
    "especie_freq_by_estacion_binary.to_excel(writer, sheet_name='freq_by_estacion_binary')\n",
    "\n",
    "pivot_table_Especie_by_Hour.to_excel(writer, sheet_name='Especie_by_Hour')\n",
    "\n",
    "# Save the Excel file\n",
    "writer.close()"
   ]
  },
  {
   "cell_type": "code",
   "execution_count": 33,
   "metadata": {},
   "outputs": [],
   "source": [
    "#export data to csv\n",
    "merged_df.to_csv(r\"C:\\\\Users\\\\fguar\\\\OneDrive\\\\Documentos\\\\VS Code\\\\Python\\\\Camaras trampa\\\\CT_Data_2021-2024.csv\", index=False)"
   ]
  }
 ],
 "metadata": {
  "kernelspec": {
   "display_name": "base",
   "language": "python",
   "name": "python3"
  },
  "language_info": {
   "codemirror_mode": {
    "name": "ipython",
    "version": 3
   },
   "file_extension": ".py",
   "mimetype": "text/x-python",
   "name": "python",
   "nbconvert_exporter": "python",
   "pygments_lexer": "ipython3",
   "version": "3.10.12"
  }
 },
 "nbformat": 4,
 "nbformat_minor": 2
}
