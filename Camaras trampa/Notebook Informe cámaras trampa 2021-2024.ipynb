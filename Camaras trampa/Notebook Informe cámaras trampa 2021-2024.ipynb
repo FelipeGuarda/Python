{
 "cells": [
  {
   "cell_type": "code",
   "execution_count": 1,
   "metadata": {},
   "outputs": [],
   "source": [
    "import pandas as pd\n",
    "import numpy as np\n",
    "import seaborn as sns\n",
    "import matplotlib.pyplot as plt\n",
    "import xlsxwriter\n",
    "import pandas_flavor as pf\n",
    "\n",
    "\n"
   ]
  },
  {
   "cell_type": "code",
   "execution_count": 2,
   "metadata": {},
   "outputs": [],
   "source": [
    "file_path_UCT = r\"C:\\Users\\fguar\\OneDrive\\Documentos\\VS Code\\Python\\Camaras trampa\\Fotos UCT.csv\"\n",
    "file_path_data_2022_2024 = r\"C:\\Users\\fguar\\OneDrive\\Documentos\\VS Code\\Python\\Camaras trampa\\CT_Data_2022-2024.csv\"\n",
    "data_UCT = pd.read_csv(file_path_UCT)\n",
    "data_2022_2024 = pd.read_csv(file_path_data_2022_2024)\n",
    " "
   ]
  },
  {
   "cell_type": "code",
   "execution_count": 3,
   "metadata": {},
   "outputs": [
    {
     "name": "stdout",
     "output_type": "stream",
     "text": [
      "                RootFolder          File  \\\n",
      "0  6. Fotos Camaras Trampa  01020010.JPG   \n",
      "1  6. Fotos Camaras Trampa  01020011.JPG   \n",
      "2  6. Fotos Camaras Trampa  01020012.JPG   \n",
      "3  6. Fotos Camaras Trampa  01020013.JPG   \n",
      "4  6. Fotos Camaras Trampa  01020014.JPG   \n",
      "\n",
      "                                        RelativePath              DateTime  \\\n",
      "0  1. Proyecto Fauna FMA (Feb-May 2021)\\Estacion ...   2017-01-02 11:32:00   \n",
      "1  1. Proyecto Fauna FMA (Feb-May 2021)\\Estacion ...   2017-01-02 11:32:01   \n",
      "2  1. Proyecto Fauna FMA (Feb-May 2021)\\Estacion ...   2017-01-02 11:32:02   \n",
      "3  1. Proyecto Fauna FMA (Feb-May 2021)\\Estacion ...   2017-01-02 14:19:37   \n",
      "4  1. Proyecto Fauna FMA (Feb-May 2021)\\Estacion ...   2017-01-02 14:19:38   \n",
      "\n",
      "   Counter0           Especie  Note0  Unnamed: 7  \n",
      "0         0  Raton cola larga  2:1|3         NaN  \n",
      "1         0  Raton cola larga  2:2|3         NaN  \n",
      "2         0  Raton cola larga  2:3|3         NaN  \n",
      "3         0  Raton cola larga  3:1|6         NaN  \n",
      "4         0  Raton cola larga  3:2|6         NaN  \n"
     ]
    }
   ],
   "source": [
    "print(data_UCT.head())"
   ]
  },
  {
   "cell_type": "code",
   "execution_count": null,
   "metadata": {},
   "outputs": [],
   "source": []
  },
  {
   "cell_type": "code",
   "execution_count": 4,
   "metadata": {},
   "outputs": [],
   "source": [
    "# Create a dictionary that maps the RelativePath values to the corresponding Estación value\n",
    "estacion_dict = {\n",
    " '1. Proyecto Fauna FMA (Feb-May 2021)\\\\Estacion 2. RoRaCo ok\\\\03\\\\100EK113 ok': 'RoRaCo Renoval', \n",
    " '1. Proyecto Fauna FMA (Feb-May 2021)\\\\Estacion 2. RoRaCo ok\\\\04\\\\DCIM\\\\100EK113': 'RoRaCo Renoval',\n",
    " '1. Proyecto Fauna FMA (Feb-May 2021)\\\\Estacion 2. RoRaCo ok\\\\04\\\\DCIM\\\\102EK113': 'RoRaCo Renoval',\n",
    " '1. Proyecto Fauna FMA (Feb-May 2021)\\\\Estacion 2. RoRaCo ok\\\\04\\\\DCIM\\\\107EK113': 'RoRaCo Renoval',\n",
    " '1. Proyecto Fauna FMA (Feb-May 2021)\\\\Estacion 2. RoRaCo ok\\\\04\\\\DCIM\\\\109EK113': 'RoRaCo Renoval',\n",
    " '1. Proyecto Fauna FMA (Feb-May 2021)\\\\Estación 1. Camping ok\\\\01\\\\DCIM\\\\104EK113': 'RoRaCo Río',\n",
    " '1. Proyecto Fauna FMA (Feb-May 2021)\\\\Estación 1. Camping ok\\\\01\\\\DCIM\\\\107EK113': 'RoRaCo Río',\n",
    " '1. Proyecto Fauna FMA (Feb-May 2021)\\\\Estación 1. Camping ok\\\\01\\\\DCIM\\\\110EK113': 'RoRaCo Río',\n",
    " '1. Proyecto Fauna FMA (Feb-May 2021)\\\\Estación 1. Camping ok\\\\01\\\\DCIM\\\\111EK113': 'RoRaCo Río',\n",
    " '1. Proyecto Fauna FMA (Feb-May 2021)\\\\Estación 3. CoRaTe ok\\\\05\\\\100EK113': 'CoRaTe',\n",
    " '1. Proyecto Fauna FMA (Feb-May 2021)\\\\Estación 3. CoRaTe ok\\\\05\\\\101EK113': 'CoRaTe',\n",
    " '1. Proyecto Fauna FMA (Feb-May 2021)\\\\Estación 3. CoRaTe ok\\\\05\\\\102EK113': 'CoRaTe',\n",
    " '1. Proyecto Fauna FMA (Feb-May 2021)\\\\Estación 3. CoRaTe ok\\\\06\\\\DCIM\\\\102EK113': 'CoRaTe',\n",
    " '1. Proyecto Fauna FMA (Feb-May 2021)\\\\Estación 3. CoRaTe ok\\\\06\\\\DCIM\\\\103EK113': 'CoRaTe',\n",
    " '1. Proyecto Fauna FMA (Feb-May 2021)\\\\Estación 4. Araucaria ok\\\\07 ok\\\\100EK113': 'Araucarias',\n",
    " '1. Proyecto Fauna FMA (Feb-May 2021)\\\\Estación 4. Araucaria ok\\\\07 ok\\\\101EK113': 'Araucarias',\n",
    " '1. Proyecto Fauna FMA (Feb-May 2021)\\\\Estación 4. Araucaria ok\\\\07 ok\\\\102EK113': 'Araucarias',\n",
    " '4. Proyecto Fauna FMA (Dic 2021-Mar 2022)\\\\Campaña Primavera-Verano 2021-2022\\\\E1. Bosque RoRaCo-Camping ok\\\\A1\\\\100EK113': 'RoRaCo Río' ,\n",
    " '4. Proyecto Fauna FMA (Dic 2021-Mar 2022)\\\\Campaña Primavera-Verano 2021-2022\\\\E1. Bosque RoRaCo-Camping ok\\\\A1\\\\101EK113': 'RoRaCo Río',\n",
    " '4. Proyecto Fauna FMA (Dic 2021-Mar 2022)\\\\Campaña Primavera-Verano 2021-2022\\\\E1. Bosque RoRaCo-Camping ok\\\\A1\\\\102EK113': 'RoRaCo Río',\n",
    " '4. Proyecto Fauna FMA (Dic 2021-Mar 2022)\\\\Campaña Primavera-Verano 2021-2022\\\\E1. Bosque RoRaCo-Camping ok\\\\A1\\\\103EK113': 'RoRaCo Río',\n",
    " '4. Proyecto Fauna FMA (Dic 2021-Mar 2022)\\\\Campaña Primavera-Verano 2021-2022\\\\E1. Bosque RoRaCo-Camping ok\\\\A2\\\\100EK113': 'RoRaCo Río',\n",
    " '4. Proyecto Fauna FMA (Dic 2021-Mar 2022)\\\\Campaña Primavera-Verano 2021-2022\\\\E2. Bosque RoRaCo-Pradera\\\\A4\\\\100EK113': 'RoRaCo Renoval',\n",
    " '4. Proyecto Fauna FMA (Dic 2021-Mar 2022)\\\\Campaña Primavera-Verano 2021-2022\\\\E3. Bosque CoRaTe ok\\\\A5\\\\100EK113': 'CoRaTe',\n",
    " '4. Proyecto Fauna FMA (Dic 2021-Mar 2022)\\\\Campaña Primavera-Verano 2021-2022\\\\E3. Bosque CoRaTe ok\\\\A6\\\\100EK113': 'CoRaTe',\n",
    " '4. Proyecto Fauna FMA (Dic 2021-Mar 2022)\\\\Campaña Primavera-Verano 2021-2022\\\\E4. Bosque Araucaria OK\\\\A7 ok\\\\100EK113': 'Araucarias',\n",
    " '4. Proyecto Fauna FMA (Dic 2021-Mar 2022)\\\\Campaña Primavera-Verano 2021-2022\\\\E4. Bosque Araucaria OK\\\\A7 ok\\\\101EK113': 'Araucarias',\n",
    " '4. Proyecto Fauna FMA (Dic 2021-Mar 2022)\\\\Campaña Primavera-Verano 2021-2022\\\\E4. Bosque Araucaria OK\\\\A7 ok\\\\103EK113': 'Araucarias',\n",
    " '4. Proyecto Fauna FMA (Dic 2021-Mar 2022)\\\\Campaña Primavera-Verano 2021-2022\\\\E4. Bosque Araucaria OK\\\\A7 ok\\\\104EK113': 'Araucarias',\n",
    " '4. Proyecto Fauna FMA (Dic 2021-Mar 2022)\\\\Campaña Primavera-Verano 2021-2022\\\\E4. Bosque Araucaria OK\\\\A7 ok\\\\105EK113': 'Araucarias',\n",
    " '4. Proyecto Fauna FMA (Dic 2021-Mar 2022)\\\\Campaña Primavera-Verano 2021-2022\\\\E4. Bosque Araucaria OK\\\\A8 ok\\\\100EK113': 'Araucarias',\n",
    " '4. Proyecto Fauna FMA (Dic 2021-Mar 2022)\\\\Campaña Primavera-Verano 2021-2022\\\\E5. Bosque Lenga ok\\\\A10\\\\100EK113': 'Lenga',\n",
    " '4. Proyecto Fauna FMA (Dic 2021-Mar 2022)\\\\Campaña Primavera-Verano 2021-2022\\\\E5. Bosque Lenga ok\\\\A9\\\\103EK113': 'Lenga',\n",
    " '4. Proyecto Fauna FMA (Dic 2021-Mar 2022)\\\\Campaña Primavera-Verano 2021-2022\\\\E5. Bosque Lenga ok\\\\A9\\\\106EK113': 'Lenga',\n",
    " '4. Proyecto Fauna FMA (Dic 2021-Mar 2022)\\\\Campaña Primavera-Verano 2021-2022\\\\E5. Bosque Lenga ok\\\\A9\\\\108EK113': 'Lenga',\n",
    " '4. Proyecto Fauna FMA (Dic 2021-Mar 2022)\\\\Campaña Primavera-Verano 2021-2022\\\\E5. Bosque Lenga ok\\\\A9\\\\109EK113': 'Lenga',\n",
    " '4. Proyecto Fauna FMA (Dic 2021-Mar 2022)\\\\Campaña Primavera-Verano 2021-2022\\\\E5. Bosque Lenga ok\\\\A9\\\\110EK113': 'Lenga',\n",
    " '4. Proyecto Fauna FMA (Dic 2021-Mar 2022)\\\\Campaña Primavera-Verano 2021-2022\\\\E6. Santuario Anfibios OK\\\\A11 OK\\\\100EK113': 'Santuario de anfibios',\n",
    " '4. Proyecto Fauna FMA (Dic 2021-Mar 2022)\\\\Campaña Primavera-Verano 2021-2022\\\\E6. Santuario Anfibios OK\\\\A11 OK\\\\101EK113': 'Santuario de anfibios',\n",
    " '4. Proyecto Fauna FMA (Dic 2021-Mar 2022)\\\\Campaña Primavera-Verano 2021-2022\\\\E6. Santuario Anfibios OK\\\\A11 OK\\\\102EK113': 'Santuario de anfibios',\n",
    " '4. Proyecto Fauna FMA (Dic 2021-Mar 2022)\\\\Campaña Primavera-Verano 2021-2022\\\\E6. Santuario Anfibios OK\\\\A11 OK\\\\103EK113': 'Santuario de anfibios',\n",
    " '4. Proyecto Fauna FMA (Dic 2021-Mar 2022)\\\\Campaña Primavera-Verano 2021-2022\\\\E6. Santuario Anfibios OK\\\\A11 OK\\\\104EK113': 'Santuario de anfibios',\n",
    " '4. Proyecto Fauna FMA (Dic 2021-Mar 2022)\\\\Campaña Primavera-Verano 2021-2022\\\\E6. Santuario Anfibios OK\\\\A12 OK\\\\100EK113': 'Santuario de anfibios',\n",
    "}\n",
    "\n",
    "\n",
    "# Create a new column 'estación' in the DataFrame and fill it with the corresponding values\n",
    "data_UCT['Estacion'] = data_UCT['RelativePath'].map(estacion_dict)"
   ]
  },
  {
   "cell_type": "code",
   "execution_count": null,
   "metadata": {},
   "outputs": [],
   "source": []
  },
  {
   "cell_type": "code",
   "execution_count": 5,
   "metadata": {},
   "outputs": [
    {
     "name": "stdout",
     "output_type": "stream",
     "text": [
      "['RoRaCo Renoval' 'RoRaCo Río' 'CoRaTe' 'Araucarias' 'Lenga'\n",
      " 'Santuario de anfibios']\n"
     ]
    }
   ],
   "source": [
    "unique_Estacion = data_UCT['Estacion'].unique()\n",
    "print(unique_Estacion)"
   ]
  },
  {
   "cell_type": "code",
   "execution_count": null,
   "metadata": {},
   "outputs": [],
   "source": [
    "# Create a dictionary that maps the RelativePath values to the corresponding ID_CamaraTrampa value\n",
    "id_camara_trampa_dict = {\n",
    " '1. Proyecto Fauna FMA (Feb-May 2021)\\\\Estacion 2. RoRaCo ok\\\\03\\\\100EK113 ok': ,\n",
    " '1. Proyecto Fauna FMA (Feb-May 2021)\\\\Estacion 2. RoRaCo ok\\\\04\\\\DCIM\\\\100EK113': ,\n",
    " '1. Proyecto Fauna FMA (Feb-May 2021)\\\\Estacion 2. RoRaCo ok\\\\04\\\\DCIM\\\\102EK113': ,\n",
    " '1. Proyecto Fauna FMA (Feb-May 2021)\\\\Estacion 2. RoRaCo ok\\\\04\\\\DCIM\\\\107EK113': ,\n",
    " '1. Proyecto Fauna FMA (Feb-May 2021)\\\\Estacion 2. RoRaCo ok\\\\04\\\\DCIM\\\\109EK113': ,\n",
    " '1. Proyecto Fauna FMA (Feb-May 2021)\\\\Estación 1. Camping ok\\\\01\\\\DCIM\\\\104EK113': ,\n",
    " '1. Proyecto Fauna FMA (Feb-May 2021)\\\\Estación 1. Camping ok\\\\01\\\\DCIM\\\\107EK113': ,\n",
    " '1. Proyecto Fauna FMA (Feb-May 2021)\\\\Estación 1. Camping ok\\\\01\\\\DCIM\\\\110EK113': ,\n",
    " '1. Proyecto Fauna FMA (Feb-May 2021)\\\\Estación 1. Camping ok\\\\01\\\\DCIM\\\\111EK113': ,\n",
    " '1. Proyecto Fauna FMA (Feb-May 2021)\\\\Estación 3. CoRaTe ok\\\\05\\\\100EK113': ,\n",
    " '1. Proyecto Fauna FMA (Feb-May 2021)\\\\Estación 3. CoRaTe ok\\\\05\\\\101EK113': ,\n",
    " '1. Proyecto Fauna FMA (Feb-May 2021)\\\\Estación 3. CoRaTe ok\\\\05\\\\102EK113': ,\n",
    " '1. Proyecto Fauna FMA (Feb-May 2021)\\\\Estación 3. CoRaTe ok\\\\06\\\\DCIM\\\\102EK113': ,\n",
    " '1. Proyecto Fauna FMA (Feb-May 2021)\\\\Estación 3. CoRaTe ok\\\\06\\\\DCIM\\\\103EK113': ,\n",
    " '1. Proyecto Fauna FMA (Feb-May 2021)\\\\Estación 4. Araucaria ok\\\\07 ok\\\\100EK113': ,\n",
    " '1. Proyecto Fauna FMA (Feb-May 2021)\\\\Estación 4. Araucaria ok\\\\07 ok\\\\101EK113': ,\n",
    " '1. Proyecto Fauna FMA (Feb-May 2021)\\\\Estación 4. Araucaria ok\\\\07 ok\\\\102EK113': ,\n",
    " '4. Proyecto Fauna FMA (Dic 2021-Mar 2022)\\\\Campaña Primavera-Verano 2021-2022\\\\E1. Bosque RoRaCo-Camping ok\\\\A1\\\\100EK113': ,\n",
    " '4. Proyecto Fauna FMA (Dic 2021-Mar 2022)\\\\Campaña Primavera-Verano 2021-2022\\\\E1. Bosque RoRaCo-Camping ok\\\\A1\\\\101EK113': ,\n",
    " '4. Proyecto Fauna FMA (Dic 2021-Mar 2022)\\\\Campaña Primavera-Verano 2021-2022\\\\E1. Bosque RoRaCo-Camping ok\\\\A1\\\\102EK113': ,\n",
    " '4. Proyecto Fauna FMA (Dic 2021-Mar 2022)\\\\Campaña Primavera-Verano 2021-2022\\\\E1. Bosque RoRaCo-Camping ok\\\\A1\\\\103EK113': ,\n",
    " '4. Proyecto Fauna FMA (Dic 2021-Mar 2022)\\\\Campaña Primavera-Verano 2021-2022\\\\E1. Bosque RoRaCo-Camping ok\\\\A2\\\\100EK113': ,\n",
    " '4. Proyecto Fauna FMA (Dic 2021-Mar 2022)\\\\Campaña Primavera-Verano 2021-2022\\\\E2. Bosque RoRaCo-Pradera\\\\A4\\\\100EK113': ,\n",
    " '4. Proyecto Fauna FMA (Dic 2021-Mar 2022)\\\\Campaña Primavera-Verano 2021-2022\\\\E3. Bosque CoRaTe ok\\\\A5\\\\100EK113': ,\n",
    " '4. Proyecto Fauna FMA (Dic 2021-Mar 2022)\\\\Campaña Primavera-Verano 2021-2022\\\\E3. Bosque CoRaTe ok\\\\A6\\\\100EK113': ,\n",
    " '4. Proyecto Fauna FMA (Dic 2021-Mar 2022)\\\\Campaña Primavera-Verano 2021-2022\\\\E4. Bosque Araucaria OK\\\\A7 ok\\\\100EK113': ,\n",
    " '4. Proyecto Fauna FMA (Dic 2021-Mar 2022)\\\\Campaña Primavera-Verano 2021-2022\\\\E4. Bosque Araucaria OK\\\\A7 ok\\\\101EK113': ,\n",
    " '4. Proyecto Fauna FMA (Dic 2021-Mar 2022)\\\\Campaña Primavera-Verano 2021-2022\\\\E4. Bosque Araucaria OK\\\\A7 ok\\\\103EK113': ,\n",
    " '4. Proyecto Fauna FMA (Dic 2021-Mar 2022)\\\\Campaña Primavera-Verano 2021-2022\\\\E4. Bosque Araucaria OK\\\\A7 ok\\\\104EK113': ,\n",
    " '4. Proyecto Fauna FMA (Dic 2021-Mar 2022)\\\\Campaña Primavera-Verano 2021-2022\\\\E4. Bosque Araucaria OK\\\\A7 ok\\\\105EK113': ,\n",
    " '4. Proyecto Fauna FMA (Dic 2021-Mar 2022)\\\\Campaña Primavera-Verano 2021-2022\\\\E4. Bosque Araucaria OK\\\\A8 ok\\\\100EK113': ,\n",
    " '4. Proyecto Fauna FMA (Dic 2021-Mar 2022)\\\\Campaña Primavera-Verano 2021-2022\\\\E5. Bosque Lenga ok\\\\A10\\\\100EK113': ,\n",
    " '4. Proyecto Fauna FMA (Dic 2021-Mar 2022)\\\\Campaña Primavera-Verano 2021-2022\\\\E5. Bosque Lenga ok\\\\A9\\\\103EK113': ,\n",
    " '4. Proyecto Fauna FMA (Dic 2021-Mar 2022)\\\\Campaña Primavera-Verano 2021-2022\\\\E5. Bosque Lenga ok\\\\A9\\\\106EK113': ,\n",
    " '4. Proyecto Fauna FMA (Dic 2021-Mar 2022)\\\\Campaña Primavera-Verano 2021-2022\\\\E5. Bosque Lenga ok\\\\A9\\\\108EK113': ,\n",
    " '4. Proyecto Fauna FMA (Dic 2021-Mar 2022)\\\\Campaña Primavera-Verano 2021-2022\\\\E5. Bosque Lenga ok\\\\A9\\\\109EK113': ,\n",
    " '4. Proyecto Fauna FMA (Dic 2021-Mar 2022)\\\\Campaña Primavera-Verano 2021-2022\\\\E5. Bosque Lenga ok\\\\A9\\\\110EK113': ,\n",
    " '4. Proyecto Fauna FMA (Dic 2021-Mar 2022)\\\\Campaña Primavera-Verano 2021-2022\\\\E6. Santuario Anfibios OK\\\\A11 OK\\\\100EK113': ,\n",
    " '4. Proyecto Fauna FMA (Dic 2021-Mar 2022)\\\\Campaña Primavera-Verano 2021-2022\\\\E6. Santuario Anfibios OK\\\\A11 OK\\\\101EK113': ,\n",
    " '4. Proyecto Fauna FMA (Dic 2021-Mar 2022)\\\\Campaña Primavera-Verano 2021-2022\\\\E6. Santuario Anfibios OK\\\\A11 OK\\\\102EK113': ,\n",
    " '4. Proyecto Fauna FMA (Dic 2021-Mar 2022)\\\\Campaña Primavera-Verano 2021-2022\\\\E6. Santuario Anfibios OK\\\\A11 OK\\\\103EK113': ,\n",
    " '4. Proyecto Fauna FMA (Dic 2021-Mar 2022)\\\\Campaña Primavera-Verano 2021-2022\\\\E6. Santuario Anfibios OK\\\\A11 OK\\\\104EK113': ,\n",
    " '4. Proyecto Fauna FMA (Dic 2021-Mar 2022)\\\\Campaña Primavera-Verano 2021-2022\\\\E6. Santuario Anfibios OK\\\\A12 OK\\\\100EK113': ,\n",
    "}\n",
    "\n",
    "# Create a new column 'ID_CamaraTrampa' in the DataFrame and fill it with the corresponding values\n",
    "data_UCT['ID_CamaraTrampa'] = data_UCT['RelativePath'].map(id_camara_trampa_dict)"
   ]
  },
  {
   "cell_type": "code",
   "execution_count": null,
   "metadata": {},
   "outputs": [],
   "source": [
    "unique_ID_CamapraTrampa = data_UCT['ID_CamaraTrampa'].unique()\n",
    "print(unique_ID_CamapraTrampa)"
   ]
  },
  {
   "cell_type": "code",
   "execution_count": 8,
   "metadata": {},
   "outputs": [
    {
     "name": "stdout",
     "output_type": "stream",
     "text": [
      "Empty DataFrame\n",
      "Columns: [RootFolder, File, RelativePath, DateTime, Counter0, Especie, Note0, Unnamed: 7, Estacion]\n",
      "Index: []\n"
     ]
    }
   ],
   "source": [
    "print(data_UCT[data_UCT['Estacion'].isna()])"
   ]
  },
  {
   "cell_type": "code",
   "execution_count": 6,
   "metadata": {},
   "outputs": [
    {
     "name": "stdout",
     "output_type": "stream",
     "text": [
      "Rows with missing 'Estacion' values:\n",
      "Empty DataFrame\n",
      "Columns: [RootFolder, File, RelativePath, DateTime, Counter0, Especie, Note0, Unnamed: 7, Estacion]\n",
      "Index: []\n"
     ]
    }
   ],
   "source": [
    "# Check for rows with missing 'estación' values\n",
    "print(\"Rows with missing 'Estacion' values:\")\n",
    "print(data_UCT[data_UCT['Estacion'].isna()])\n"
   ]
  },
  {
   "cell_type": "code",
   "execution_count": 7,
   "metadata": {},
   "outputs": [],
   "source": [
    "# Convert the column to datetime format\n",
    "data_UCT['DateTime'] = pd.to_datetime(data_UCT['DateTime'])\n",
    "\n",
    "# Extract year, month, day, and time\n",
    "data_UCT['Year'] = data_UCT['DateTime'].dt.year\n",
    "data_UCT['Month'] = data_UCT['DateTime'].dt.month\n",
    "data_UCT['Day'] = data_UCT['DateTime'].dt.day\n",
    "data_UCT['Time'] = data_UCT['DateTime'].dt.time\n",
    "\n",
    "# Convert 'Time' to string type and then create a new 'Hour' variable\n",
    "data_UCT['Hour'] = data_UCT['Time'].astype(str).str.split(':').str[0]\n",
    "data_UCT['Hour'] = data_UCT['Hour'].astype(int)"
   ]
  },
  {
   "cell_type": "code",
   "execution_count": 8,
   "metadata": {},
   "outputs": [
    {
     "name": "stdout",
     "output_type": "stream",
     "text": [
      "['Verano' 'Otoño' 'Primavera']\n"
     ]
    }
   ],
   "source": [
    "# Define the seasons' date ranges based on 'Month' and 'Day'\n",
    "seasons = {\n",
    "    'Primavera': ((9, 23), (12, 20)),\n",
    "    'Verano': ((12, 21), (3, 20)),\n",
    "    'Otoño': ((3, 21), (6, 20)),\n",
    "    'Invierno': ((6, 21), (9, 22))\n",
    "}\n",
    "\n",
    "def get_season(month, day):\n",
    "    for season, (start, end) in seasons.items():\n",
    "        start_month, start_day = start\n",
    "        end_month, end_day = end\n",
    "        if start_month < end_month:\n",
    "            if (month > start_month or (month == start_month and day >= start_day)) and (month < end_month or (month == end_month and day <= end_day)):\n",
    "                return season\n",
    "        else:  # Seasons that span over two years\n",
    "            if (month > start_month or (month == start_month and day >= start_day)) or (month < end_month or (month == end_month and day <= end_day)):\n",
    "                return season\n",
    "    return None\n",
    "\n",
    "# Apply the function to create the 'Season' column\n",
    "data_UCT['Season'] = data_UCT.apply(lambda row: get_season(row['Month'], row['Day']), axis=1)\n",
    "\n",
    "# Print the first few rows to check\n",
    "print(data_UCT['Season'].unique())\n"
   ]
  },
  {
   "cell_type": "code",
   "execution_count": 9,
   "metadata": {},
   "outputs": [],
   "source": [
    "#deal with episode data. Variable Note0 contains the episode data\n",
    "data_UCT[['Episode_ID', 'Episode_length']] = data_UCT['Note0'].str.split(':', n=1, expand=True)\n"
   ]
  },
  {
   "cell_type": "code",
   "execution_count": 10,
   "metadata": {},
   "outputs": [],
   "source": [
    "data_UCT.loc[(data_UCT['Counter0'] == 0) & (data_UCT['Especie'] != \"\"), 'Counter0'] = 1\n",
    "\n",
    "data_UCT['Especie'] = data_UCT['Especie'].replace('Conejo', 'Liebre')\n",
    "data_UCT['Especie'] = data_UCT['Especie'].replace('Jabalí', 'Jabali')\n",
    "data_UCT['Especie'] = data_UCT['Especie'].replace('Güiña', 'Guiña')\n",
    "data_UCT['Especie'] = data_UCT['Especie'].replace('Conejo', 'Liebre')\n",
    "data_UCT['Especie'] = data_UCT['Especie'].replace('Hued Hued', 'Hued hued')\n",
    "data_UCT['Especie'] = data_UCT['Especie'].replace('Zorro', 'Zorro culpeo')\n",
    "data_UCT = data_UCT.loc[data_UCT['Especie'] != 'Persona']\n"
   ]
  },
  {
   "cell_type": "code",
   "execution_count": 11,
   "metadata": {},
   "outputs": [
    {
     "name": "stdout",
     "output_type": "stream",
     "text": [
      "             Especie  Count\n",
      "0            Caballo      2\n",
      "1            Cachaña      3\n",
      "2            Chingue      3\n",
      "3             Chucao     80\n",
      "4        Ciervo rojo      2\n",
      "5         Cometocino      2\n",
      "6             Concón      1\n",
      "7              Guiña      3\n",
      "8          Hued hued     88\n",
      "9             Jabali     26\n",
      "10          Jilguero      2\n",
      "11            Liebre     17\n",
      "12  Monito del monte      8\n",
      "13              Otro      2\n",
      "14             Perro     12\n",
      "15              Puma      3\n",
      "16        Rata negra      4\n",
      "17  Raton cola larga     24\n",
      "18          Rayadito      1\n",
      "19            Tiuque      3\n",
      "20           Torcaza      2\n",
      "21             Vison      1\n",
      "22      Zorro culpeo    101\n",
      "23            Zorzal     19\n"
     ]
    }
   ],
   "source": [
    "Especie_count = (\n",
    "    data_UCT.groupby(['Especie', 'Episode_ID'])['Counter0']\n",
    "    .max()\n",
    "    .reset_index()  # Add this line to reset the index and get 'Episode_ID' back\n",
    "    .groupby('Especie')['Episode_ID']\n",
    "    .nunique()\n",
    "    .reset_index()\n",
    "    .rename(columns={'Episode_ID': 'Count'})\n",
    ")\n",
    "\n",
    "print(Especie_count)"
   ]
  },
  {
   "cell_type": "code",
   "execution_count": 14,
   "metadata": {},
   "outputs": [],
   "source": [
    "data_2022_2024['DateTime'] = pd.to_datetime(data_2022_2024['DateTime'])\n",
    "# Convert 'Time' to string type and then create a new 'Hour' variable\n",
    "data_2022_2024['Hour'] = data_2022_2024['Time'].astype(str).str.split(':').str[0]\n",
    "data_2022_2024['Hour'] = data_2022_2024['Hour'].astype(int)\n",
    "\n",
    "data_2022_2024['Episode_ID'] = data_2022_2024['Episode_ID'].astype(str)\n",
    "data_UCT['Episode_ID'] = data_UCT['Episode_ID'].astype(str)"
   ]
  },
  {
   "cell_type": "code",
   "execution_count": 15,
   "metadata": {},
   "outputs": [],
   "source": [
    "merged_df = pd.merge(data_2022_2024, data_UCT, on=['Especie', 'DateTime', 'Episode_ID', 'Estacion', 'Counter0', 'RelativePath','Hour'])"
   ]
  },
  {
   "cell_type": "code",
   "execution_count": null,
   "metadata": {},
   "outputs": [
    {
     "name": "stdout",
     "output_type": "stream",
     "text": [
      "Index(['RootFolder', 'File', 'RelativePath', 'DateTime', 'Animal', 'Person',\n",
      "       'Especie', 'Counter0', 'Note0', 'Estacion', 'ID_CamaraTrampa', 'Year',\n",
      "       'Month', 'Day', 'Time', 'Hour', 'Season'],\n",
      "      dtype='object')\n"
     ]
    }
   ],
   "source": [
    "print(data_2022_2024.columns)"
   ]
  },
  {
   "cell_type": "code",
   "execution_count": null,
   "metadata": {},
   "outputs": [
    {
     "name": "stdout",
     "output_type": "stream",
     "text": [
      "Index(['RootFolder', 'File', 'RelativePath', 'DateTime', 'Counter0', 'Especie',\n",
      "       'Note0', 'Unnamed: 7', 'Episode_ID', 'Episode_length'],\n",
      "      dtype='object')\n"
     ]
    }
   ],
   "source": [
    "print(data_UCT.columns)"
   ]
  },
  {
   "cell_type": "code",
   "execution_count": null,
   "metadata": {},
   "outputs": [],
   "source": []
  }
 ],
 "metadata": {
  "kernelspec": {
   "display_name": "base",
   "language": "python",
   "name": "python3"
  },
  "language_info": {
   "codemirror_mode": {
    "name": "ipython",
    "version": 3
   },
   "file_extension": ".py",
   "mimetype": "text/x-python",
   "name": "python",
   "nbconvert_exporter": "python",
   "pygments_lexer": "ipython3",
   "version": "3.10.12"
  }
 },
 "nbformat": 4,
 "nbformat_minor": 2
}
